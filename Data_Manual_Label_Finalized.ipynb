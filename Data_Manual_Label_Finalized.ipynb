{
  "nbformat": 4,
  "nbformat_minor": 0,
  "metadata": {
    "colab": {
      "provenance": []
    },
    "kernelspec": {
      "name": "python3",
      "display_name": "Python 3"
    },
    "language_info": {
      "name": "python"
    }
  },
  "cells": [
    {
      "cell_type": "code",
      "execution_count": 5,
      "metadata": {
        "id": "rilEeUWAXwog"
      },
      "outputs": [],
      "source": [
        "import numpy as np\n",
        "import random\n",
        "random.seed(52)"
      ]
    },
    {
      "cell_type": "code",
      "source": [
        "data = np.load('filtered_price_50.npy', allow_pickle=True)"
      ],
      "metadata": {
        "id": "YaVWyMBKfvxU"
      },
      "execution_count": 6,
      "outputs": []
    },
    {
      "cell_type": "code",
      "source": [
        "random.shuffle(data)"
      ],
      "metadata": {
        "id": "JNJlHBsWfqHz"
      },
      "execution_count": 7,
      "outputs": []
    },
    {
      "cell_type": "code",
      "source": [
        "label_data = data[:150]\n",
        "unlabel_data = data[150:]"
      ],
      "metadata": {
        "id": "DjaWW5d5hFeS"
      },
      "execution_count": 8,
      "outputs": []
    },
    {
      "cell_type": "code",
      "source": [
        "np.save('label_data.npy', label_data, allow_pickle=True)\n",
        "np.save('unlabel_data.npy', unlabel_data, allow_pickle=True)"
      ],
      "metadata": {
        "id": "WEnn_Fr8hcNl"
      },
      "execution_count": 9,
      "outputs": []
    },
    {
      "cell_type": "code",
      "source": [
        "'''\n",
        "# code for generating prompt and manual labeling, no need to run at this time\n",
        "labels = []\n",
        "for index, data in enumerate(label_data):\n",
        "  print(f'this is data {index}')\n",
        "  print(data['title'])\n",
        "  print(data['images'])\n",
        "  print(data['description'])\n",
        "  label = input(\"Classify this product as 0: smart phone, 1: smart phone associate, 2:other \")\n",
        "  labels.append(label)\n",
        "'''"
      ],
      "metadata": {
        "id": "XceR_Bq5iHYZ",
        "colab": {
          "base_uri": "https://localhost:8080/",
          "height": 89
        },
        "outputId": "9f9bdde6-384a-4c7e-edbc-9c5def8d5c72"
      },
      "execution_count": 10,
      "outputs": [
        {
          "output_type": "execute_result",
          "data": {
            "text/plain": [
              "'\\n# code for generating prompt and manual labeling, no need to run at this time\\nlabels = []\\nfor index, data in enumerate(label_data):\\n  print(f\\'this is data {index}\\')\\n  print(data[\\'title\\'])\\n  print(data[\\'images\\'])\\n  print(data[\\'description\\'])\\n  label = input(\"Classify this product as 0: smart phone, 1: smart phone associate, 2:other \")\\n  labels.append(label)\\n'"
            ],
            "application/vnd.google.colaboratory.intrinsic+json": {
              "type": "string"
            }
          },
          "metadata": {},
          "execution_count": 10
        }
      ]
    },
    {
      "cell_type": "code",
      "source": [
        "'''\n",
        "#This is also for manual labeling(look into detail for product that hard to distinguish) no need to run at this time\n",
        "label_data[149]\n",
        "'''"
      ],
      "metadata": {
        "colab": {
          "base_uri": "https://localhost:8080/",
          "height": 53
        },
        "id": "-C8fkGpGlv7M",
        "outputId": "7e81fbc4-4932-4f50-b941-5b41c2ed7747"
      },
      "execution_count": 11,
      "outputs": [
        {
          "output_type": "execute_result",
          "data": {
            "text/plain": [
              "'\\n#This is also for manual labeling(look into detail for product that hard to distinguish) no need to run at this time\\nlabel_data[149]\\n'"
            ],
            "application/vnd.google.colaboratory.intrinsic+json": {
              "type": "string"
            }
          },
          "metadata": {},
          "execution_count": 11
        }
      ]
    },
    {
      "cell_type": "code",
      "source": [
        "# manual label\n",
        "labels = [\n",
        "   #0, 1, 2, 3, 4, 5, 6, 7, 8, 9\n",
        "    2, 0, 0, 0, 1, 1, 1, 1, 1, 1,\n",
        "    0, 1, 1, 0, 1, 1, 2, 1, 0, 1,\n",
        "    0, 1, 0, 1, 0, 1, 0, 0, 2, 1,\n",
        "    0, 2, 1, 1, 1, 1, 0, 2, 0, 0,\n",
        "    0, 2, 2, 0, 1, 2, 0, 1, 1, 0,\n",
        "    0, 0, 0, 2, 1, 1, 1, 0, 0, 1,\n",
        "    0, 0, 1, 1, 0, 1, 1, 0, 1, 1,\n",
        "    0, 1, 1, 1, 1, 1, 2, 2, 1, 1,\n",
        "    0, 0, 1, 1, 0, 1, 1, 0, 1, 0,\n",
        "    0, 1, 1, 0, 0, 0, 1, 0, 1, 1,\n",
        "    0, 0, 1, 1, 1, 1, 1, 1, 1, 2,\n",
        "    0, 1, 2, 1, 2, 1, 1, 0, 1, 0,\n",
        "    1, 1, 2, 0, 2, 0, 2, 1, 2, 0,\n",
        "    1, 1, 1, 1, 1, 0, 0, 1, 0, 0,\n",
        "    1, 1, 2, 1, 0, 0, 0, 1, 1, 1\n",
        "]"
      ],
      "metadata": {
        "id": "mtyTWmEvZDrx"
      },
      "execution_count": 12,
      "outputs": []
    },
    {
      "cell_type": "code",
      "source": [
        "for data, label in zip(label_data, labels):\n",
        "    data['label'] = label"
      ],
      "metadata": {
        "id": "GFzmGHEaaDIa"
      },
      "execution_count": 13,
      "outputs": []
    },
    {
      "cell_type": "code",
      "source": [
        "dataset = [{'title': data['title'], 'description':data['description'], 'details': data['details'], 'label': data['label']} for data in label_data]\n",
        "train_set = dataset[:125]\n",
        "test_set = dataset[125:]"
      ],
      "metadata": {
        "id": "12rnaGBi0tH_"
      },
      "execution_count": 14,
      "outputs": []
    },
    {
      "cell_type": "code",
      "source": [
        "np.save('labeled_data.npy', dataset, allow_pickle=True)"
      ],
      "metadata": {
        "id": "E0zint7rlMks"
      },
      "execution_count": 15,
      "outputs": []
    },
    {
      "cell_type": "code",
      "source": [
        "np.save('train_with_label.npy', train_set, allow_pickle=True)\n",
        "np.save('test_with_label.npy',test_set, allow_pickle=True)"
      ],
      "metadata": {
        "id": "287MzQWB1c5m"
      },
      "execution_count": 16,
      "outputs": []
    }
  ]
}