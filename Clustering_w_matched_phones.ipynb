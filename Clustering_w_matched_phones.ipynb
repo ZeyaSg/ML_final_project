{
  "nbformat": 4,
  "nbformat_minor": 0,
  "metadata": {
    "colab": {
      "provenance": []
    },
    "kernelspec": {
      "name": "python3",
      "display_name": "Python 3"
    },
    "language_info": {
      "name": "python"
    }
  },
  "cells": [
    {
      "cell_type": "code",
      "execution_count": 1,
      "metadata": {
        "id": "piGgMVi-uyP_"
      },
      "outputs": [],
      "source": [
        "import numpy as np\n",
        "import re\n",
        "from sentence_transformers import SentenceTransformer\n",
        "import matplotlib.pyplot as plt\n",
        "from sklearn.decomposition import PCA\n",
        "import pandas as pd\n",
        "from sklearn.cluster import KMeans"
      ]
    },
    {
      "cell_type": "code",
      "source": [
        "data = np.load('matched_phone_complete.npy', allow_pickle = True)"
      ],
      "metadata": {
        "id": "X-7MhX-au8rz"
      },
      "execution_count": 2,
      "outputs": []
    },
    {
      "cell_type": "code",
      "source": [
        "data[1]"
      ],
      "metadata": {
        "colab": {
          "base_uri": "https://localhost:8080/"
        },
        "id": "hrlivvCovPBO",
        "outputId": "58368160-4c34-4d6e-e2bf-148bf32af311"
      },
      "execution_count": 3,
      "outputs": [
        {
          "output_type": "execute_result",
          "data": {
            "text/plain": [
              "{'main_category': 'Cell Phones & Accessories',\n",
              " 'title': 'Samsung Galaxy S20+ 5G, US Version, 128GB, Cosmic Gray for GSM (Renewed)',\n",
              " 'average_rating': 4.0,\n",
              " 'rating_number': 69,\n",
              " 'features': ['This phone is compatible with carriers on the GSM network (e.g. AT&T, T-Mobile, Metro).',\n",
              "  'Please check with your carrier to verify compatibility.',\n",
              "  'When you receive the phone, insert a SIM card from a compatible carrier. Then, turn it on, connect to Wi-Fi, and follow the on screen prompts to activate service.',\n",
              "  'The device does not come with headphones or a SIM card. It does include a charger and charging cable that may be generic.',\n",
              "  'Tested for battery health and guaranteed to have a minimum battery capacity of 80%.'],\n",
              " 'description': ['This pre-owned or refurbished product has been professionally inspected and tested to work and look like new. How a product becomes part of Amazon Renewed, your destination for pre-owned, refurbished products: A customer buys a new product and returns it or trades it in for a newer or different model. That product is inspected and tested to work and look like new by Amazon-qualified suppliers. Then, the product is sold as an Amazon Renewed product on Amazon. If not satisfied with the purchase, renewed products are eligible for replacement or refund under the Amazon Renewed Guarantee.'],\n",
              " 'price': '217.0',\n",
              " 'images': {'hi_res': ['https://m.media-amazon.com/images/I/61BhOwktRUL._AC_SL1500_.jpg',\n",
              "   'https://m.media-amazon.com/images/I/61jfnkRnaUL._AC_SL1500_.jpg',\n",
              "   'https://m.media-amazon.com/images/I/41qzuxcUFZL._AC_SL1500_.jpg',\n",
              "   'https://m.media-amazon.com/images/I/31MDzz1C9ML._AC_SL1500_.jpg',\n",
              "   'https://m.media-amazon.com/images/I/51-gmLk98fL._AC_SL1500_.jpg'],\n",
              "  'large': ['https://m.media-amazon.com/images/I/41JpXvmIKJL._AC_.jpg',\n",
              "   'https://m.media-amazon.com/images/I/31QcM4fpq1L._AC_.jpg',\n",
              "   'https://m.media-amazon.com/images/I/210k1iwcaIL._AC_.jpg',\n",
              "   'https://m.media-amazon.com/images/I/114zPIkBKtL._AC_.jpg',\n",
              "   'https://m.media-amazon.com/images/I/31mIkrtr3cL._AC_.jpg'],\n",
              "  'thumb': ['https://m.media-amazon.com/images/I/41JpXvmIKJL._AC_SR38,50_.jpg',\n",
              "   'https://m.media-amazon.com/images/I/31QcM4fpq1L._AC_SR38,50_.jpg',\n",
              "   'https://m.media-amazon.com/images/I/210k1iwcaIL._AC_SR38,50_.jpg',\n",
              "   'https://m.media-amazon.com/images/I/114zPIkBKtL._AC_SR38,50_.jpg',\n",
              "   'https://m.media-amazon.com/images/I/31mIkrtr3cL._AC_SR38,50_.jpg'],\n",
              "  'variant': ['MAIN', 'PT01', 'PT02', 'PT03', 'PT90']},\n",
              " 'videos': {'title': ['Samsung Galaxy S20',\n",
              "   'Samsung Galaxy S20 Plus',\n",
              "   'Top 10 Unknown Galaxy S20 Ultra Camera Features!',\n",
              "   'Samsung Galaxy S20 FE Real-World Test',\n",
              "   'Samsung Galaxy S20 Ultra 5G review',\n",
              "   'Samsung Galaxy S20 Plus Android Smartphone Review',\n",
              "   'Galaxy S20 on Amazon renewed',\n",
              "   'Samsung Galaxy S20 FE Updated Review! (2021) Should You Buy It?',\n",
              "   'Revvl 6 5G Android Smartphone',\n",
              "   'Dockteck hub for usbc'],\n",
              "  'url': ['https://www.amazon.com/vdp/001fe253cdc94b30b022162590a22501?ref=dp_vse_rvc_0',\n",
              "   'https://www.amazon.com/vdp/ffe3b6b926a14fe4bd1eea4ef9263c37?ref=dp_vse_rvc_1',\n",
              "   'https://www.amazon.com/vdp/cdba4cefd9ca445aaf18d164c8453af0?ref=dp_vse_rvc_2',\n",
              "   'https://www.amazon.com/vdp/29e0da43a7fc47798fe0adb3c2a7979f?ref=dp_vse_rvc_3',\n",
              "   'https://www.amazon.com/vdp/89862a445bfb4f7da1041ecb228fb4af?ref=dp_vse_rvc_4',\n",
              "   'https://www.amazon.com/vdp/0a125b1de72e4af7b980a4c7700c02cc?ref=dp_vse_rvc_5',\n",
              "   'https://www.amazon.com/vdp/527172573e524acf801cf707dadf743c?ref=dp_vse_rvc_6',\n",
              "   'https://www.amazon.com/vdp/0036200b60444a2d884568ff41860d25?ref=dp_vse_rvc_7',\n",
              "   'https://www.amazon.com/vdp/01032a0f391b4e11a88062c2956963a0?ref=dp_vse_rvc_8',\n",
              "   'https://www.amazon.com/vdp/099f7266d0f446bebf552c054b10c94c?ref=dp_vse_rvc_9'],\n",
              "  'user_id': ['',\n",
              "   '',\n",
              "   '/shop/influencer-b7e37734',\n",
              "   '/shop/theunlockr',\n",
              "   '',\n",
              "   '/shop/fashionforwomen',\n",
              "   '/shop/travismcp',\n",
              "   '/shop/influencer-b908c008',\n",
              "   '/shop/thecherieamourshow',\n",
              "   '/shop/influencer-d87f1d48']},\n",
              " 'store': 'Amazon Renewed',\n",
              " 'categories': ['Cell Phones & Accessories', 'Cell Phones'],\n",
              " 'details': '{\"Product Dimensions\": \"7 x 4 x 5 inches\", \"Item Weight\": \"0.01 ounces\", \"Item model number\": \"SM-G985F\", \"Batteries\": \"1 Lithium Ion batteries required.\", \"Best Sellers Rank\": {\"Amazon Renewed\": 4058, \"Climate Pledge Friendly: Electronics\": 3535}, \"Is Discontinued By Manufacturer\": \"No\", \"OS\": \"Android\", \"RAM\": \"8 GB\", \"Wireless communication technologies\": \"Cellular\", \"Connectivity technologies\": \"Wi-Fi\", \"Other display features\": \"Wireless\", \"Human Interface Input\": \"Touchscreen\", \"Other camera features\": \"Front\", \"Form Factor\": \"Smartphone\", \"Color\": \"Cosmic Gray\", \"Whats in the box\": \"Adapter, USB Cable\", \"Manufacturer\": \"Samsung\", \"Date First Available\": \"August 7, 2020\", \"Brand\": \"SAMSUNG\", \"Model Name\": \"S20+\", \"Wireless Carrier\": \"Unlocked for All Carriers\", \"Operating System\": \"Android\", \"Cellular Technology\": \"5G\", \"Memory Storage Capacity\": \"128 GB\", \"Connectivity Technology\": \"Wi-Fi\", \"Screen Size\": \"6.7 Inches\", \"Wireless network technology\": \"GSM, Wi-Fi\"}',\n",
              " 'parent_asin': 'B08FF3XMXR',\n",
              " 'bought_together': None,\n",
              " 'subtitle': None,\n",
              " 'author': None,\n",
              " 'label': 0,\n",
              " 'reviews': [{'rating': 4.0,\n",
              "   'title': 'Seller sent me dysfunctional phone and then a scratched up replacement',\n",
              "   'text': \"I love the Samsung Galaxy line of phones and the S20+ is their best yet! ( I realize it's a few years old, but this one still has expandable storage - unlike the newer models!) The only bummer is the seller sent me a dysfunctional phone at first (the moisture detector immediately came on - with NO exposure to moisture- and would not turn off, so I could not even charge it!) then the replacement they sent me was completely scratched up on the top and bottom! :(  Ugh. Love the phone, unhappy with the condition the seller sent me.\",\n",
              "   'images': array([], dtype=object),\n",
              "   'asin': 'B08FF3XMXR',\n",
              "   'parent_asin': 'B08FF3XMXR',\n",
              "   'user_id': 'AGL265JV65Y52XOGPU65HD5XY67Q',\n",
              "   'timestamp': 1676415457622,\n",
              "   'helpful_vote': 0,\n",
              "   'verified_purchase': True},\n",
              "  {'rating': 5.0,\n",
              "   'title': 'Awesome phone',\n",
              "   'text': 'Phone looked brand new. Everything works perfectly on it. Thank you',\n",
              "   'images': array([], dtype=object),\n",
              "   'asin': 'B08FF3XMXR',\n",
              "   'parent_asin': 'B08FF3XMXR',\n",
              "   'user_id': 'AGEJKL64SBOPVDTVPJM7SHAD3R2Q',\n",
              "   'timestamp': 1660090552854,\n",
              "   'helpful_vote': 0,\n",
              "   'verified_purchase': True},\n",
              "  {'rating': 4.0,\n",
              "   'title': 'Works find',\n",
              "   'text': 'It works ok but think the battery should last at least all day. It does have a good face and takes very clear pictures. I would recommend a new one but be careful buying the renewed one.',\n",
              "   'images': array([], dtype=object),\n",
              "   'asin': 'B08FF3XMXR',\n",
              "   'parent_asin': 'B08FF3XMXR',\n",
              "   'user_id': 'AEEIWOZJAAFZT34XE436QKTQD6CA',\n",
              "   'timestamp': 1674332561783,\n",
              "   'helpful_vote': 0,\n",
              "   'verified_purchase': True},\n",
              "  {'rating': 5.0,\n",
              "   'title': 'Best phone out there',\n",
              "   'text': 'The issue with the fingerprint reader is the only con I really have. There is auto focusing issues when ur doing close ups as well but u can manually fix that. The fingerprint reader is a con but its also a pro. More often then not, when the screen is dark, before the lock screen pops up its almost impossible to input fingerprint data. Idk why but as soon as u click above the fingerprint reader and the lock screen pops up... it works like a charm every time. Why is this good.. well because even with my fingerprint ppl would have a hard time getting into my phone... thanks for the glitch samsung.<br />That being said Im ranked top ten thousand in the world on multiple mobile gaming platforms. I push my phone to the very max and it doesnt flinch! I can have asphalt 8 mobile stremed on my tv while using a bluetooth PS remote and so im using the phone as a console wirelessly and still my phone doesnt even hesitate. Granted im running good guardians app so i can push the threshold and max out my CPU but any civilian with google can do the same thing and enjoy the best phone out their. Tbh the new s21+ and s22+ do not even have 4k screens and so i wouldnt even consider them! For me the Ultra is way overpriced because this phone does everything i need it to and even exceeds my expectations on so many other levels if i were to write about all the accolades id have a book. N e way best phone, for the buck, ive ever laid my hands on!',\n",
              "   'images': array([], dtype=object),\n",
              "   'asin': 'B08FF3XMXR',\n",
              "   'parent_asin': 'B08FF3XMXR',\n",
              "   'user_id': 'AG4S2SVU7QZKT77B4ET6L72LWRPQ',\n",
              "   'timestamp': 1658353734501,\n",
              "   'helpful_vote': 0,\n",
              "   'verified_purchase': True},\n",
              "  {'rating': 5.0,\n",
              "   'title': 'RECEIVED A REALLY GOOD CELLPHONE IN IMMACULATE CONDITION',\n",
              "   'text': \"I needed to replace my old(er) 3G cell phone with one that has 5G capability. What I didn't want to do was spend $800 to $1900 on a current state of the art cell phone. Fortunately I found these Samsung S20+ 'Amazon Refurbished' cell phones.<br /><br />The unit that received was in immaculate condition with no cosmetic blemishes that I could find. Display is crystal clear and the camera(s) work perfectly. This unit worked perfectly right out of the box. All I did was move my SIM card and micro SD card from my old phone. All of my apps and settings transferred painlessly from my old phone. It even transferred which bluetooth devices that I had paired with my old cell phone. I had to repair the devices but it was much easier not having to scan for devices and then pair them.<br /><br />In summary this was a great purchase from a reliable seller. Incidentally they shipped it almost immediately and it arrived one day earlier than Amazon estimated.<br /><br />I can highly recommed this seller and this cell phone to those who might need to upgrade like I did.\",\n",
              "   'images': array([], dtype=object),\n",
              "   'asin': 'B08FF3XMXR',\n",
              "   'parent_asin': 'B08FF3XMXR',\n",
              "   'user_id': 'AENYHI5H3F6H622JV6OP5RB2NTUA',\n",
              "   'timestamp': 1664421307057,\n",
              "   'helpful_vote': 1,\n",
              "   'verified_purchase': True},\n",
              "  {'rating': 5.0,\n",
              "   'title': 'Me Encantó 💕 😍',\n",
              "   'text': 'Todo me agrado de este celular la pila dura todo el día y no me debo de preocupar, por estarlo cargando durante el día<br />Y lo de las huellas dactilares es muy fácil de usar no tengo ningún problema<br />Si volveria a comprar uno de estos celulares de verdad que si lo recomiendo. 🤗😁',\n",
              "   'images': array([], dtype=object),\n",
              "   'asin': 'B08FF3XMXR',\n",
              "   'parent_asin': 'B08FF3XMXR',\n",
              "   'user_id': 'AHRK22RX25GXSDKG6EFY5SDBLDXA',\n",
              "   'timestamp': 1670342452309,\n",
              "   'helpful_vote': 0,\n",
              "   'verified_purchase': True},\n",
              "  {'rating': 4.0,\n",
              "   'title': 'Works okay.',\n",
              "   'text': \"The network connection works great, but there's a notification that won't go away saying  the activation to the network did not work, and keeps retracing, which wastes the battery. Fingerprint scanner sucks... the one on the S9 was way better than the one thru the screen. Facial recognition sometimes worked, sometimes didn't, so I turned it off. Now I'm back to the pin to unlock my screen (soooo 15 years ago)\",\n",
              "   'images': array([], dtype=object),\n",
              "   'asin': 'B08FF3XMXR',\n",
              "   'parent_asin': 'B08FF3XMXR',\n",
              "   'user_id': 'AGKYPF2SMLMESYYBVYIJOKV33HCA',\n",
              "   'timestamp': 1664033291268,\n",
              "   'helpful_vote': 0,\n",
              "   'verified_purchase': True},\n",
              "  {'rating': 1.0,\n",
              "   'title': 'Extremely short battery life already',\n",
              "   'text': 'Not sure if it is this model phone, or just the refurb that I received. But the battery is going from 100% to below 50% before it is even Noon, with bluetooth off. Seems way too fast for something that will only degrade more from here.<br /><br />Update: after 2 weeks the battery life is only 24 hours on power saving mode...that is nowhere near 75% capacity as claimed.',\n",
              "   'images': array([], dtype=object),\n",
              "   'asin': 'B08FF3XMXR',\n",
              "   'parent_asin': 'B08FF3XMXR',\n",
              "   'user_id': 'AEN7BONEU7RJQEOUCMWWIKSOO3SA',\n",
              "   'timestamp': 1661533304793,\n",
              "   'helpful_vote': 2,\n",
              "   'verified_purchase': True},\n",
              "  {'rating': 2.0,\n",
              "   'title': \"Great if you don't take photos.\",\n",
              "   'text': 'Phone would continously update even after update was installed (did 4 consecutive times). Then the camera does not work. Even after clearing the cache, starting in safe mode, deleting files, and finally resetting from scratch (with no apps installed) the camera did not work. I always got the message \"camera failed\" (as pictured). They obviously did not do a quality check on this refurb.',\n",
              "   'images': array([{'attachment_type': 'IMAGE', 'large_image_url': 'https://m.media-amazon.com/images/I/31tkPro8dmL._SL1600_.jpg', 'medium_image_url': 'https://m.media-amazon.com/images/I/31tkPro8dmL._SL800_.jpg', 'small_image_url': 'https://m.media-amazon.com/images/I/31tkPro8dmL._SL256_.jpg'}],\n",
              "         dtype=object),\n",
              "   'asin': 'B08FF3XMXR',\n",
              "   'parent_asin': 'B08FF3XMXR',\n",
              "   'user_id': 'AEAHU2ZWUBXTH75YGPLX6AC6LCAQ',\n",
              "   'timestamp': 1670457644952,\n",
              "   'helpful_vote': 1,\n",
              "   'verified_purchase': True},\n",
              "  {'rating': 2.0,\n",
              "   'title': 'PANTALLA EN MAL ESTADO Y NO ES DUAL SIN COMO DICE',\n",
              "   'text': '[[VIDEOID:ac5d2dd23301a556dff8d03a83e80194]] Celular con pantalla defectuosa y no cumple con las especificaciones.',\n",
              "   'images': array([{'attachment_type': 'IMAGE', 'large_image_url': 'https://m.media-amazon.com/images/I/511dYGMQjML._SL1600_.jpg', 'medium_image_url': 'https://m.media-amazon.com/images/I/511dYGMQjML._SL800_.jpg', 'small_image_url': 'https://m.media-amazon.com/images/I/511dYGMQjML._SL256_.jpg'},\n",
              "          {'attachment_type': 'IMAGE', 'large_image_url': 'https://m.media-amazon.com/images/I/51Na0++xodL._SL1600_.jpg', 'medium_image_url': 'https://m.media-amazon.com/images/I/51Na0++xodL._SL800_.jpg', 'small_image_url': 'https://m.media-amazon.com/images/I/51Na0++xodL._SL256_.jpg'}],\n",
              "         dtype=object),\n",
              "   'asin': 'B08FF3XMXR',\n",
              "   'parent_asin': 'B08FF3XMXR',\n",
              "   'user_id': 'AFRRTDXNKC5RUGVWDQCQOCYAEQVQ',\n",
              "   'timestamp': 1673157557614,\n",
              "   'helpful_vote': 1,\n",
              "   'verified_purchase': True},\n",
              "  {'rating': 1.0,\n",
              "   'title': 'Phone not turning on after 1 month',\n",
              "   'text': \"Phone broke after 1 month of being used. We contacted the vendor and they don't do anything.Please dont buy from them\",\n",
              "   'images': array([], dtype=object),\n",
              "   'asin': 'B08FF3XMXR',\n",
              "   'parent_asin': 'B08FF3XMXR',\n",
              "   'user_id': 'AGGKD3MLDJR2M4XXRPQSNKTGV5AA',\n",
              "   'timestamp': 1668627422167,\n",
              "   'helpful_vote': 0,\n",
              "   'verified_purchase': True},\n",
              "  {'rating': 2.0,\n",
              "   'title': 'Definitely not \"excellent\" condition',\n",
              "   'text': 'Very excited to get an overnight delivery of my replacement phone but on power up I found dead pixels on the left side and the metal edge all around the phone was chewed up.  This is NOT excellent condition!  I did not give it 1 star because the actual phone was clean (i.e. no previous phone company logos) and in that regard it exceeded my expectation.  Unfortunately, it was not in the shape I paid for so back it goes to Amazon.',\n",
              "   'images': array([], dtype=object),\n",
              "   'asin': 'B08FF3XMXR',\n",
              "   'parent_asin': 'B08FF3XMXR',\n",
              "   'user_id': 'AFA773TBSQEPVZPXIFBUVFJMKJTA',\n",
              "   'timestamp': 1676484256422,\n",
              "   'helpful_vote': 0,\n",
              "   'verified_purchase': True},\n",
              "  {'rating': 1.0,\n",
              "   'title': \"Renewed, (I don't think so) just a used broken phone put in a box and shipped\",\n",
              "   'text': 'Phone with a charging port moisture lock once I finished updating it. Phone was unusable after that. Had to return.',\n",
              "   'images': array([], dtype=object),\n",
              "   'asin': 'B08FF3XMXR',\n",
              "   'parent_asin': 'B08FF3XMXR',\n",
              "   'user_id': 'AFCLP7XKNGG27JQJFHPYPJWQZLOQ',\n",
              "   'timestamp': 1673819765798,\n",
              "   'helpful_vote': 0,\n",
              "   'verified_purchase': True},\n",
              "  {'rating': 5.0,\n",
              "   'title': 'Lots of space for apps',\n",
              "   'text': 'Bought two for my wife and I plenty of space for apps and able to take an SD card if necessary, camera is really good 👍',\n",
              "   'images': array([], dtype=object),\n",
              "   'asin': 'B08FF3XMXR',\n",
              "   'parent_asin': 'B08FF3XMXR',\n",
              "   'user_id': 'AGGTS6YHL3BOEHYC4ZGCW6EESGTA',\n",
              "   'timestamp': 1665269200747,\n",
              "   'helpful_vote': 0,\n",
              "   'verified_purchase': True},\n",
              "  {'rating': 5.0,\n",
              "   'title': 'Nice looking phone.',\n",
              "   'text': 'I bought this phone as a guft and still working great. Fast shipping as well.',\n",
              "   'images': array([], dtype=object),\n",
              "   'asin': 'B08FF3XMXR',\n",
              "   'parent_asin': 'B08FF3XMXR',\n",
              "   'user_id': 'AFGHL4UZGYW2XMKEK2RVKP64VZFA',\n",
              "   'timestamp': 1681563739082,\n",
              "   'helpful_vote': 0,\n",
              "   'verified_purchase': True},\n",
              "  {'rating': 4.0,\n",
              "   'title': 'Great price for a refurbished S22+',\n",
              "   'text': \"Phone came clean and ready to setup with no software issues. Had slight scratches on the screen and on the edges of the phone. Came as stated in the description so can't complain about the defects. Phone battery lasts longer than my S9 and the applications run very smooth comparatively.\",\n",
              "   'images': array([], dtype=object),\n",
              "   'asin': 'B08FF3XMXR',\n",
              "   'parent_asin': 'B08FF3XMXR',\n",
              "   'user_id': 'AGXJ3G6E7WDZPGEAQASPIN5LWQ4Q',\n",
              "   'timestamp': 1669487667332,\n",
              "   'helpful_vote': 0,\n",
              "   'verified_purchase': True},\n",
              "  {'rating': 5.0,\n",
              "   'title': 'Awesome phone',\n",
              "   'text': 'Very good product',\n",
              "   'images': array([], dtype=object),\n",
              "   'asin': 'B08FF3XMXR',\n",
              "   'parent_asin': 'B08FF3XMXR',\n",
              "   'user_id': 'AEK2FMCEI4DALPCJ772CWZYPGQXQ',\n",
              "   'timestamp': 1624736420145,\n",
              "   'helpful_vote': 0,\n",
              "   'verified_purchase': True},\n",
              "  {'rating': 5.0,\n",
              "   'title': 'Incredible speed, and upgradeable storage',\n",
              "   'text': \"Can't beat the value on this phone. Phone received in immaculate condition; I don't think it has ever been used. After software updates it is now running Android 13, a huge improvement over previous android versions. Phone arrived in two days, a 2020 flagship model for an incredible price.\",\n",
              "   'images': array([], dtype=object),\n",
              "   'asin': 'B08FF3XMXR',\n",
              "   'parent_asin': 'B08FF3XMXR',\n",
              "   'user_id': 'AG7UCUUYZHMGT2UCMYNBKZSN7HXQ',\n",
              "   'timestamp': 1682079494906,\n",
              "   'helpful_vote': 0,\n",
              "   'verified_purchase': True},\n",
              "  {'rating': 2.0,\n",
              "   'title': 'Was not compatible with T-Mobile',\n",
              "   'text': 'The ad for this phone says, \"This phone is compatible with carriers on the GSM network (e.g. AT&T, T-Mobile, Metro).\"  Well the one that I received could not be connected to T-Mobile.  Thanks for wasting my time!',\n",
              "   'images': array([], dtype=object),\n",
              "   'asin': 'B08FF3XMXR',\n",
              "   'parent_asin': 'B08FF3XMXR',\n",
              "   'user_id': 'AGSBGHP4YY675MDGR4B4HPLCBYPQ',\n",
              "   'timestamp': 1670173073393,\n",
              "   'helpful_vote': 1,\n",
              "   'verified_purchase': True},\n",
              "  {'rating': 1.0,\n",
              "   'title': 'not compatible with verizon network',\n",
              "   'text': 'this imei not compatible with verizon network.',\n",
              "   'images': array([], dtype=object),\n",
              "   'asin': 'B08FF3XMXR',\n",
              "   'parent_asin': 'B08FF3XMXR',\n",
              "   'user_id': 'AGAED2PSYWBHKYKIZLGUK3P4CB6A',\n",
              "   'timestamp': 1665260066639,\n",
              "   'helpful_vote': 0,\n",
              "   'verified_purchase': True},\n",
              "  {'rating': 2.0,\n",
              "   'title': 'Not \"Excellent\" Condition',\n",
              "   'text': 'The received phone does not match criteria of an excellent condition Amazon Renewed item. The biggest problems were:<br />- Significant ghost images on the screen due to burn-in<br />- Significant scratches and damage to the body<br />- Minor but noticeable scratches on the screen<br />- 10W charger instead of 25W. It\\'s fine that it\\'s generic rather than OEM, but it should be a generic 25W charger to be considered \"fully functional\".<br /><br />The scratches would qualify this phone as \"Acceptable condition\", not \"Excellent condition\". The burn-in and inadequate charger are unacceptable.',\n",
              "   'images': array([], dtype=object),\n",
              "   'asin': 'B08FF3XMXR',\n",
              "   'parent_asin': 'B08FF3XMXR',\n",
              "   'user_id': 'AGRI6P5SPEW75HJ2S3KGKABGBTUA',\n",
              "   'timestamp': 1686870721734,\n",
              "   'helpful_vote': 0,\n",
              "   'verified_purchase': True},\n",
              "  {'rating': 5.0,\n",
              "   'title': 'Excellent',\n",
              "   'text': 'Phone works perfectly',\n",
              "   'images': array([], dtype=object),\n",
              "   'asin': 'B08FF3XMXR',\n",
              "   'parent_asin': 'B08FF3XMXR',\n",
              "   'user_id': 'AGWWDHPZTGQJMHP5HZERQIRZS7DQ',\n",
              "   'timestamp': 1677937628307,\n",
              "   'helpful_vote': 0,\n",
              "   'verified_purchase': True},\n",
              "  {'rating': 5.0,\n",
              "   'title': 'Great refurbish!!!',\n",
              "   'text': 'Phone arrived in like brand new condition! Thanks so much!',\n",
              "   'images': array([], dtype=object),\n",
              "   'asin': 'B08FF3XMXR',\n",
              "   'parent_asin': 'B08FF3XMXR',\n",
              "   'user_id': 'AFZNEP3SROWE6PUWVZSDM2CDMUZQ',\n",
              "   'timestamp': 1670889204967,\n",
              "   'helpful_vote': 0,\n",
              "   'verified_purchase': True},\n",
              "  {'rating': 5.0,\n",
              "   'title': 'Good phone',\n",
              "   'text': 'Phone is good as new. Thanks you',\n",
              "   'images': array([], dtype=object),\n",
              "   'asin': 'B08FF3XMXR',\n",
              "   'parent_asin': 'B08FF3XMXR',\n",
              "   'user_id': 'AHR2N4RY5FITOD2Z4HFLKQL6OT3Q',\n",
              "   'timestamp': 1683783238632,\n",
              "   'helpful_vote': 0,\n",
              "   'verified_purchase': True},\n",
              "  {'rating': 3.0,\n",
              "   'title': 'Great Condition',\n",
              "   'text': \"Phone was received in great condition. It looks new without any scratches. One major problem, however, is that while it says fully unlocked, the sim management is locked and as such esim cannot be added. That's a disappointment as I cannot add my esim number.\",\n",
              "   'images': array([], dtype=object),\n",
              "   'asin': 'B08FF3XMXR',\n",
              "   'parent_asin': 'B08FF3XMXR',\n",
              "   'user_id': 'AHD5Q4JVTRU6XRQJ4DWLAAM2XGHQ',\n",
              "   'timestamp': 1674004166176,\n",
              "   'helpful_vote': 0,\n",
              "   'verified_purchase': True}],\n",
              " 'matched_specs': {'phone_brand': 'samsung',\n",
              "  'phone_model': 'Samsung Galaxy S20 5G',\n",
              "  'store': 'Amazon DE',\n",
              "  'price_usd': 376.92,\n",
              "  'storage': 128,\n",
              "  'ram': 12,\n",
              "  'launch_date': '2020-03-06',\n",
              "  'dimensions': '151.7 x 69.1 x 7.9 mm (5.97 x 2.72 x 0.31 in)',\n",
              "  'weight': 163.0,\n",
              "  'display_type': 'Dynamic AMOLED 2X, 120Hz, HDR10+, 1200 nits (peak)',\n",
              "  'display_size': 6.2,\n",
              "  'display_resolution': '1440 x 3200',\n",
              "  'os': 'Android 10, upgradable to Android 13, One UI 5.1',\n",
              "  'nfc': 1,\n",
              "  'usb': 'USB Type-C 3.2, OTG',\n",
              "  'battery': 4000,\n",
              "  'features_sensors': 'Fingerprint (under display, ultrasonic), accelerometer, gyro, proximity, compass, barometer',\n",
              "  'colors': 'Cosmic Grey, Cloud Blue, Cloud Pink, Cloud White, Aura Red',\n",
              "  'video': '8K@24fps, 4K@30/60fps, 1080p@30/60/240fps, 720p@960fps, HDR10+, stereo sound rec., gyro-EIS & OIS',\n",
              "  'chipset': 'Exynos 990 (7 nm+) - Global',\n",
              "  'cpu': 'Octa-core (2x2.73 GHz Mongoose M5 & 2x2.50 GHz Cortex-A76 & 4x2.0 GHz Cortex-A55) - Global',\n",
              "  'gpu': 'Mali-G77 MP11 - Global',\n",
              "  'year': '2020-01-01',\n",
              "  'foldable': 0,\n",
              "  'ppi_density': 563,\n",
              "  'quantile_10': 100.8,\n",
              "  'quantile_50': 196.81,\n",
              "  'quantile_90': 491.512,\n",
              "  'price_range': 'medium price',\n",
              "  'os_type': 'Android',\n",
              "  'os_version': '10',\n",
              "  'battery_size': 'Medium',\n",
              "  'colors_available': 5,\n",
              "  'chip_company': 'Exynos',\n",
              "  'cpu_core': 'Octa-core',\n",
              "  'gpu_company': 'Mali',\n",
              "  'fingerprint': 'under',\n",
              "  'video_resolution': '8K',\n",
              "  'storage_str': '128 GB',\n",
              "  'phone_brand_norm': 'samsung',\n",
              "  'phone_model_norm': 'samsung galaxy s20 5g',\n",
              "  'storage_str_norm': '128 gb',\n",
              "  'storage_str_standard': '128 GB',\n",
              "  'model_length': 21}}"
            ]
          },
          "metadata": {},
          "execution_count": 3
        }
      ]
    },
    {
      "cell_type": "code",
      "source": [
        "def concatenate_text(data):\n",
        "  review_texts = \"\".join(review['text'] for review in data['reviews'])\n",
        "  return review_texts"
      ],
      "metadata": {
        "id": "FVwZFq1PvYJE"
      },
      "execution_count": 3,
      "outputs": []
    },
    {
      "cell_type": "code",
      "source": [
        "def clean_review(text):\n",
        "  text = re.sub(r'[^\\x00-\\x7F]+', '', text)\n",
        "  text = re.sub(r'[\\[\\(\\<].*?[\\]\\)\\>]', '', text)\n",
        "  return text"
      ],
      "metadata": {
        "id": "1PfzzlrSvZal"
      },
      "execution_count": 4,
      "outputs": []
    },
    {
      "cell_type": "code",
      "source": [
        "reviews = [{'review': clean_review(concatenate_text(product))} for product in data]"
      ],
      "metadata": {
        "id": "1fsbihFUvdPn"
      },
      "execution_count": 5,
      "outputs": []
    },
    {
      "cell_type": "code",
      "source": [
        "reviews[1]"
      ],
      "metadata": {
        "colab": {
          "base_uri": "https://localhost:8080/"
        },
        "id": "t3Y_w4aNvy6o",
        "outputId": "25774979-f774-44c4-da08-6720c73c31c2"
      },
      "execution_count": 15,
      "outputs": [
        {
          "output_type": "execute_result",
          "data": {
            "text/plain": [
              "{'review': 'I love the Samsung Galaxy line of phones and the S20+ is their best yet!  The only bummer is the seller sent me a dysfunctional phone at first  then the replacement they sent me was completely scratched up on the top and bottom! :That being said Im ranked top ten thousand in the world on multiple mobile gaming platforms. I push my phone to the very max and it doesnt flinch! I can have asphalt 8 mobile stremed on my tv while using a bluetooth PS remote and so im using the phone as a console wirelessly and still my phone doesnt even hesitate. Granted im running good guardians app so i can push the threshold and max out my CPU but any civilian with google can do the same thing and enjoy the best phone out their. Tbh the new s21+ and s22+ do not even have 4k screens and so i wouldnt even consider them! For me the Ultra is way overpriced because this phone does everything i need it to and even exceeds my expectations on so many other levels if i were to write about all the accolades id have a book. N e way best phone, for the buck, ive ever laid my hands on!I needed to replace my old 3G cell phone with one that has 5G capability. What I didn\\'t want to do was spend $800 to $1900 on a current state of the art cell phone. Fortunately I found these Samsung S20+ \\'Amazon Refurbished\\' cell phones.The unit that received was in immaculate condition with no cosmetic blemishes that I could find. Display is crystal clear and the camera work perfectly. This unit worked perfectly right out of the box. All I did was move my SIM card and micro SD card from my old phone. All of my apps and settings transferred painlessly from my old phone. It even transferred which bluetooth devices that I had paired with my old cell phone. I had to repair the devices but it was much easier not having to scan for devices and then pair them.In summary this was a great purchase from a reliable seller. Incidentally they shipped it almost immediately and it arrived one day earlier than Amazon estimated.I can highly recommed this seller and this cell phone to those who might need to upgrade like I did.Todo me agrado de este celular la pila dura todo el da y no me debo de preocupar, por estarlo cargando durante el daY lo de las huellas dactilares es muy fcil de usar no tengo ningn problemaSi volveria a comprar uno de estos celulares de verdad que si lo recomiendo. The network connection works great, but there\\'s a notification that won\\'t go away saying  the activation to the network did not work, and keeps retracing, which wastes the battery. Fingerprint scanner sucks... the one on the S9 was way better than the one thru the screen. Facial recognition sometimes worked, sometimes didn\\'t, so I turned it off. Now I\\'m back to the pin to unlock my screen Not sure if it is this model phone, or just the refurb that I received. But the battery is going from 100% to below 50% before it is even Noon, with bluetooth off. Seems way too fast for something that will only degrade more from here.Update: after 2 weeks the battery life is only 24 hours on power saving mode...that is nowhere near 75% capacity as claimed.Phone would continously update even after update was installed . Then the camera does not work. Even after clearing the cache, starting in safe mode, deleting files, and finally resetting from scratch  the camera did not work. I always got the message \"camera failed\" . They obviously did not do a quality check on this refurb.] Celular con pantalla defectuosa y no cumple con las especificaciones.Phone broke after 1 month of being used. We contacted the vendor and they don\\'t do anything.Please dont buy from themVery excited to get an overnight delivery of my replacement phone but on power up I found dead pixels on the left side and the metal edge all around the phone was chewed up.  This is NOT excellent condition!  I did not give it 1 star because the actual phone was clean  and in that regard it exceeded my expectation.  Unfortunately, it was not in the shape I paid for so back it goes to Amazon.Phone with a charging port moisture lock once I finished updating it. Phone was unusable after that. Had to return.Bought two for my wife and I plenty of space for apps and able to take an SD card if necessary, camera is really good I bought this phone as a guft and still working great. Fast shipping as well.Phone came clean and ready to setup with no software issues. Had slight scratches on the screen and on the edges of the phone. Came as stated in the description so can\\'t complain about the defects. Phone battery lasts longer than my S9 and the applications run very smooth comparatively.Very good productCan\\'t beat the value on this phone. Phone received in immaculate condition; I don\\'t think it has ever been used. After software updates it is now running Android 13, a huge improvement over previous android versions. Phone arrived in two days, a 2020 flagship model for an incredible price.The ad for this phone says, \"This phone is compatible with carriers on the GSM network .\"  Well the one that I received could not be connected to T-Mobile.  Thanks for wasting my time!this imei not compatible with verizon network.The received phone does not match criteria of an excellent condition Amazon Renewed item. The biggest problems were:- Significant ghost images on the screen due to burn-in- Significant scratches and damage to the body- Minor but noticeable scratches on the screen- 10W charger instead of 25W. It\\'s fine that it\\'s generic rather than OEM, but it should be a generic 25W charger to be considered \"fully functional\".The scratches would qualify this phone as \"Acceptable condition\", not \"Excellent condition\". The burn-in and inadequate charger are unacceptable.Phone works perfectlyPhone arrived in like brand new condition! Thanks so much!Phone is good as new. Thanks youPhone was received in great condition. It looks new without any scratches. One major problem, however, is that while it says fully unlocked, the sim management is locked and as such esim cannot be added. That\\'s a disappointment as I cannot add my esim number.'}"
            ]
          },
          "metadata": {},
          "execution_count": 15
        }
      ]
    },
    {
      "cell_type": "code",
      "source": [
        "model = SentenceTransformer(\"all-MiniLM-L6-v2\")"
      ],
      "metadata": {
        "id": "_Cgf13g-v-tF"
      },
      "execution_count": null,
      "outputs": []
    },
    {
      "cell_type": "code",
      "source": [
        "review_features = model.encode(reviews)"
      ],
      "metadata": {
        "id": "7Uhh_Yk2wJ4r"
      },
      "execution_count": 7,
      "outputs": []
    },
    {
      "cell_type": "code",
      "source": [
        "review_features.shape"
      ],
      "metadata": {
        "colab": {
          "base_uri": "https://localhost:8080/"
        },
        "id": "HT66HzNV6diH",
        "outputId": "244bd034-2ca4-4467-cf63-53796d0deb5a"
      },
      "execution_count": 8,
      "outputs": [
        {
          "output_type": "execute_result",
          "data": {
            "text/plain": [
              "(438, 384)"
            ]
          },
          "metadata": {},
          "execution_count": 8
        }
      ]
    },
    {
      "cell_type": "code",
      "source": [
        "np.save(\"matched_review_features.npy\", review_features, allow_pickle=True)"
      ],
      "metadata": {
        "id": "aQJHaISHQdKv"
      },
      "execution_count": 9,
      "outputs": []
    },
    {
      "cell_type": "code",
      "source": [
        "brand = np.array([product['matched_specs']['phone_brand'] for product in data])\n",
        "os = np.array([product['matched_specs']['os'] for product in data])\n",
        "battery = np.array([product['matched_specs']['battery'] for product in data])\n",
        "chipset = np.array([product['matched_specs']['chipset'] for product in data])\n",
        "cpu = np.array([product['matched_specs']['cpu'] for product in data])\n",
        "gpu = np.array([product['matched_specs']['gpu'] for product in data])\n",
        "ram = np.array([product['matched_specs']['ram'] for product in data])\n",
        "weight = np.array([product['matched_specs']['weight'] for product in data])\n",
        "display_size = np.array([product['matched_specs']['display_size'] for product in data])"
      ],
      "metadata": {
        "id": "gBpWnmIPwZXT"
      },
      "execution_count": 10,
      "outputs": []
    },
    {
      "cell_type": "code",
      "source": [
        "features = np.column_stack((brand, os, battery, chipset, cpu, gpu, ram, weight, display_size, review_features))"
      ],
      "metadata": {
        "id": "uMrDq3CS5ROj"
      },
      "execution_count": 11,
      "outputs": []
    },
    {
      "cell_type": "code",
      "source": [
        "df = pd.DataFrame(features)\n",
        "print(df)"
      ],
      "metadata": {
        "colab": {
          "base_uri": "https://localhost:8080/"
        },
        "id": "gXd--4HGAJDf",
        "outputId": "96f8a255-da63-4721-ad28-a87f4c767a2a"
      },
      "execution_count": 16,
      "outputs": [
        {
          "output_type": "stream",
          "name": "stdout",
          "text": [
            "         0                                                  1     2    \\\n",
            "0    samsung   Android 10, upgradable to Android 13, One UI 5.1  4000   \n",
            "1    samsung   Android 10, upgradable to Android 13, One UI 5.1  4000   \n",
            "2     xiaomi                                Android 11, MIUI 13  5000   \n",
            "3    samsung  Android 12, up to 4 major Android upgrades, On...  5000   \n",
            "4      apple                     iOS 14.1, upgradable to iOS 18  2227   \n",
            "..       ...                                                ...   ...   \n",
            "433  samsung  Android 13, up to 4 major Android upgrades, On...  5000   \n",
            "434  oneplus  Android 12, upgradable to Android 14, OxygenOS...  5000   \n",
            "435  samsung   Android 11, upgradable to Android 14, One UI 6.1  4500   \n",
            "436  samsung  Android 13, upgradable to Android 14, One UI C...  5000   \n",
            "437     asus               Android 11, upgradable to Android 13  4000   \n",
            "\n",
            "                                           3    \\\n",
            "0                  Exynos 990 (7 nm+) - Global   \n",
            "1                  Exynos 990 (7 nm+) - Global   \n",
            "2            Mediatek MT6781 Helio G96 (12 nm)   \n",
            "3                  Exynos 2200 (4 nm) - Europe   \n",
            "4                      Apple A14 Bionic (5 nm)   \n",
            "..                                         ...   \n",
            "433                         Exynos 1380 (5 nm)   \n",
            "434  Qualcomm SM8450 Snapdragon 8 Gen 1 (4 nm)   \n",
            "435     Qualcomm SM7125 Snapdragon 720G (8 nm)   \n",
            "436              Exynos 1330 (5 nm) - SM-A146B   \n",
            "437   Qualcomm SM8350 Snapdragon 888 5G (5 nm)   \n",
            "\n",
            "                                                   4    \\\n",
            "0    Octa-core (2x2.73 GHz Mongoose M5 & 2x2.50 GHz...   \n",
            "1    Octa-core (2x2.73 GHz Mongoose M5 & 2x2.50 GHz...   \n",
            "2    Octa-core (2x2.05 GHz Cortex-A76 & 6x2.0 GHz C...   \n",
            "3    Octa-core (1x2.8 GHz Cortex-X2 & 3x2.50 GHz Co...   \n",
            "4    Hexa-core (2x3.1 GHz Firestorm + 4x1.8 GHz Ice...   \n",
            "..                                                 ...   \n",
            "433  Octa-core (4x2.4 GHz Cortex-A78 & 4x2.0 GHz Co...   \n",
            "434  Octa-core (1x3.00 GHz Cortex-X2 & 3x2.50 GHz C...   \n",
            "435  Octa-core (2x2.3 GHz Kryo 465 Gold & 6x1.8 GHz...   \n",
            "436  Octa-core (2x2.4 GHz Cortex-A78 & 6x2.0 GHz Co...   \n",
            "437  Octa-core (1x2.84 GHz Cortex-X1 & 3x2.42 GHz C...   \n",
            "\n",
            "                             5   6      7     8             9    ...  \\\n",
            "0         Mali-G77 MP11 - Global  12  163.0   6.2    -0.1148869  ...   \n",
            "1         Mali-G77 MP11 - Global  12  163.0   6.2   -0.10750521  ...   \n",
            "2                   Mali-G57 MC2   6  202.0  6.67  -0.017719928  ...   \n",
            "3           Xclipse 920 - Europe  12  228.0   6.8   -0.12187177  ...   \n",
            "4    Apple GPU (4-core graphics)   4  135.0   5.4   -0.09693116  ...   \n",
            "..                           ...  ..    ...   ...           ...  ...   \n",
            "433                 Mali-G68 MP5   8  202.0   6.4   -0.06377161  ...   \n",
            "434                   Adreno 730   8  201.0   6.7   -0.09418896  ...   \n",
            "435                   Adreno 618   6  189.0   6.5   -0.11307753  ...   \n",
            "436      Mali-G68 MP2 - SM-A146B   4  202.0   6.6   -0.10376588  ...   \n",
            "437                   Adreno 660   8  169.0   5.9   -0.04139408  ...   \n",
            "\n",
            "              383            384           385           386            387  \\\n",
            "0      0.04640134   -0.009830562    0.13978213  0.0052465545    0.031307142   \n",
            "1     0.064362854   -0.037353914   0.044938833   0.024871266   -0.018631997   \n",
            "2      0.05330733    -0.07706548  0.0043468415   0.038199876    0.010611357   \n",
            "3     0.070699334     0.02678846   0.018075733    0.11830666    0.029172441   \n",
            "4     0.047809556   -0.017456228   0.009499608    0.07820969    -0.02184865   \n",
            "..            ...            ...           ...           ...            ...   \n",
            "433   0.012718927   -0.048741367   0.083026394   0.052230142    0.035093974   \n",
            "434    0.06485069   -0.043391038    0.06862021  -0.057017475  -0.0124008395   \n",
            "435    0.02334126  -0.0018968147   0.019321652   0.027212681    0.114179865   \n",
            "436   0.078989305   -0.059799574    0.07789006  -0.016535616   -0.027247624   \n",
            "437  -0.035234783    0.036417227    0.10669259  -0.021270502   -0.049288016   \n",
            "\n",
            "             388          389           390           391           392  \n",
            "0     0.04357445   0.08603752  -0.031379424  -0.013700415   0.037303027  \n",
            "1      0.0815733   0.11510107    -0.1090257  -0.092565626   0.058386527  \n",
            "2     0.07336395  0.059798792   0.025326647    0.00694903   0.024575317  \n",
            "3     0.07555413   0.07356583   -0.07790445  -0.028030593   0.018493667  \n",
            "4    0.035522565  0.045255054  -0.040273692  -0.012536545  -0.012777496  \n",
            "..           ...          ...           ...           ...           ...  \n",
            "433  0.120626174   0.06656118    0.08813334  -0.014107482   0.031411413  \n",
            "434   0.09797134  0.073087476    0.10966163  -0.015791677   0.053080574  \n",
            "435  0.023160793  -0.07280568    0.05566501  -0.005070856    0.03402187  \n",
            "436  0.062353455   0.08672597  -0.027147382   0.019765943    0.09174785  \n",
            "437  0.005027558  -0.00736208   -0.02989618    0.00231145    0.12130846  \n",
            "\n",
            "[438 rows x 393 columns]\n"
          ]
        }
      ]
    },
    {
      "cell_type": "code",
      "source": [
        "encoded_categorical = pd.get_dummies(df.iloc[:, 0:6])\n",
        "numerical = df.iloc[:, 6:]\n",
        "combined_data = pd.concat([numerical, encoded_categorical], axis=1)\n",
        "combined_data= combined_data.rename(str,axis=\"columns\")\n",
        "numerical_data = combined_data.to_numpy()"
      ],
      "metadata": {
        "id": "QhSFLt7rA73m"
      },
      "execution_count": 17,
      "outputs": []
    },
    {
      "cell_type": "code",
      "source": [
        "kmeans = KMeans(n_clusters = 5, random_state=42)\n",
        "kmeans.fit(numerical_data)\n",
        "labels = kmeans.labels_"
      ],
      "metadata": {
        "id": "Jzq-lE5lL1jL"
      },
      "execution_count": 20,
      "outputs": []
    },
    {
      "cell_type": "code",
      "source": [
        "pca2 = PCA(n_components=2)\n",
        "reduced_features = pca2.fit_transform(numerical_data)\n",
        "\n",
        "plt.figure(figsize=(8, 6))\n",
        "plt.scatter(reduced_features[:, 0], reduced_features[:, 1], c=labels, cmap='viridis')\n",
        "\n",
        "centroids = pca2.transform(kmeans.cluster_centers_)\n",
        "plt.scatter(centroids[:, 0], centroids[:, 1], c='red', marker='x', s=200, label='Centroids')\n",
        "\n",
        "plt.title('K-Means Clustering')\n",
        "plt.xlabel('PCA 1')\n",
        "plt.ylabel('PCA 2')\n",
        "plt.legend()\n",
        "plt.show()"
      ],
      "metadata": {
        "colab": {
          "base_uri": "https://localhost:8080/",
          "height": 564
        },
        "id": "gaLEtE6OL5Gh",
        "outputId": "5a4b3721-15cd-41d3-ac83-44ae6b793704"
      },
      "execution_count": 22,
      "outputs": [
        {
          "output_type": "display_data",
          "data": {
            "text/plain": [
              "<Figure size 800x600 with 1 Axes>"
            ],
            "image/png": "[encoded data removed]"
          },
          "metadata": {}
        }
      ]
    }
  ]
}