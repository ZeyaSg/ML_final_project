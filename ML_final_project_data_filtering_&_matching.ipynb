{
  "nbformat": 4,
  "nbformat_minor": 0,
  "metadata": {
    "colab": {
      "provenance": []
    },
    "kernelspec": {
      "name": "python3",
      "display_name": "Python 3"
    },
    "language_info": {
      "name": "python"
    },
    "widgets": {
      "application/vnd.jupyter.widget-state+json": {
        "c362b2ab12004d2d9d90d9724e47cd5a": {
          "model_module": "@jupyter-widgets/controls",
          "model_name": "HBoxModel",
          "model_module_version": "1.5.0",
          "state": {
            "_dom_classes": [],
            "_model_module": "@jupyter-widgets/controls",
            "_model_module_version": "1.5.0",
            "_model_name": "HBoxModel",
            "_view_count": null,
            "_view_module": "@jupyter-widgets/controls",
            "_view_module_version": "1.5.0",
            "_view_name": "HBoxView",
            "box_style": "",
            "children": [
              "IPY_MODEL_e13ffa94b63d41edafa98674c04b24d5",
              "IPY_MODEL_4c4d0feae0ce4c29abb3265b18220e2a",
              "IPY_MODEL_c0c31b5bb2c247dab701bdd31d7570e7"
            ],
            "layout": "IPY_MODEL_bf7af6ac97784e6aa78a397f7f4d1a70"
          }
        },
        "e13ffa94b63d41edafa98674c04b24d5": {
          "model_module": "@jupyter-widgets/controls",
          "model_name": "HTMLModel",
          "model_module_version": "1.5.0",
          "state": {
            "_dom_classes": [],
            "_model_module": "@jupyter-widgets/controls",
            "_model_module_version": "1.5.0",
            "_model_name": "HTMLModel",
            "_view_count": null,
            "_view_module": "@jupyter-widgets/controls",
            "_view_module_version": "1.5.0",
            "_view_name": "HTMLView",
            "description": "",
            "description_tooltip": null,
            "layout": "IPY_MODEL_ecd6d03f09404895b563fa9be02b4454",
            "placeholder": "​",
            "style": "IPY_MODEL_c8bfdda5f4904811ac60c3ec75328944",
            "value": "meta_Cell_Phones_and_Accessories.jsonl: 100%"
          }
        },
        "4c4d0feae0ce4c29abb3265b18220e2a": {
          "model_module": "@jupyter-widgets/controls",
          "model_name": "FloatProgressModel",
          "model_module_version": "1.5.0",
          "state": {
            "_dom_classes": [],
            "_model_module": "@jupyter-widgets/controls",
            "_model_module_version": "1.5.0",
            "_model_name": "FloatProgressModel",
            "_view_count": null,
            "_view_module": "@jupyter-widgets/controls",
            "_view_module_version": "1.5.0",
            "_view_name": "ProgressView",
            "bar_style": "success",
            "description": "",
            "description_tooltip": null,
            "layout": "IPY_MODEL_2fbd0180c5e64340819c86141a8d97ce",
            "max": 4015159840,
            "min": 0,
            "orientation": "horizontal",
            "style": "IPY_MODEL_2e0ae76df3ea402085dbb3e44450c9a0",
            "value": 4015159840
          }
        },
        "c0c31b5bb2c247dab701bdd31d7570e7": {
          "model_module": "@jupyter-widgets/controls",
          "model_name": "HTMLModel",
          "model_module_version": "1.5.0",
          "state": {
            "_dom_classes": [],
            "_model_module": "@jupyter-widgets/controls",
            "_model_module_version": "1.5.0",
            "_model_name": "HTMLModel",
            "_view_count": null,
            "_view_module": "@jupyter-widgets/controls",
            "_view_module_version": "1.5.0",
            "_view_name": "HTMLView",
            "description": "",
            "description_tooltip": null,
            "layout": "IPY_MODEL_6accf08a5de94c13bb6ff4cc1dab4afe",
            "placeholder": "​",
            "style": "IPY_MODEL_411d4333c10f4de38f74ac2481c05969",
            "value": " 4.02G/4.02G [01:32&lt;00:00, 42.3MB/s]"
          }
        },
        "bf7af6ac97784e6aa78a397f7f4d1a70": {
          "model_module": "@jupyter-widgets/base",
          "model_name": "LayoutModel",
          "model_module_version": "1.2.0",
          "state": {
            "_model_module": "@jupyter-widgets/base",
            "_model_module_version": "1.2.0",
            "_model_name": "LayoutModel",
            "_view_count": null,
            "_view_module": "@jupyter-widgets/base",
            "_view_module_version": "1.2.0",
            "_view_name": "LayoutView",
            "align_content": null,
            "align_items": null,
            "align_self": null,
            "border": null,
            "bottom": null,
            "display": null,
            "flex": null,
            "flex_flow": null,
            "grid_area": null,
            "grid_auto_columns": null,
            "grid_auto_flow": null,
            "grid_auto_rows": null,
            "grid_column": null,
            "grid_gap": null,
            "grid_row": null,
            "grid_template_areas": null,
            "grid_template_columns": null,
            "grid_template_rows": null,
            "height": null,
            "justify_content": null,
            "justify_items": null,
            "left": null,
            "margin": null,
            "max_height": null,
            "max_width": null,
            "min_height": null,
            "min_width": null,
            "object_fit": null,
            "object_position": null,
            "order": null,
            "overflow": null,
            "overflow_x": null,
            "overflow_y": null,
            "padding": null,
            "right": null,
            "top": null,
            "visibility": null,
            "width": null
          }
        },
        "ecd6d03f09404895b563fa9be02b4454": {
          "model_module": "@jupyter-widgets/base",
          "model_name": "LayoutModel",
          "model_module_version": "1.2.0",
          "state": {
            "_model_module": "@jupyter-widgets/base",
            "_model_module_version": "1.2.0",
            "_model_name": "LayoutModel",
            "_view_count": null,
            "_view_module": "@jupyter-widgets/base",
            "_view_module_version": "1.2.0",
            "_view_name": "LayoutView",
            "align_content": null,
            "align_items": null,
            "align_self": null,
            "border": null,
            "bottom": null,
            "display": null,
            "flex": null,
            "flex_flow": null,
            "grid_area": null,
            "grid_auto_columns": null,
            "grid_auto_flow": null,
            "grid_auto_rows": null,
            "grid_column": null,
            "grid_gap": null,
            "grid_row": null,
            "grid_template_areas": null,
            "grid_template_columns": null,
            "grid_template_rows": null,
            "height": null,
            "justify_content": null,
            "justify_items": null,
            "left": null,
            "margin": null,
            "max_height": null,
            "max_width": null,
            "min_height": null,
            "min_width": null,
            "object_fit": null,
            "object_position": null,
            "order": null,
            "overflow": null,
            "overflow_x": null,
            "overflow_y": null,
            "padding": null,
            "right": null,
            "top": null,
            "visibility": null,
            "width": null
          }
        },
        "c8bfdda5f4904811ac60c3ec75328944": {
          "model_module": "@jupyter-widgets/controls",
          "model_name": "DescriptionStyleModel",
          "model_module_version": "1.5.0",
          "state": {
            "_model_module": "@jupyter-widgets/controls",
            "_model_module_version": "1.5.0",
            "_model_name": "DescriptionStyleModel",
            "_view_count": null,
            "_view_module": "@jupyter-widgets/base",
            "_view_module_version": "1.2.0",
            "_view_name": "StyleView",
            "description_width": ""
          }
        },
        "2fbd0180c5e64340819c86141a8d97ce": {
          "model_module": "@jupyter-widgets/base",
          "model_name": "LayoutModel",
          "model_module_version": "1.2.0",
          "state": {
            "_model_module": "@jupyter-widgets/base",
            "_model_module_version": "1.2.0",
            "_model_name": "LayoutModel",
            "_view_count": null,
            "_view_module": "@jupyter-widgets/base",
            "_view_module_version": "1.2.0",
            "_view_name": "LayoutView",
            "align_content": null,
            "align_items": null,
            "align_self": null,
            "border": null,
            "bottom": null,
            "display": null,
            "flex": null,
            "flex_flow": null,
            "grid_area": null,
            "grid_auto_columns": null,
            "grid_auto_flow": null,
            "grid_auto_rows": null,
            "grid_column": null,
            "grid_gap": null,
            "grid_row": null,
            "grid_template_areas": null,
            "grid_template_columns": null,
            "grid_template_rows": null,
            "height": null,
            "justify_content": null,
            "justify_items": null,
            "left": null,
            "margin": null,
            "max_height": null,
            "max_width": null,
            "min_height": null,
            "min_width": null,
            "object_fit": null,
            "object_position": null,
            "order": null,
            "overflow": null,
            "overflow_x": null,
            "overflow_y": null,
            "padding": null,
            "right": null,
            "top": null,
            "visibility": null,
            "width": null
          }
        },
        "2e0ae76df3ea402085dbb3e44450c9a0": {
          "model_module": "@jupyter-widgets/controls",
          "model_name": "ProgressStyleModel",
          "model_module_version": "1.5.0",
          "state": {
            "_model_module": "@jupyter-widgets/controls",
            "_model_module_version": "1.5.0",
            "_model_name": "ProgressStyleModel",
            "_view_count": null,
            "_view_module": "@jupyter-widgets/base",
            "_view_module_version": "1.2.0",
            "_view_name": "StyleView",
            "bar_color": null,
            "description_width": ""
          }
        },
        "6accf08a5de94c13bb6ff4cc1dab4afe": {
          "model_module": "@jupyter-widgets/base",
          "model_name": "LayoutModel",
          "model_module_version": "1.2.0",
          "state": {
            "_model_module": "@jupyter-widgets/base",
            "_model_module_version": "1.2.0",
            "_model_name": "LayoutModel",
            "_view_count": null,
            "_view_module": "@jupyter-widgets/base",
            "_view_module_version": "1.2.0",
            "_view_name": "LayoutView",
            "align_content": null,
            "align_items": null,
            "align_self": null,
            "border": null,
            "bottom": null,
            "display": null,
            "flex": null,
            "flex_flow": null,
            "grid_area": null,
            "grid_auto_columns": null,
            "grid_auto_flow": null,
            "grid_auto_rows": null,
            "grid_column": null,
            "grid_gap": null,
            "grid_row": null,
            "grid_template_areas": null,
            "grid_template_columns": null,
            "grid_template_rows": null,
            "height": null,
            "justify_content": null,
            "justify_items": null,
            "left": null,
            "margin": null,
            "max_height": null,
            "max_width": null,
            "min_height": null,
            "min_width": null,
            "object_fit": null,
            "object_position": null,
            "order": null,
            "overflow": null,
            "overflow_x": null,
            "overflow_y": null,
            "padding": null,
            "right": null,
            "top": null,
            "visibility": null,
            "width": null
          }
        },
        "411d4333c10f4de38f74ac2481c05969": {
          "model_module": "@jupyter-widgets/controls",
          "model_name": "DescriptionStyleModel",
          "model_module_version": "1.5.0",
          "state": {
            "_model_module": "@jupyter-widgets/controls",
            "_model_module_version": "1.5.0",
            "_model_name": "DescriptionStyleModel",
            "_view_count": null,
            "_view_module": "@jupyter-widgets/base",
            "_view_module_version": "1.2.0",
            "_view_name": "StyleView",
            "description_width": ""
          }
        },
        "6ed4c10ad0614dd2a2fc9c71dbad6272": {
          "model_module": "@jupyter-widgets/controls",
          "model_name": "HBoxModel",
          "model_module_version": "1.5.0",
          "state": {
            "_dom_classes": [],
            "_model_module": "@jupyter-widgets/controls",
            "_model_module_version": "1.5.0",
            "_model_name": "HBoxModel",
            "_view_count": null,
            "_view_module": "@jupyter-widgets/controls",
            "_view_module_version": "1.5.0",
            "_view_name": "HBoxView",
            "box_style": "",
            "children": [
              "IPY_MODEL_46b641cf37484bb7bb47d86003ae8657",
              "IPY_MODEL_d6da06d956e844908f5ecd56f91b25f5",
              "IPY_MODEL_cb6afb8d4e5f46e88ba16034c8b48c24"
            ],
            "layout": "IPY_MODEL_4ffde5bdf26b42e08fff430a793376ba"
          }
        },
        "46b641cf37484bb7bb47d86003ae8657": {
          "model_module": "@jupyter-widgets/controls",
          "model_name": "HTMLModel",
          "model_module_version": "1.5.0",
          "state": {
            "_dom_classes": [],
            "_model_module": "@jupyter-widgets/controls",
            "_model_module_version": "1.5.0",
            "_model_name": "HTMLModel",
            "_view_count": null,
            "_view_module": "@jupyter-widgets/controls",
            "_view_module_version": "1.5.0",
            "_view_name": "HTMLView",
            "description": "",
            "description_tooltip": null,
            "layout": "IPY_MODEL_04c27bc92e6d42b3ae1180b15a696c6e",
            "placeholder": "​",
            "style": "IPY_MODEL_9449790821084bd78870edf57bb06a11",
            "value": "Generating full split: 100%"
          }
        },
        "d6da06d956e844908f5ecd56f91b25f5": {
          "model_module": "@jupyter-widgets/controls",
          "model_name": "FloatProgressModel",
          "model_module_version": "1.5.0",
          "state": {
            "_dom_classes": [],
            "_model_module": "@jupyter-widgets/controls",
            "_model_module_version": "1.5.0",
            "_model_name": "FloatProgressModel",
            "_view_count": null,
            "_view_module": "@jupyter-widgets/controls",
            "_view_module_version": "1.5.0",
            "_view_name": "ProgressView",
            "bar_style": "success",
            "description": "",
            "description_tooltip": null,
            "layout": "IPY_MODEL_5cc16c04fbab46998bf439425f2ddd0a",
            "max": 1288490,
            "min": 0,
            "orientation": "horizontal",
            "style": "IPY_MODEL_c8c7fea63224479da8ad46cb7d534de6",
            "value": 1288490
          }
        },
        "cb6afb8d4e5f46e88ba16034c8b48c24": {
          "model_module": "@jupyter-widgets/controls",
          "model_name": "HTMLModel",
          "model_module_version": "1.5.0",
          "state": {
            "_dom_classes": [],
            "_model_module": "@jupyter-widgets/controls",
            "_model_module_version": "1.5.0",
            "_model_name": "HTMLModel",
            "_view_count": null,
            "_view_module": "@jupyter-widgets/controls",
            "_view_module_version": "1.5.0",
            "_view_name": "HTMLView",
            "description": "",
            "description_tooltip": null,
            "layout": "IPY_MODEL_7acee1fcd98e4ee38e25d0a344870772",
            "placeholder": "​",
            "style": "IPY_MODEL_528d4ee88d1b4c40bd551de07230b7bb",
            "value": " 1288490/1288490 [08:39&lt;00:00, 2894.54 examples/s]"
          }
        },
        "4ffde5bdf26b42e08fff430a793376ba": {
          "model_module": "@jupyter-widgets/base",
          "model_name": "LayoutModel",
          "model_module_version": "1.2.0",
          "state": {
            "_model_module": "@jupyter-widgets/base",
            "_model_module_version": "1.2.0",
            "_model_name": "LayoutModel",
            "_view_count": null,
            "_view_module": "@jupyter-widgets/base",
            "_view_module_version": "1.2.0",
            "_view_name": "LayoutView",
            "align_content": null,
            "align_items": null,
            "align_self": null,
            "border": null,
            "bottom": null,
            "display": null,
            "flex": null,
            "flex_flow": null,
            "grid_area": null,
            "grid_auto_columns": null,
            "grid_auto_flow": null,
            "grid_auto_rows": null,
            "grid_column": null,
            "grid_gap": null,
            "grid_row": null,
            "grid_template_areas": null,
            "grid_template_columns": null,
            "grid_template_rows": null,
            "height": null,
            "justify_content": null,
            "justify_items": null,
            "left": null,
            "margin": null,
            "max_height": null,
            "max_width": null,
            "min_height": null,
            "min_width": null,
            "object_fit": null,
            "object_position": null,
            "order": null,
            "overflow": null,
            "overflow_x": null,
            "overflow_y": null,
            "padding": null,
            "right": null,
            "top": null,
            "visibility": null,
            "width": null
          }
        },
        "04c27bc92e6d42b3ae1180b15a696c6e": {
          "model_module": "@jupyter-widgets/base",
          "model_name": "LayoutModel",
          "model_module_version": "1.2.0",
          "state": {
            "_model_module": "@jupyter-widgets/base",
            "_model_module_version": "1.2.0",
            "_model_name": "LayoutModel",
            "_view_count": null,
            "_view_module": "@jupyter-widgets/base",
            "_view_module_version": "1.2.0",
            "_view_name": "LayoutView",
            "align_content": null,
            "align_items": null,
            "align_self": null,
            "border": null,
            "bottom": null,
            "display": null,
            "flex": null,
            "flex_flow": null,
            "grid_area": null,
            "grid_auto_columns": null,
            "grid_auto_flow": null,
            "grid_auto_rows": null,
            "grid_column": null,
            "grid_gap": null,
            "grid_row": null,
            "grid_template_areas": null,
            "grid_template_columns": null,
            "grid_template_rows": null,
            "height": null,
            "justify_content": null,
            "justify_items": null,
            "left": null,
            "margin": null,
            "max_height": null,
            "max_width": null,
            "min_height": null,
            "min_width": null,
            "object_fit": null,
            "object_position": null,
            "order": null,
            "overflow": null,
            "overflow_x": null,
            "overflow_y": null,
            "padding": null,
            "right": null,
            "top": null,
            "visibility": null,
            "width": null
          }
        },
        "9449790821084bd78870edf57bb06a11": {
          "model_module": "@jupyter-widgets/controls",
          "model_name": "DescriptionStyleModel",
          "model_module_version": "1.5.0",
          "state": {
            "_model_module": "@jupyter-widgets/controls",
            "_model_module_version": "1.5.0",
            "_model_name": "DescriptionStyleModel",
            "_view_count": null,
            "_view_module": "@jupyter-widgets/base",
            "_view_module_version": "1.2.0",
            "_view_name": "StyleView",
            "description_width": ""
          }
        },
        "5cc16c04fbab46998bf439425f2ddd0a": {
          "model_module": "@jupyter-widgets/base",
          "model_name": "LayoutModel",
          "model_module_version": "1.2.0",
          "state": {
            "_model_module": "@jupyter-widgets/base",
            "_model_module_version": "1.2.0",
            "_model_name": "LayoutModel",
            "_view_count": null,
            "_view_module": "@jupyter-widgets/base",
            "_view_module_version": "1.2.0",
            "_view_name": "LayoutView",
            "align_content": null,
            "align_items": null,
            "align_self": null,
            "border": null,
            "bottom": null,
            "display": null,
            "flex": null,
            "flex_flow": null,
            "grid_area": null,
            "grid_auto_columns": null,
            "grid_auto_flow": null,
            "grid_auto_rows": null,
            "grid_column": null,
            "grid_gap": null,
            "grid_row": null,
            "grid_template_areas": null,
            "grid_template_columns": null,
            "grid_template_rows": null,
            "height": null,
            "justify_content": null,
            "justify_items": null,
            "left": null,
            "margin": null,
            "max_height": null,
            "max_width": null,
            "min_height": null,
            "min_width": null,
            "object_fit": null,
            "object_position": null,
            "order": null,
            "overflow": null,
            "overflow_x": null,
            "overflow_y": null,
            "padding": null,
            "right": null,
            "top": null,
            "visibility": null,
            "width": null
          }
        },
        "c8c7fea63224479da8ad46cb7d534de6": {
          "model_module": "@jupyter-widgets/controls",
          "model_name": "ProgressStyleModel",
          "model_module_version": "1.5.0",
          "state": {
            "_model_module": "@jupyter-widgets/controls",
            "_model_module_version": "1.5.0",
            "_model_name": "ProgressStyleModel",
            "_view_count": null,
            "_view_module": "@jupyter-widgets/base",
            "_view_module_version": "1.2.0",
            "_view_name": "StyleView",
            "bar_color": null,
            "description_width": ""
          }
        },
        "7acee1fcd98e4ee38e25d0a344870772": {
          "model_module": "@jupyter-widgets/base",
          "model_name": "LayoutModel",
          "model_module_version": "1.2.0",
          "state": {
            "_model_module": "@jupyter-widgets/base",
            "_model_module_version": "1.2.0",
            "_model_name": "LayoutModel",
            "_view_count": null,
            "_view_module": "@jupyter-widgets/base",
            "_view_module_version": "1.2.0",
            "_view_name": "LayoutView",
            "align_content": null,
            "align_items": null,
            "align_self": null,
            "border": null,
            "bottom": null,
            "display": null,
            "flex": null,
            "flex_flow": null,
            "grid_area": null,
            "grid_auto_columns": null,
            "grid_auto_flow": null,
            "grid_auto_rows": null,
            "grid_column": null,
            "grid_gap": null,
            "grid_row": null,
            "grid_template_areas": null,
            "grid_template_columns": null,
            "grid_template_rows": null,
            "height": null,
            "justify_content": null,
            "justify_items": null,
            "left": null,
            "margin": null,
            "max_height": null,
            "max_width": null,
            "min_height": null,
            "min_width": null,
            "object_fit": null,
            "object_position": null,
            "order": null,
            "overflow": null,
            "overflow_x": null,
            "overflow_y": null,
            "padding": null,
            "right": null,
            "top": null,
            "visibility": null,
            "width": null
          }
        },
        "528d4ee88d1b4c40bd551de07230b7bb": {
          "model_module": "@jupyter-widgets/controls",
          "model_name": "DescriptionStyleModel",
          "model_module_version": "1.5.0",
          "state": {
            "_model_module": "@jupyter-widgets/controls",
            "_model_module_version": "1.5.0",
            "_model_name": "DescriptionStyleModel",
            "_view_count": null,
            "_view_module": "@jupyter-widgets/base",
            "_view_module_version": "1.2.0",
            "_view_name": "StyleView",
            "description_width": ""
          }
        },
        "e7a2b9e594e642e6a8288bd46b6d3c78": {
          "model_module": "@jupyter-widgets/controls",
          "model_name": "HBoxModel",
          "model_module_version": "1.5.0",
          "state": {
            "_dom_classes": [],
            "_model_module": "@jupyter-widgets/controls",
            "_model_module_version": "1.5.0",
            "_model_name": "HBoxModel",
            "_view_count": null,
            "_view_module": "@jupyter-widgets/controls",
            "_view_module_version": "1.5.0",
            "_view_name": "HBoxView",
            "box_style": "",
            "children": [
              "IPY_MODEL_5a95af892dc540bb896f7d5c79568161",
              "IPY_MODEL_8a222aa184ac4257b145ba7a3d3c041d",
              "IPY_MODEL_05d0309ce2c8404caa54cff9422ffd22"
            ],
            "layout": "IPY_MODEL_c1a895715d3d4081a785c546f3e3b3aa"
          }
        },
        "5a95af892dc540bb896f7d5c79568161": {
          "model_module": "@jupyter-widgets/controls",
          "model_name": "HTMLModel",
          "model_module_version": "1.5.0",
          "state": {
            "_dom_classes": [],
            "_model_module": "@jupyter-widgets/controls",
            "_model_module_version": "1.5.0",
            "_model_name": "HTMLModel",
            "_view_count": null,
            "_view_module": "@jupyter-widgets/controls",
            "_view_module_version": "1.5.0",
            "_view_name": "HTMLView",
            "description": "",
            "description_tooltip": null,
            "layout": "IPY_MODEL_8eefd2dbb67742ac9cbed575837deb1b",
            "placeholder": "​",
            "style": "IPY_MODEL_106f7b732e1f4d0e93c948b6f5b836dd",
            "value": "README.md: 100%"
          }
        },
        "8a222aa184ac4257b145ba7a3d3c041d": {
          "model_module": "@jupyter-widgets/controls",
          "model_name": "FloatProgressModel",
          "model_module_version": "1.5.0",
          "state": {
            "_dom_classes": [],
            "_model_module": "@jupyter-widgets/controls",
            "_model_module_version": "1.5.0",
            "_model_name": "FloatProgressModel",
            "_view_count": null,
            "_view_module": "@jupyter-widgets/controls",
            "_view_module_version": "1.5.0",
            "_view_name": "ProgressView",
            "bar_style": "success",
            "description": "",
            "description_tooltip": null,
            "layout": "IPY_MODEL_b44adc06054643fc8ae0751b9e1689f3",
            "max": 30343,
            "min": 0,
            "orientation": "horizontal",
            "style": "IPY_MODEL_b98ded37df334338840ab42f1a7453d1",
            "value": 30343
          }
        },
        "05d0309ce2c8404caa54cff9422ffd22": {
          "model_module": "@jupyter-widgets/controls",
          "model_name": "HTMLModel",
          "model_module_version": "1.5.0",
          "state": {
            "_dom_classes": [],
            "_model_module": "@jupyter-widgets/controls",
            "_model_module_version": "1.5.0",
            "_model_name": "HTMLModel",
            "_view_count": null,
            "_view_module": "@jupyter-widgets/controls",
            "_view_module_version": "1.5.0",
            "_view_name": "HTMLView",
            "description": "",
            "description_tooltip": null,
            "layout": "IPY_MODEL_0b4a6827c89145f3bd9fa036c1fa969e",
            "placeholder": "​",
            "style": "IPY_MODEL_120099e282944e21b527507f3f28aea6",
            "value": " 30.3k/30.3k [00:00&lt;00:00, 1.21MB/s]"
          }
        },
        "c1a895715d3d4081a785c546f3e3b3aa": {
          "model_module": "@jupyter-widgets/base",
          "model_name": "LayoutModel",
          "model_module_version": "1.2.0",
          "state": {
            "_model_module": "@jupyter-widgets/base",
            "_model_module_version": "1.2.0",
            "_model_name": "LayoutModel",
            "_view_count": null,
            "_view_module": "@jupyter-widgets/base",
            "_view_module_version": "1.2.0",
            "_view_name": "LayoutView",
            "align_content": null,
            "align_items": null,
            "align_self": null,
            "border": null,
            "bottom": null,
            "display": null,
            "flex": null,
            "flex_flow": null,
            "grid_area": null,
            "grid_auto_columns": null,
            "grid_auto_flow": null,
            "grid_auto_rows": null,
            "grid_column": null,
            "grid_gap": null,
            "grid_row": null,
            "grid_template_areas": null,
            "grid_template_columns": null,
            "grid_template_rows": null,
            "height": null,
            "justify_content": null,
            "justify_items": null,
            "left": null,
            "margin": null,
            "max_height": null,
            "max_width": null,
            "min_height": null,
            "min_width": null,
            "object_fit": null,
            "object_position": null,
            "order": null,
            "overflow": null,
            "overflow_x": null,
            "overflow_y": null,
            "padding": null,
            "right": null,
            "top": null,
            "visibility": null,
            "width": null
          }
        },
        "8eefd2dbb67742ac9cbed575837deb1b": {
          "model_module": "@jupyter-widgets/base",
          "model_name": "LayoutModel",
          "model_module_version": "1.2.0",
          "state": {
            "_model_module": "@jupyter-widgets/base",
            "_model_module_version": "1.2.0",
            "_model_name": "LayoutModel",
            "_view_count": null,
            "_view_module": "@jupyter-widgets/base",
            "_view_module_version": "1.2.0",
            "_view_name": "LayoutView",
            "align_content": null,
            "align_items": null,
            "align_self": null,
            "border": null,
            "bottom": null,
            "display": null,
            "flex": null,
            "flex_flow": null,
            "grid_area": null,
            "grid_auto_columns": null,
            "grid_auto_flow": null,
            "grid_auto_rows": null,
            "grid_column": null,
            "grid_gap": null,
            "grid_row": null,
            "grid_template_areas": null,
            "grid_template_columns": null,
            "grid_template_rows": null,
            "height": null,
            "justify_content": null,
            "justify_items": null,
            "left": null,
            "margin": null,
            "max_height": null,
            "max_width": null,
            "min_height": null,
            "min_width": null,
            "object_fit": null,
            "object_position": null,
            "order": null,
            "overflow": null,
            "overflow_x": null,
            "overflow_y": null,
            "padding": null,
            "right": null,
            "top": null,
            "visibility": null,
            "width": null
          }
        },
        "106f7b732e1f4d0e93c948b6f5b836dd": {
          "model_module": "@jupyter-widgets/controls",
          "model_name": "DescriptionStyleModel",
          "model_module_version": "1.5.0",
          "state": {
            "_model_module": "@jupyter-widgets/controls",
            "_model_module_version": "1.5.0",
            "_model_name": "DescriptionStyleModel",
            "_view_count": null,
            "_view_module": "@jupyter-widgets/base",
            "_view_module_version": "1.2.0",
            "_view_name": "StyleView",
            "description_width": ""
          }
        },
        "b44adc06054643fc8ae0751b9e1689f3": {
          "model_module": "@jupyter-widgets/base",
          "model_name": "LayoutModel",
          "model_module_version": "1.2.0",
          "state": {
            "_model_module": "@jupyter-widgets/base",
            "_model_module_version": "1.2.0",
            "_model_name": "LayoutModel",
            "_view_count": null,
            "_view_module": "@jupyter-widgets/base",
            "_view_module_version": "1.2.0",
            "_view_name": "LayoutView",
            "align_content": null,
            "align_items": null,
            "align_self": null,
            "border": null,
            "bottom": null,
            "display": null,
            "flex": null,
            "flex_flow": null,
            "grid_area": null,
            "grid_auto_columns": null,
            "grid_auto_flow": null,
            "grid_auto_rows": null,
            "grid_column": null,
            "grid_gap": null,
            "grid_row": null,
            "grid_template_areas": null,
            "grid_template_columns": null,
            "grid_template_rows": null,
            "height": null,
            "justify_content": null,
            "justify_items": null,
            "left": null,
            "margin": null,
            "max_height": null,
            "max_width": null,
            "min_height": null,
            "min_width": null,
            "object_fit": null,
            "object_position": null,
            "order": null,
            "overflow": null,
            "overflow_x": null,
            "overflow_y": null,
            "padding": null,
            "right": null,
            "top": null,
            "visibility": null,
            "width": null
          }
        },
        "b98ded37df334338840ab42f1a7453d1": {
          "model_module": "@jupyter-widgets/controls",
          "model_name": "ProgressStyleModel",
          "model_module_version": "1.5.0",
          "state": {
            "_model_module": "@jupyter-widgets/controls",
            "_model_module_version": "1.5.0",
            "_model_name": "ProgressStyleModel",
            "_view_count": null,
            "_view_module": "@jupyter-widgets/base",
            "_view_module_version": "1.2.0",
            "_view_name": "StyleView",
            "bar_color": null,
            "description_width": ""
          }
        },
        "0b4a6827c89145f3bd9fa036c1fa969e": {
          "model_module": "@jupyter-widgets/base",
          "model_name": "LayoutModel",
          "model_module_version": "1.2.0",
          "state": {
            "_model_module": "@jupyter-widgets/base",
            "_model_module_version": "1.2.0",
            "_model_name": "LayoutModel",
            "_view_count": null,
            "_view_module": "@jupyter-widgets/base",
            "_view_module_version": "1.2.0",
            "_view_name": "LayoutView",
            "align_content": null,
            "align_items": null,
            "align_self": null,
            "border": null,
            "bottom": null,
            "display": null,
            "flex": null,
            "flex_flow": null,
            "grid_area": null,
            "grid_auto_columns": null,
            "grid_auto_flow": null,
            "grid_auto_rows": null,
            "grid_column": null,
            "grid_gap": null,
            "grid_row": null,
            "grid_template_areas": null,
            "grid_template_columns": null,
            "grid_template_rows": null,
            "height": null,
            "justify_content": null,
            "justify_items": null,
            "left": null,
            "margin": null,
            "max_height": null,
            "max_width": null,
            "min_height": null,
            "min_width": null,
            "object_fit": null,
            "object_position": null,
            "order": null,
            "overflow": null,
            "overflow_x": null,
            "overflow_y": null,
            "padding": null,
            "right": null,
            "top": null,
            "visibility": null,
            "width": null
          }
        },
        "120099e282944e21b527507f3f28aea6": {
          "model_module": "@jupyter-widgets/controls",
          "model_name": "DescriptionStyleModel",
          "model_module_version": "1.5.0",
          "state": {
            "_model_module": "@jupyter-widgets/controls",
            "_model_module_version": "1.5.0",
            "_model_name": "DescriptionStyleModel",
            "_view_count": null,
            "_view_module": "@jupyter-widgets/base",
            "_view_module_version": "1.2.0",
            "_view_name": "StyleView",
            "description_width": ""
          }
        },
        "02e12be8cde846c6835a18dddb732009": {
          "model_module": "@jupyter-widgets/controls",
          "model_name": "HBoxModel",
          "model_module_version": "1.5.0",
          "state": {
            "_dom_classes": [],
            "_model_module": "@jupyter-widgets/controls",
            "_model_module_version": "1.5.0",
            "_model_name": "HBoxModel",
            "_view_count": null,
            "_view_module": "@jupyter-widgets/controls",
            "_view_module_version": "1.5.0",
            "_view_name": "HBoxView",
            "box_style": "",
            "children": [
              "IPY_MODEL_1c233deb0f2e466f8ae808a390aba2d9",
              "IPY_MODEL_1cb44f9938f7419d93432b98ebba30b7",
              "IPY_MODEL_2c4595869f3447da88e39bec01f9476f"
            ],
            "layout": "IPY_MODEL_d4fd91f978ea4cf99158e7aad1e322fe"
          }
        },
        "1c233deb0f2e466f8ae808a390aba2d9": {
          "model_module": "@jupyter-widgets/controls",
          "model_name": "HTMLModel",
          "model_module_version": "1.5.0",
          "state": {
            "_dom_classes": [],
            "_model_module": "@jupyter-widgets/controls",
            "_model_module_version": "1.5.0",
            "_model_name": "HTMLModel",
            "_view_count": null,
            "_view_module": "@jupyter-widgets/controls",
            "_view_module_version": "1.5.0",
            "_view_name": "HTMLView",
            "description": "",
            "description_tooltip": null,
            "layout": "IPY_MODEL_8909464d6878472fb371077fa9d64f3c",
            "placeholder": "​",
            "style": "IPY_MODEL_524cc65a06db49ecab36ee40ee7934ae",
            "value": "Amazon-Reviews-2023.py: 100%"
          }
        },
        "1cb44f9938f7419d93432b98ebba30b7": {
          "model_module": "@jupyter-widgets/controls",
          "model_name": "FloatProgressModel",
          "model_module_version": "1.5.0",
          "state": {
            "_dom_classes": [],
            "_model_module": "@jupyter-widgets/controls",
            "_model_module_version": "1.5.0",
            "_model_name": "FloatProgressModel",
            "_view_count": null,
            "_view_module": "@jupyter-widgets/controls",
            "_view_module_version": "1.5.0",
            "_view_name": "ProgressView",
            "bar_style": "success",
            "description": "",
            "description_tooltip": null,
            "layout": "IPY_MODEL_04a28826ae044b7b93ca69c80e38a305",
            "max": 39620,
            "min": 0,
            "orientation": "horizontal",
            "style": "IPY_MODEL_2033db00eb9f4253bbe4b039e08ccb9d",
            "value": 39620
          }
        },
        "2c4595869f3447da88e39bec01f9476f": {
          "model_module": "@jupyter-widgets/controls",
          "model_name": "HTMLModel",
          "model_module_version": "1.5.0",
          "state": {
            "_dom_classes": [],
            "_model_module": "@jupyter-widgets/controls",
            "_model_module_version": "1.5.0",
            "_model_name": "HTMLModel",
            "_view_count": null,
            "_view_module": "@jupyter-widgets/controls",
            "_view_module_version": "1.5.0",
            "_view_name": "HTMLView",
            "description": "",
            "description_tooltip": null,
            "layout": "IPY_MODEL_9cb84e354e0e43de887e5e3c9ea608ee",
            "placeholder": "​",
            "style": "IPY_MODEL_4df27fd44d2545eb8fe3d84694b51882",
            "value": " 39.6k/39.6k [00:00&lt;00:00, 1.18MB/s]"
          }
        },
        "d4fd91f978ea4cf99158e7aad1e322fe": {
          "model_module": "@jupyter-widgets/base",
          "model_name": "LayoutModel",
          "model_module_version": "1.2.0",
          "state": {
            "_model_module": "@jupyter-widgets/base",
            "_model_module_version": "1.2.0",
            "_model_name": "LayoutModel",
            "_view_count": null,
            "_view_module": "@jupyter-widgets/base",
            "_view_module_version": "1.2.0",
            "_view_name": "LayoutView",
            "align_content": null,
            "align_items": null,
            "align_self": null,
            "border": null,
            "bottom": null,
            "display": null,
            "flex": null,
            "flex_flow": null,
            "grid_area": null,
            "grid_auto_columns": null,
            "grid_auto_flow": null,
            "grid_auto_rows": null,
            "grid_column": null,
            "grid_gap": null,
            "grid_row": null,
            "grid_template_areas": null,
            "grid_template_columns": null,
            "grid_template_rows": null,
            "height": null,
            "justify_content": null,
            "justify_items": null,
            "left": null,
            "margin": null,
            "max_height": null,
            "max_width": null,
            "min_height": null,
            "min_width": null,
            "object_fit": null,
            "object_position": null,
            "order": null,
            "overflow": null,
            "overflow_x": null,
            "overflow_y": null,
            "padding": null,
            "right": null,
            "top": null,
            "visibility": null,
            "width": null
          }
        },
        "8909464d6878472fb371077fa9d64f3c": {
          "model_module": "@jupyter-widgets/base",
          "model_name": "LayoutModel",
          "model_module_version": "1.2.0",
          "state": {
            "_model_module": "@jupyter-widgets/base",
            "_model_module_version": "1.2.0",
            "_model_name": "LayoutModel",
            "_view_count": null,
            "_view_module": "@jupyter-widgets/base",
            "_view_module_version": "1.2.0",
            "_view_name": "LayoutView",
            "align_content": null,
            "align_items": null,
            "align_self": null,
            "border": null,
            "bottom": null,
            "display": null,
            "flex": null,
            "flex_flow": null,
            "grid_area": null,
            "grid_auto_columns": null,
            "grid_auto_flow": null,
            "grid_auto_rows": null,
            "grid_column": null,
            "grid_gap": null,
            "grid_row": null,
            "grid_template_areas": null,
            "grid_template_columns": null,
            "grid_template_rows": null,
            "height": null,
            "justify_content": null,
            "justify_items": null,
            "left": null,
            "margin": null,
            "max_height": null,
            "max_width": null,
            "min_height": null,
            "min_width": null,
            "object_fit": null,
            "object_position": null,
            "order": null,
            "overflow": null,
            "overflow_x": null,
            "overflow_y": null,
            "padding": null,
            "right": null,
            "top": null,
            "visibility": null,
            "width": null
          }
        },
        "524cc65a06db49ecab36ee40ee7934ae": {
          "model_module": "@jupyter-widgets/controls",
          "model_name": "DescriptionStyleModel",
          "model_module_version": "1.5.0",
          "state": {
            "_model_module": "@jupyter-widgets/controls",
            "_model_module_version": "1.5.0",
            "_model_name": "DescriptionStyleModel",
            "_view_count": null,
            "_view_module": "@jupyter-widgets/base",
            "_view_module_version": "1.2.0",
            "_view_name": "StyleView",
            "description_width": ""
          }
        },
        "04a28826ae044b7b93ca69c80e38a305": {
          "model_module": "@jupyter-widgets/base",
          "model_name": "LayoutModel",
          "model_module_version": "1.2.0",
          "state": {
            "_model_module": "@jupyter-widgets/base",
            "_model_module_version": "1.2.0",
            "_model_name": "LayoutModel",
            "_view_count": null,
            "_view_module": "@jupyter-widgets/base",
            "_view_module_version": "1.2.0",
            "_view_name": "LayoutView",
            "align_content": null,
            "align_items": null,
            "align_self": null,
            "border": null,
            "bottom": null,
            "display": null,
            "flex": null,
            "flex_flow": null,
            "grid_area": null,
            "grid_auto_columns": null,
            "grid_auto_flow": null,
            "grid_auto_rows": null,
            "grid_column": null,
            "grid_gap": null,
            "grid_row": null,
            "grid_template_areas": null,
            "grid_template_columns": null,
            "grid_template_rows": null,
            "height": null,
            "justify_content": null,
            "justify_items": null,
            "left": null,
            "margin": null,
            "max_height": null,
            "max_width": null,
            "min_height": null,
            "min_width": null,
            "object_fit": null,
            "object_position": null,
            "order": null,
            "overflow": null,
            "overflow_x": null,
            "overflow_y": null,
            "padding": null,
            "right": null,
            "top": null,
            "visibility": null,
            "width": null
          }
        },
        "2033db00eb9f4253bbe4b039e08ccb9d": {
          "model_module": "@jupyter-widgets/controls",
          "model_name": "ProgressStyleModel",
          "model_module_version": "1.5.0",
          "state": {
            "_model_module": "@jupyter-widgets/controls",
            "_model_module_version": "1.5.0",
            "_model_name": "ProgressStyleModel",
            "_view_count": null,
            "_view_module": "@jupyter-widgets/base",
            "_view_module_version": "1.2.0",
            "_view_name": "StyleView",
            "bar_color": null,
            "description_width": ""
          }
        },
        "9cb84e354e0e43de887e5e3c9ea608ee": {
          "model_module": "@jupyter-widgets/base",
          "model_name": "LayoutModel",
          "model_module_version": "1.2.0",
          "state": {
            "_model_module": "@jupyter-widgets/base",
            "_model_module_version": "1.2.0",
            "_model_name": "LayoutModel",
            "_view_count": null,
            "_view_module": "@jupyter-widgets/base",
            "_view_module_version": "1.2.0",
            "_view_name": "LayoutView",
            "align_content": null,
            "align_items": null,
            "align_self": null,
            "border": null,
            "bottom": null,
            "display": null,
            "flex": null,
            "flex_flow": null,
            "grid_area": null,
            "grid_auto_columns": null,
            "grid_auto_flow": null,
            "grid_auto_rows": null,
            "grid_column": null,
            "grid_gap": null,
            "grid_row": null,
            "grid_template_areas": null,
            "grid_template_columns": null,
            "grid_template_rows": null,
            "height": null,
            "justify_content": null,
            "justify_items": null,
            "left": null,
            "margin": null,
            "max_height": null,
            "max_width": null,
            "min_height": null,
            "min_width": null,
            "object_fit": null,
            "object_position": null,
            "order": null,
            "overflow": null,
            "overflow_x": null,
            "overflow_y": null,
            "padding": null,
            "right": null,
            "top": null,
            "visibility": null,
            "width": null
          }
        },
        "4df27fd44d2545eb8fe3d84694b51882": {
          "model_module": "@jupyter-widgets/controls",
          "model_name": "DescriptionStyleModel",
          "model_module_version": "1.5.0",
          "state": {
            "_model_module": "@jupyter-widgets/controls",
            "_model_module_version": "1.5.0",
            "_model_name": "DescriptionStyleModel",
            "_view_count": null,
            "_view_module": "@jupyter-widgets/base",
            "_view_module_version": "1.2.0",
            "_view_name": "StyleView",
            "description_width": ""
          }
        },
        "d6669478b7b34e58a5a0cd57b39da91a": {
          "model_module": "@jupyter-widgets/controls",
          "model_name": "HBoxModel",
          "model_module_version": "1.5.0",
          "state": {
            "_dom_classes": [],
            "_model_module": "@jupyter-widgets/controls",
            "_model_module_version": "1.5.0",
            "_model_name": "HBoxModel",
            "_view_count": null,
            "_view_module": "@jupyter-widgets/controls",
            "_view_module_version": "1.5.0",
            "_view_name": "HBoxView",
            "box_style": "",
            "children": [
              "IPY_MODEL_815723d20ea741f899f8041ce29f7864",
              "IPY_MODEL_69b9159bae8f4a64bcdbd1a0c96670ad",
              "IPY_MODEL_487a7d1ae8b7432e99e46ce1ca20e48f"
            ],
            "layout": "IPY_MODEL_cc92083514fc487b94053f9eab9bfc1e"
          }
        },
        "815723d20ea741f899f8041ce29f7864": {
          "model_module": "@jupyter-widgets/controls",
          "model_name": "HTMLModel",
          "model_module_version": "1.5.0",
          "state": {
            "_dom_classes": [],
            "_model_module": "@jupyter-widgets/controls",
            "_model_module_version": "1.5.0",
            "_model_name": "HTMLModel",
            "_view_count": null,
            "_view_module": "@jupyter-widgets/controls",
            "_view_module_version": "1.5.0",
            "_view_name": "HTMLView",
            "description": "",
            "description_tooltip": null,
            "layout": "IPY_MODEL_bba7f687587b487499e2d089064f86fb",
            "placeholder": "​",
            "style": "IPY_MODEL_811eedd5b9b74ce4be313ec0f0921a0e",
            "value": "Cell_Phones_and_Accessories.jsonl: 100%"
          }
        },
        "69b9159bae8f4a64bcdbd1a0c96670ad": {
          "model_module": "@jupyter-widgets/controls",
          "model_name": "FloatProgressModel",
          "model_module_version": "1.5.0",
          "state": {
            "_dom_classes": [],
            "_model_module": "@jupyter-widgets/controls",
            "_model_module_version": "1.5.0",
            "_model_name": "FloatProgressModel",
            "_view_count": null,
            "_view_module": "@jupyter-widgets/controls",
            "_view_module_version": "1.5.0",
            "_view_name": "ProgressView",
            "bar_style": "success",
            "description": "",
            "description_tooltip": null,
            "layout": "IPY_MODEL_167234167d8d4fc29ff685d8f7586cd8",
            "max": 9342568048,
            "min": 0,
            "orientation": "horizontal",
            "style": "IPY_MODEL_94f81d9234b94ace8de596e07b696c15",
            "value": 9342568048
          }
        },
        "487a7d1ae8b7432e99e46ce1ca20e48f": {
          "model_module": "@jupyter-widgets/controls",
          "model_name": "HTMLModel",
          "model_module_version": "1.5.0",
          "state": {
            "_dom_classes": [],
            "_model_module": "@jupyter-widgets/controls",
            "_model_module_version": "1.5.0",
            "_model_name": "HTMLModel",
            "_view_count": null,
            "_view_module": "@jupyter-widgets/controls",
            "_view_module_version": "1.5.0",
            "_view_name": "HTMLView",
            "description": "",
            "description_tooltip": null,
            "layout": "IPY_MODEL_fa75b5eac91242fb815250e607424dd0",
            "placeholder": "​",
            "style": "IPY_MODEL_f726b4606ebb48b8b3299ac7b6cb0922",
            "value": " 9.34G/9.34G [03:43&lt;00:00, 41.7MB/s]"
          }
        },
        "cc92083514fc487b94053f9eab9bfc1e": {
          "model_module": "@jupyter-widgets/base",
          "model_name": "LayoutModel",
          "model_module_version": "1.2.0",
          "state": {
            "_model_module": "@jupyter-widgets/base",
            "_model_module_version": "1.2.0",
            "_model_name": "LayoutModel",
            "_view_count": null,
            "_view_module": "@jupyter-widgets/base",
            "_view_module_version": "1.2.0",
            "_view_name": "LayoutView",
            "align_content": null,
            "align_items": null,
            "align_self": null,
            "border": null,
            "bottom": null,
            "display": null,
            "flex": null,
            "flex_flow": null,
            "grid_area": null,
            "grid_auto_columns": null,
            "grid_auto_flow": null,
            "grid_auto_rows": null,
            "grid_column": null,
            "grid_gap": null,
            "grid_row": null,
            "grid_template_areas": null,
            "grid_template_columns": null,
            "grid_template_rows": null,
            "height": null,
            "justify_content": null,
            "justify_items": null,
            "left": null,
            "margin": null,
            "max_height": null,
            "max_width": null,
            "min_height": null,
            "min_width": null,
            "object_fit": null,
            "object_position": null,
            "order": null,
            "overflow": null,
            "overflow_x": null,
            "overflow_y": null,
            "padding": null,
            "right": null,
            "top": null,
            "visibility": null,
            "width": null
          }
        },
        "bba7f687587b487499e2d089064f86fb": {
          "model_module": "@jupyter-widgets/base",
          "model_name": "LayoutModel",
          "model_module_version": "1.2.0",
          "state": {
            "_model_module": "@jupyter-widgets/base",
            "_model_module_version": "1.2.0",
            "_model_name": "LayoutModel",
            "_view_count": null,
            "_view_module": "@jupyter-widgets/base",
            "_view_module_version": "1.2.0",
            "_view_name": "LayoutView",
            "align_content": null,
            "align_items": null,
            "align_self": null,
            "border": null,
            "bottom": null,
            "display": null,
            "flex": null,
            "flex_flow": null,
            "grid_area": null,
            "grid_auto_columns": null,
            "grid_auto_flow": null,
            "grid_auto_rows": null,
            "grid_column": null,
            "grid_gap": null,
            "grid_row": null,
            "grid_template_areas": null,
            "grid_template_columns": null,
            "grid_template_rows": null,
            "height": null,
            "justify_content": null,
            "justify_items": null,
            "left": null,
            "margin": null,
            "max_height": null,
            "max_width": null,
            "min_height": null,
            "min_width": null,
            "object_fit": null,
            "object_position": null,
            "order": null,
            "overflow": null,
            "overflow_x": null,
            "overflow_y": null,
            "padding": null,
            "right": null,
            "top": null,
            "visibility": null,
            "width": null
          }
        },
        "811eedd5b9b74ce4be313ec0f0921a0e": {
          "model_module": "@jupyter-widgets/controls",
          "model_name": "DescriptionStyleModel",
          "model_module_version": "1.5.0",
          "state": {
            "_model_module": "@jupyter-widgets/controls",
            "_model_module_version": "1.5.0",
            "_model_name": "DescriptionStyleModel",
            "_view_count": null,
            "_view_module": "@jupyter-widgets/base",
            "_view_module_version": "1.2.0",
            "_view_name": "StyleView",
            "description_width": ""
          }
        },
        "167234167d8d4fc29ff685d8f7586cd8": {
          "model_module": "@jupyter-widgets/base",
          "model_name": "LayoutModel",
          "model_module_version": "1.2.0",
          "state": {
            "_model_module": "@jupyter-widgets/base",
            "_model_module_version": "1.2.0",
            "_model_name": "LayoutModel",
            "_view_count": null,
            "_view_module": "@jupyter-widgets/base",
            "_view_module_version": "1.2.0",
            "_view_name": "LayoutView",
            "align_content": null,
            "align_items": null,
            "align_self": null,
            "border": null,
            "bottom": null,
            "display": null,
            "flex": null,
            "flex_flow": null,
            "grid_area": null,
            "grid_auto_columns": null,
            "grid_auto_flow": null,
            "grid_auto_rows": null,
            "grid_column": null,
            "grid_gap": null,
            "grid_row": null,
            "grid_template_areas": null,
            "grid_template_columns": null,
            "grid_template_rows": null,
            "height": null,
            "justify_content": null,
            "justify_items": null,
            "left": null,
            "margin": null,
            "max_height": null,
            "max_width": null,
            "min_height": null,
            "min_width": null,
            "object_fit": null,
            "object_position": null,
            "order": null,
            "overflow": null,
            "overflow_x": null,
            "overflow_y": null,
            "padding": null,
            "right": null,
            "top": null,
            "visibility": null,
            "width": null
          }
        },
        "94f81d9234b94ace8de596e07b696c15": {
          "model_module": "@jupyter-widgets/controls",
          "model_name": "ProgressStyleModel",
          "model_module_version": "1.5.0",
          "state": {
            "_model_module": "@jupyter-widgets/controls",
            "_model_module_version": "1.5.0",
            "_model_name": "ProgressStyleModel",
            "_view_count": null,
            "_view_module": "@jupyter-widgets/base",
            "_view_module_version": "1.2.0",
            "_view_name": "StyleView",
            "bar_color": null,
            "description_width": ""
          }
        },
        "fa75b5eac91242fb815250e607424dd0": {
          "model_module": "@jupyter-widgets/base",
          "model_name": "LayoutModel",
          "model_module_version": "1.2.0",
          "state": {
            "_model_module": "@jupyter-widgets/base",
            "_model_module_version": "1.2.0",
            "_model_name": "LayoutModel",
            "_view_count": null,
            "_view_module": "@jupyter-widgets/base",
            "_view_module_version": "1.2.0",
            "_view_name": "LayoutView",
            "align_content": null,
            "align_items": null,
            "align_self": null,
            "border": null,
            "bottom": null,
            "display": null,
            "flex": null,
            "flex_flow": null,
            "grid_area": null,
            "grid_auto_columns": null,
            "grid_auto_flow": null,
            "grid_auto_rows": null,
            "grid_column": null,
            "grid_gap": null,
            "grid_row": null,
            "grid_template_areas": null,
            "grid_template_columns": null,
            "grid_template_rows": null,
            "height": null,
            "justify_content": null,
            "justify_items": null,
            "left": null,
            "margin": null,
            "max_height": null,
            "max_width": null,
            "min_height": null,
            "min_width": null,
            "object_fit": null,
            "object_position": null,
            "order": null,
            "overflow": null,
            "overflow_x": null,
            "overflow_y": null,
            "padding": null,
            "right": null,
            "top": null,
            "visibility": null,
            "width": null
          }
        },
        "f726b4606ebb48b8b3299ac7b6cb0922": {
          "model_module": "@jupyter-widgets/controls",
          "model_name": "DescriptionStyleModel",
          "model_module_version": "1.5.0",
          "state": {
            "_model_module": "@jupyter-widgets/controls",
            "_model_module_version": "1.5.0",
            "_model_name": "DescriptionStyleModel",
            "_view_count": null,
            "_view_module": "@jupyter-widgets/base",
            "_view_module_version": "1.2.0",
            "_view_name": "StyleView",
            "description_width": ""
          }
        },
        "06e7ac15e8d844248ed756f7d7f92091": {
          "model_module": "@jupyter-widgets/controls",
          "model_name": "HBoxModel",
          "model_module_version": "1.5.0",
          "state": {
            "_dom_classes": [],
            "_model_module": "@jupyter-widgets/controls",
            "_model_module_version": "1.5.0",
            "_model_name": "HBoxModel",
            "_view_count": null,
            "_view_module": "@jupyter-widgets/controls",
            "_view_module_version": "1.5.0",
            "_view_name": "HBoxView",
            "box_style": "",
            "children": [
              "IPY_MODEL_e1efa8e26c5243649f088f47f4c7fdc7",
              "IPY_MODEL_d46b453a2d6949fa8cb543b9799b2990",
              "IPY_MODEL_f509429b44864743bd5f5a1bc84eb24d"
            ],
            "layout": "IPY_MODEL_06e0d5fc8a364f5d9f182d03274cd526"
          }
        },
        "e1efa8e26c5243649f088f47f4c7fdc7": {
          "model_module": "@jupyter-widgets/controls",
          "model_name": "HTMLModel",
          "model_module_version": "1.5.0",
          "state": {
            "_dom_classes": [],
            "_model_module": "@jupyter-widgets/controls",
            "_model_module_version": "1.5.0",
            "_model_name": "HTMLModel",
            "_view_count": null,
            "_view_module": "@jupyter-widgets/controls",
            "_view_module_version": "1.5.0",
            "_view_name": "HTMLView",
            "description": "",
            "description_tooltip": null,
            "layout": "IPY_MODEL_58ec94924b334b148c177dfc75925a1f",
            "placeholder": "​",
            "style": "IPY_MODEL_b6e1b65196b44f8f96107a4f1aecacd3",
            "value": "Generating full split: "
          }
        },
        "d46b453a2d6949fa8cb543b9799b2990": {
          "model_module": "@jupyter-widgets/controls",
          "model_name": "FloatProgressModel",
          "model_module_version": "1.5.0",
          "state": {
            "_dom_classes": [],
            "_model_module": "@jupyter-widgets/controls",
            "_model_module_version": "1.5.0",
            "_model_name": "FloatProgressModel",
            "_view_count": null,
            "_view_module": "@jupyter-widgets/controls",
            "_view_module_version": "1.5.0",
            "_view_name": "ProgressView",
            "bar_style": "success",
            "description": "",
            "description_tooltip": null,
            "layout": "IPY_MODEL_da36c5fc7acf4c168ffb3f8eaf29ada0",
            "max": 1,
            "min": 0,
            "orientation": "horizontal",
            "style": "IPY_MODEL_c9aed57742e64e70b4b8df38ed3e014e",
            "value": 1
          }
        },
        "f509429b44864743bd5f5a1bc84eb24d": {
          "model_module": "@jupyter-widgets/controls",
          "model_name": "HTMLModel",
          "model_module_version": "1.5.0",
          "state": {
            "_dom_classes": [],
            "_model_module": "@jupyter-widgets/controls",
            "_model_module_version": "1.5.0",
            "_model_name": "HTMLModel",
            "_view_count": null,
            "_view_module": "@jupyter-widgets/controls",
            "_view_module_version": "1.5.0",
            "_view_name": "HTMLView",
            "description": "",
            "description_tooltip": null,
            "layout": "IPY_MODEL_5bc76de17fde4721ac93d32d5830be8a",
            "placeholder": "​",
            "style": "IPY_MODEL_6feb23a2b4384a45a5bbb9c886db68fa",
            "value": " 20812945/0 [09:19&lt;00:00, 42158.10 examples/s]"
          }
        },
        "06e0d5fc8a364f5d9f182d03274cd526": {
          "model_module": "@jupyter-widgets/base",
          "model_name": "LayoutModel",
          "model_module_version": "1.2.0",
          "state": {
            "_model_module": "@jupyter-widgets/base",
            "_model_module_version": "1.2.0",
            "_model_name": "LayoutModel",
            "_view_count": null,
            "_view_module": "@jupyter-widgets/base",
            "_view_module_version": "1.2.0",
            "_view_name": "LayoutView",
            "align_content": null,
            "align_items": null,
            "align_self": null,
            "border": null,
            "bottom": null,
            "display": null,
            "flex": null,
            "flex_flow": null,
            "grid_area": null,
            "grid_auto_columns": null,
            "grid_auto_flow": null,
            "grid_auto_rows": null,
            "grid_column": null,
            "grid_gap": null,
            "grid_row": null,
            "grid_template_areas": null,
            "grid_template_columns": null,
            "grid_template_rows": null,
            "height": null,
            "justify_content": null,
            "justify_items": null,
            "left": null,
            "margin": null,
            "max_height": null,
            "max_width": null,
            "min_height": null,
            "min_width": null,
            "object_fit": null,
            "object_position": null,
            "order": null,
            "overflow": null,
            "overflow_x": null,
            "overflow_y": null,
            "padding": null,
            "right": null,
            "top": null,
            "visibility": null,
            "width": null
          }
        },
        "58ec94924b334b148c177dfc75925a1f": {
          "model_module": "@jupyter-widgets/base",
          "model_name": "LayoutModel",
          "model_module_version": "1.2.0",
          "state": {
            "_model_module": "@jupyter-widgets/base",
            "_model_module_version": "1.2.0",
            "_model_name": "LayoutModel",
            "_view_count": null,
            "_view_module": "@jupyter-widgets/base",
            "_view_module_version": "1.2.0",
            "_view_name": "LayoutView",
            "align_content": null,
            "align_items": null,
            "align_self": null,
            "border": null,
            "bottom": null,
            "display": null,
            "flex": null,
            "flex_flow": null,
            "grid_area": null,
            "grid_auto_columns": null,
            "grid_auto_flow": null,
            "grid_auto_rows": null,
            "grid_column": null,
            "grid_gap": null,
            "grid_row": null,
            "grid_template_areas": null,
            "grid_template_columns": null,
            "grid_template_rows": null,
            "height": null,
            "justify_content": null,
            "justify_items": null,
            "left": null,
            "margin": null,
            "max_height": null,
            "max_width": null,
            "min_height": null,
            "min_width": null,
            "object_fit": null,
            "object_position": null,
            "order": null,
            "overflow": null,
            "overflow_x": null,
            "overflow_y": null,
            "padding": null,
            "right": null,
            "top": null,
            "visibility": null,
            "width": null
          }
        },
        "b6e1b65196b44f8f96107a4f1aecacd3": {
          "model_module": "@jupyter-widgets/controls",
          "model_name": "DescriptionStyleModel",
          "model_module_version": "1.5.0",
          "state": {
            "_model_module": "@jupyter-widgets/controls",
            "_model_module_version": "1.5.0",
            "_model_name": "DescriptionStyleModel",
            "_view_count": null,
            "_view_module": "@jupyter-widgets/base",
            "_view_module_version": "1.2.0",
            "_view_name": "StyleView",
            "description_width": ""
          }
        },
        "da36c5fc7acf4c168ffb3f8eaf29ada0": {
          "model_module": "@jupyter-widgets/base",
          "model_name": "LayoutModel",
          "model_module_version": "1.2.0",
          "state": {
            "_model_module": "@jupyter-widgets/base",
            "_model_module_version": "1.2.0",
            "_model_name": "LayoutModel",
            "_view_count": null,
            "_view_module": "@jupyter-widgets/base",
            "_view_module_version": "1.2.0",
            "_view_name": "LayoutView",
            "align_content": null,
            "align_items": null,
            "align_self": null,
            "border": null,
            "bottom": null,
            "display": null,
            "flex": null,
            "flex_flow": null,
            "grid_area": null,
            "grid_auto_columns": null,
            "grid_auto_flow": null,
            "grid_auto_rows": null,
            "grid_column": null,
            "grid_gap": null,
            "grid_row": null,
            "grid_template_areas": null,
            "grid_template_columns": null,
            "grid_template_rows": null,
            "height": null,
            "justify_content": null,
            "justify_items": null,
            "left": null,
            "margin": null,
            "max_height": null,
            "max_width": null,
            "min_height": null,
            "min_width": null,
            "object_fit": null,
            "object_position": null,
            "order": null,
            "overflow": null,
            "overflow_x": null,
            "overflow_y": null,
            "padding": null,
            "right": null,
            "top": null,
            "visibility": null,
            "width": "20px"
          }
        },
        "c9aed57742e64e70b4b8df38ed3e014e": {
          "model_module": "@jupyter-widgets/controls",
          "model_name": "ProgressStyleModel",
          "model_module_version": "1.5.0",
          "state": {
            "_model_module": "@jupyter-widgets/controls",
            "_model_module_version": "1.5.0",
            "_model_name": "ProgressStyleModel",
            "_view_count": null,
            "_view_module": "@jupyter-widgets/base",
            "_view_module_version": "1.2.0",
            "_view_name": "StyleView",
            "bar_color": null,
            "description_width": ""
          }
        },
        "5bc76de17fde4721ac93d32d5830be8a": {
          "model_module": "@jupyter-widgets/base",
          "model_name": "LayoutModel",
          "model_module_version": "1.2.0",
          "state": {
            "_model_module": "@jupyter-widgets/base",
            "_model_module_version": "1.2.0",
            "_model_name": "LayoutModel",
            "_view_count": null,
            "_view_module": "@jupyter-widgets/base",
            "_view_module_version": "1.2.0",
            "_view_name": "LayoutView",
            "align_content": null,
            "align_items": null,
            "align_self": null,
            "border": null,
            "bottom": null,
            "display": null,
            "flex": null,
            "flex_flow": null,
            "grid_area": null,
            "grid_auto_columns": null,
            "grid_auto_flow": null,
            "grid_auto_rows": null,
            "grid_column": null,
            "grid_gap": null,
            "grid_row": null,
            "grid_template_areas": null,
            "grid_template_columns": null,
            "grid_template_rows": null,
            "height": null,
            "justify_content": null,
            "justify_items": null,
            "left": null,
            "margin": null,
            "max_height": null,
            "max_width": null,
            "min_height": null,
            "min_width": null,
            "object_fit": null,
            "object_position": null,
            "order": null,
            "overflow": null,
            "overflow_x": null,
            "overflow_y": null,
            "padding": null,
            "right": null,
            "top": null,
            "visibility": null,
            "width": null
          }
        },
        "6feb23a2b4384a45a5bbb9c886db68fa": {
          "model_module": "@jupyter-widgets/controls",
          "model_name": "DescriptionStyleModel",
          "model_module_version": "1.5.0",
          "state": {
            "_model_module": "@jupyter-widgets/controls",
            "_model_module_version": "1.5.0",
            "_model_name": "DescriptionStyleModel",
            "_view_count": null,
            "_view_module": "@jupyter-widgets/base",
            "_view_module_version": "1.2.0",
            "_view_name": "StyleView",
            "description_width": ""
          }
        },
        "e87ca12eccaa49bcade0e11b80c3cc78": {
          "model_module": "@jupyter-widgets/controls",
          "model_name": "HBoxModel",
          "model_module_version": "1.5.0",
          "state": {
            "_dom_classes": [],
            "_model_module": "@jupyter-widgets/controls",
            "_model_module_version": "1.5.0",
            "_model_name": "HBoxModel",
            "_view_count": null,
            "_view_module": "@jupyter-widgets/controls",
            "_view_module_version": "1.5.0",
            "_view_name": "HBoxView",
            "box_style": "",
            "children": [
              "IPY_MODEL_d8673dd13cd24a99b141e97675f558a0",
              "IPY_MODEL_390da050451d45788e7c5f2e52639396",
              "IPY_MODEL_b8b98c865cf9456face92a0ebc9bc993"
            ],
            "layout": "IPY_MODEL_6abd906bef694e7aab7d666ce24bf740"
          }
        },
        "d8673dd13cd24a99b141e97675f558a0": {
          "model_module": "@jupyter-widgets/controls",
          "model_name": "HTMLModel",
          "model_module_version": "1.5.0",
          "state": {
            "_dom_classes": [],
            "_model_module": "@jupyter-widgets/controls",
            "_model_module_version": "1.5.0",
            "_model_name": "HTMLModel",
            "_view_count": null,
            "_view_module": "@jupyter-widgets/controls",
            "_view_module_version": "1.5.0",
            "_view_name": "HTMLView",
            "description": "",
            "description_tooltip": null,
            "layout": "IPY_MODEL_e8345c3829e546cdb308e230d12b8d3e",
            "placeholder": "​",
            "style": "IPY_MODEL_b4066d3c19174062889dddfcd2b2c30f",
            "value": "Filter: 100%"
          }
        },
        "390da050451d45788e7c5f2e52639396": {
          "model_module": "@jupyter-widgets/controls",
          "model_name": "FloatProgressModel",
          "model_module_version": "1.5.0",
          "state": {
            "_dom_classes": [],
            "_model_module": "@jupyter-widgets/controls",
            "_model_module_version": "1.5.0",
            "_model_name": "FloatProgressModel",
            "_view_count": null,
            "_view_module": "@jupyter-widgets/controls",
            "_view_module_version": "1.5.0",
            "_view_name": "ProgressView",
            "bar_style": "success",
            "description": "",
            "description_tooltip": null,
            "layout": "IPY_MODEL_9d4a22aed22a439e8556fb27bda1b7b3",
            "max": 20812945,
            "min": 0,
            "orientation": "horizontal",
            "style": "IPY_MODEL_0645a39d7b74494eba874f442531bc81",
            "value": 20812945
          }
        },
        "b8b98c865cf9456face92a0ebc9bc993": {
          "model_module": "@jupyter-widgets/controls",
          "model_name": "HTMLModel",
          "model_module_version": "1.5.0",
          "state": {
            "_dom_classes": [],
            "_model_module": "@jupyter-widgets/controls",
            "_model_module_version": "1.5.0",
            "_model_name": "HTMLModel",
            "_view_count": null,
            "_view_module": "@jupyter-widgets/controls",
            "_view_module_version": "1.5.0",
            "_view_name": "HTMLView",
            "description": "",
            "description_tooltip": null,
            "layout": "IPY_MODEL_0fd4c6bb51d44ddb930bc4d29ca3b684",
            "placeholder": "​",
            "style": "IPY_MODEL_8fc8ec3ee28d4edabed11672aeb6ab6b",
            "value": " 20812945/20812945 [00:52&lt;00:00, 253015.91 examples/s]"
          }
        },
        "6abd906bef694e7aab7d666ce24bf740": {
          "model_module": "@jupyter-widgets/base",
          "model_name": "LayoutModel",
          "model_module_version": "1.2.0",
          "state": {
            "_model_module": "@jupyter-widgets/base",
            "_model_module_version": "1.2.0",
            "_model_name": "LayoutModel",
            "_view_count": null,
            "_view_module": "@jupyter-widgets/base",
            "_view_module_version": "1.2.0",
            "_view_name": "LayoutView",
            "align_content": null,
            "align_items": null,
            "align_self": null,
            "border": null,
            "bottom": null,
            "display": null,
            "flex": null,
            "flex_flow": null,
            "grid_area": null,
            "grid_auto_columns": null,
            "grid_auto_flow": null,
            "grid_auto_rows": null,
            "grid_column": null,
            "grid_gap": null,
            "grid_row": null,
            "grid_template_areas": null,
            "grid_template_columns": null,
            "grid_template_rows": null,
            "height": null,
            "justify_content": null,
            "justify_items": null,
            "left": null,
            "margin": null,
            "max_height": null,
            "max_width": null,
            "min_height": null,
            "min_width": null,
            "object_fit": null,
            "object_position": null,
            "order": null,
            "overflow": null,
            "overflow_x": null,
            "overflow_y": null,
            "padding": null,
            "right": null,
            "top": null,
            "visibility": null,
            "width": null
          }
        },
        "e8345c3829e546cdb308e230d12b8d3e": {
          "model_module": "@jupyter-widgets/base",
          "model_name": "LayoutModel",
          "model_module_version": "1.2.0",
          "state": {
            "_model_module": "@jupyter-widgets/base",
            "_model_module_version": "1.2.0",
            "_model_name": "LayoutModel",
            "_view_count": null,
            "_view_module": "@jupyter-widgets/base",
            "_view_module_version": "1.2.0",
            "_view_name": "LayoutView",
            "align_content": null,
            "align_items": null,
            "align_self": null,
            "border": null,
            "bottom": null,
            "display": null,
            "flex": null,
            "flex_flow": null,
            "grid_area": null,
            "grid_auto_columns": null,
            "grid_auto_flow": null,
            "grid_auto_rows": null,
            "grid_column": null,
            "grid_gap": null,
            "grid_row": null,
            "grid_template_areas": null,
            "grid_template_columns": null,
            "grid_template_rows": null,
            "height": null,
            "justify_content": null,
            "justify_items": null,
            "left": null,
            "margin": null,
            "max_height": null,
            "max_width": null,
            "min_height": null,
            "min_width": null,
            "object_fit": null,
            "object_position": null,
            "order": null,
            "overflow": null,
            "overflow_x": null,
            "overflow_y": null,
            "padding": null,
            "right": null,
            "top": null,
            "visibility": null,
            "width": null
          }
        },
        "b4066d3c19174062889dddfcd2b2c30f": {
          "model_module": "@jupyter-widgets/controls",
          "model_name": "DescriptionStyleModel",
          "model_module_version": "1.5.0",
          "state": {
            "_model_module": "@jupyter-widgets/controls",
            "_model_module_version": "1.5.0",
            "_model_name": "DescriptionStyleModel",
            "_view_count": null,
            "_view_module": "@jupyter-widgets/base",
            "_view_module_version": "1.2.0",
            "_view_name": "StyleView",
            "description_width": ""
          }
        },
        "9d4a22aed22a439e8556fb27bda1b7b3": {
          "model_module": "@jupyter-widgets/base",
          "model_name": "LayoutModel",
          "model_module_version": "1.2.0",
          "state": {
            "_model_module": "@jupyter-widgets/base",
            "_model_module_version": "1.2.0",
            "_model_name": "LayoutModel",
            "_view_count": null,
            "_view_module": "@jupyter-widgets/base",
            "_view_module_version": "1.2.0",
            "_view_name": "LayoutView",
            "align_content": null,
            "align_items": null,
            "align_self": null,
            "border": null,
            "bottom": null,
            "display": null,
            "flex": null,
            "flex_flow": null,
            "grid_area": null,
            "grid_auto_columns": null,
            "grid_auto_flow": null,
            "grid_auto_rows": null,
            "grid_column": null,
            "grid_gap": null,
            "grid_row": null,
            "grid_template_areas": null,
            "grid_template_columns": null,
            "grid_template_rows": null,
            "height": null,
            "justify_content": null,
            "justify_items": null,
            "left": null,
            "margin": null,
            "max_height": null,
            "max_width": null,
            "min_height": null,
            "min_width": null,
            "object_fit": null,
            "object_position": null,
            "order": null,
            "overflow": null,
            "overflow_x": null,
            "overflow_y": null,
            "padding": null,
            "right": null,
            "top": null,
            "visibility": null,
            "width": null
          }
        },
        "0645a39d7b74494eba874f442531bc81": {
          "model_module": "@jupyter-widgets/controls",
          "model_name": "ProgressStyleModel",
          "model_module_version": "1.5.0",
          "state": {
            "_model_module": "@jupyter-widgets/controls",
            "_model_module_version": "1.5.0",
            "_model_name": "ProgressStyleModel",
            "_view_count": null,
            "_view_module": "@jupyter-widgets/base",
            "_view_module_version": "1.2.0",
            "_view_name": "StyleView",
            "bar_color": null,
            "description_width": ""
          }
        },
        "0fd4c6bb51d44ddb930bc4d29ca3b684": {
          "model_module": "@jupyter-widgets/base",
          "model_name": "LayoutModel",
          "model_module_version": "1.2.0",
          "state": {
            "_model_module": "@jupyter-widgets/base",
            "_model_module_version": "1.2.0",
            "_model_name": "LayoutModel",
            "_view_count": null,
            "_view_module": "@jupyter-widgets/base",
            "_view_module_version": "1.2.0",
            "_view_name": "LayoutView",
            "align_content": null,
            "align_items": null,
            "align_self": null,
            "border": null,
            "bottom": null,
            "display": null,
            "flex": null,
            "flex_flow": null,
            "grid_area": null,
            "grid_auto_columns": null,
            "grid_auto_flow": null,
            "grid_auto_rows": null,
            "grid_column": null,
            "grid_gap": null,
            "grid_row": null,
            "grid_template_areas": null,
            "grid_template_columns": null,
            "grid_template_rows": null,
            "height": null,
            "justify_content": null,
            "justify_items": null,
            "left": null,
            "margin": null,
            "max_height": null,
            "max_width": null,
            "min_height": null,
            "min_width": null,
            "object_fit": null,
            "object_position": null,
            "order": null,
            "overflow": null,
            "overflow_x": null,
            "overflow_y": null,
            "padding": null,
            "right": null,
            "top": null,
            "visibility": null,
            "width": null
          }
        },
        "8fc8ec3ee28d4edabed11672aeb6ab6b": {
          "model_module": "@jupyter-widgets/controls",
          "model_name": "DescriptionStyleModel",
          "model_module_version": "1.5.0",
          "state": {
            "_model_module": "@jupyter-widgets/controls",
            "_model_module_version": "1.5.0",
            "_model_name": "DescriptionStyleModel",
            "_view_count": null,
            "_view_module": "@jupyter-widgets/base",
            "_view_module_version": "1.2.0",
            "_view_name": "StyleView",
            "description_width": ""
          }
        }
      }
    }
  },
  "cells": [
    {
      "cell_type": "code",
      "source": [
        "!pip install datasets"
      ],
      "metadata": {
        "colab": {
          "base_uri": "https://localhost:8080/"
        },
        "id": "mhXU_7dvsMzv",
        "outputId": "7e749896-c502-402b-ccbb-b327b9060092"
      },
      "execution_count": null,
      "outputs": [
        {
          "output_type": "stream",
          "name": "stdout",
          "text": [
            "Collecting datasets\n",
            "  Downloading datasets-3.2.0-py3-none-any.whl.metadata (20 kB)\n",
            "Requirement already satisfied: filelock in /usr/local/lib/python3.10/dist-packages (from datasets) (3.16.1)\n",
            "Requirement already satisfied: numpy>=1.17 in /usr/local/lib/python3.10/dist-packages (from datasets) (1.26.4)\n",
            "Requirement already satisfied: pyarrow>=15.0.0 in /usr/local/lib/python3.10/dist-packages (from datasets) (17.0.0)\n",
            "Collecting dill<0.3.9,>=0.3.0 (from datasets)\n",
            "  Downloading dill-0.3.8-py3-none-any.whl.metadata (10 kB)\n",
            "Requirement already satisfied: pandas in /usr/local/lib/python3.10/dist-packages (from datasets) (2.2.2)\n",
            "Requirement already satisfied: requests>=2.32.2 in /usr/local/lib/python3.10/dist-packages (from datasets) (2.32.3)\n",
            "Requirement already satisfied: tqdm>=4.66.3 in /usr/local/lib/python3.10/dist-packages (from datasets) (4.66.6)\n",
            "Collecting xxhash (from datasets)\n",
            "  Downloading xxhash-3.5.0-cp310-cp310-manylinux_2_17_x86_64.manylinux2014_x86_64.whl.metadata (12 kB)\n",
            "Collecting multiprocess<0.70.17 (from datasets)\n",
            "  Downloading multiprocess-0.70.16-py310-none-any.whl.metadata (7.2 kB)\n",
            "Collecting fsspec<=2024.9.0,>=2023.1.0 (from fsspec[http]<=2024.9.0,>=2023.1.0->datasets)\n",
            "  Downloading fsspec-2024.9.0-py3-none-any.whl.metadata (11 kB)\n",
            "Requirement already satisfied: aiohttp in /usr/local/lib/python3.10/dist-packages (from datasets) (3.11.10)\n",
            "Requirement already satisfied: huggingface-hub>=0.23.0 in /usr/local/lib/python3.10/dist-packages (from datasets) (0.26.5)\n",
            "Requirement already satisfied: packaging in /usr/local/lib/python3.10/dist-packages (from datasets) (24.2)\n",
            "Requirement already satisfied: pyyaml>=5.1 in /usr/local/lib/python3.10/dist-packages (from datasets) (6.0.2)\n",
            "Requirement already satisfied: aiohappyeyeballs>=2.3.0 in /usr/local/lib/python3.10/dist-packages (from aiohttp->datasets) (2.4.4)\n",
            "Requirement already satisfied: aiosignal>=1.1.2 in /usr/local/lib/python3.10/dist-packages (from aiohttp->datasets) (1.3.2)\n",
            "Requirement already satisfied: async-timeout<6.0,>=4.0 in /usr/local/lib/python3.10/dist-packages (from aiohttp->datasets) (4.0.3)\n",
            "Requirement already satisfied: attrs>=17.3.0 in /usr/local/lib/python3.10/dist-packages (from aiohttp->datasets) (24.2.0)\n",
            "Requirement already satisfied: frozenlist>=1.1.1 in /usr/local/lib/python3.10/dist-packages (from aiohttp->datasets) (1.5.0)\n",
            "Requirement already satisfied: multidict<7.0,>=4.5 in /usr/local/lib/python3.10/dist-packages (from aiohttp->datasets) (6.1.0)\n",
            "Requirement already satisfied: propcache>=0.2.0 in /usr/local/lib/python3.10/dist-packages (from aiohttp->datasets) (0.2.1)\n",
            "Requirement already satisfied: yarl<2.0,>=1.17.0 in /usr/local/lib/python3.10/dist-packages (from aiohttp->datasets) (1.18.3)\n",
            "Requirement already satisfied: typing-extensions>=3.7.4.3 in /usr/local/lib/python3.10/dist-packages (from huggingface-hub>=0.23.0->datasets) (4.12.2)\n",
            "Requirement already satisfied: charset-normalizer<4,>=2 in /usr/local/lib/python3.10/dist-packages (from requests>=2.32.2->datasets) (3.4.0)\n",
            "Requirement already satisfied: idna<4,>=2.5 in /usr/local/lib/python3.10/dist-packages (from requests>=2.32.2->datasets) (3.10)\n",
            "Requirement already satisfied: urllib3<3,>=1.21.1 in /usr/local/lib/python3.10/dist-packages (from requests>=2.32.2->datasets) (2.2.3)\n",
            "Requirement already satisfied: certifi>=2017.4.17 in /usr/local/lib/python3.10/dist-packages (from requests>=2.32.2->datasets) (2024.8.30)\n",
            "Requirement already satisfied: python-dateutil>=2.8.2 in /usr/local/lib/python3.10/dist-packages (from pandas->datasets) (2.8.2)\n",
            "Requirement already satisfied: pytz>=2020.1 in /usr/local/lib/python3.10/dist-packages (from pandas->datasets) (2024.2)\n",
            "Requirement already satisfied: tzdata>=2022.7 in /usr/local/lib/python3.10/dist-packages (from pandas->datasets) (2024.2)\n",
            "Requirement already satisfied: six>=1.5 in /usr/local/lib/python3.10/dist-packages (from python-dateutil>=2.8.2->pandas->datasets) (1.17.0)\n",
            "Downloading datasets-3.2.0-py3-none-any.whl (480 kB)\n",
            "\u001b[2K   \u001b[90m━━━━━━━━━━━━━━━━━━━━━━━━━━━━━━━━━━━━━━━━\u001b[0m \u001b[32m480.6/480.6 kB\u001b[0m \u001b[31m9.0 MB/s\u001b[0m eta \u001b[36m0:00:00\u001b[0m\n",
            "\u001b[?25hDownloading dill-0.3.8-py3-none-any.whl (116 kB)\n",
            "\u001b[2K   \u001b[90m━━━━━━━━━━━━━━━━━━━━━━━━━━━━━━━━━━━━━━━━\u001b[0m \u001b[32m116.3/116.3 kB\u001b[0m \u001b[31m8.5 MB/s\u001b[0m eta \u001b[36m0:00:00\u001b[0m\n",
            "\u001b[?25hDownloading fsspec-2024.9.0-py3-none-any.whl (179 kB)\n",
            "\u001b[2K   \u001b[90m━━━━━━━━━━━━━━━━━━━━━━━━━━━━━━━━━━━━━━━━\u001b[0m \u001b[32m179.3/179.3 kB\u001b[0m \u001b[31m13.1 MB/s\u001b[0m eta \u001b[36m0:00:00\u001b[0m\n",
            "\u001b[?25hDownloading multiprocess-0.70.16-py310-none-any.whl (134 kB)\n",
            "\u001b[2K   \u001b[90m━━━━━━━━━━━━━━━━━━━━━━━━━━━━━━━━━━━━━━━━\u001b[0m \u001b[32m134.8/134.8 kB\u001b[0m \u001b[31m9.5 MB/s\u001b[0m eta \u001b[36m0:00:00\u001b[0m\n",
            "\u001b[?25hDownloading xxhash-3.5.0-cp310-cp310-manylinux_2_17_x86_64.manylinux2014_x86_64.whl (194 kB)\n",
            "\u001b[2K   \u001b[90m━━━━━━━━━━━━━━━━━━━━━━━━━━━━━━━━━━━━━━━━\u001b[0m \u001b[32m194.1/194.1 kB\u001b[0m \u001b[31m12.6 MB/s\u001b[0m eta \u001b[36m0:00:00\u001b[0m\n",
            "\u001b[?25hInstalling collected packages: xxhash, fsspec, dill, multiprocess, datasets\n",
            "  Attempting uninstall: fsspec\n",
            "    Found existing installation: fsspec 2024.10.0\n",
            "    Uninstalling fsspec-2024.10.0:\n",
            "      Successfully uninstalled fsspec-2024.10.0\n",
            "\u001b[31mERROR: pip's dependency resolver does not currently take into account all the packages that are installed. This behaviour is the source of the following dependency conflicts.\n",
            "gcsfs 2024.10.0 requires fsspec==2024.10.0, but you have fsspec 2024.9.0 which is incompatible.\u001b[0m\u001b[31m\n",
            "\u001b[0mSuccessfully installed datasets-3.2.0 dill-0.3.8 fsspec-2024.9.0 multiprocess-0.70.16 xxhash-3.5.0\n"
          ]
        }
      ]
    },
    {
      "cell_type": "code",
      "execution_count": null,
      "metadata": {
        "colab": {
          "base_uri": "https://localhost:8080/",
          "height": 290,
          "referenced_widgets": [
            "e7a2b9e594e642e6a8288bd46b6d3c78",
            "5a95af892dc540bb896f7d5c79568161",
            "8a222aa184ac4257b145ba7a3d3c041d",
            "05d0309ce2c8404caa54cff9422ffd22",
            "c1a895715d3d4081a785c546f3e3b3aa",
            "8eefd2dbb67742ac9cbed575837deb1b",
            "106f7b732e1f4d0e93c948b6f5b836dd",
            "b44adc06054643fc8ae0751b9e1689f3",
            "b98ded37df334338840ab42f1a7453d1",
            "0b4a6827c89145f3bd9fa036c1fa969e",
            "120099e282944e21b527507f3f28aea6",
            "02e12be8cde846c6835a18dddb732009",
            "1c233deb0f2e466f8ae808a390aba2d9",
            "1cb44f9938f7419d93432b98ebba30b7",
            "2c4595869f3447da88e39bec01f9476f",
            "d4fd91f978ea4cf99158e7aad1e322fe",
            "8909464d6878472fb371077fa9d64f3c",
            "524cc65a06db49ecab36ee40ee7934ae",
            "04a28826ae044b7b93ca69c80e38a305",
            "2033db00eb9f4253bbe4b039e08ccb9d",
            "9cb84e354e0e43de887e5e3c9ea608ee",
            "4df27fd44d2545eb8fe3d84694b51882",
            "d6669478b7b34e58a5a0cd57b39da91a",
            "815723d20ea741f899f8041ce29f7864",
            "69b9159bae8f4a64bcdbd1a0c96670ad",
            "487a7d1ae8b7432e99e46ce1ca20e48f",
            "cc92083514fc487b94053f9eab9bfc1e",
            "bba7f687587b487499e2d089064f86fb",
            "811eedd5b9b74ce4be313ec0f0921a0e",
            "167234167d8d4fc29ff685d8f7586cd8",
            "94f81d9234b94ace8de596e07b696c15",
            "fa75b5eac91242fb815250e607424dd0",
            "f726b4606ebb48b8b3299ac7b6cb0922",
            "06e7ac15e8d844248ed756f7d7f92091",
            "e1efa8e26c5243649f088f47f4c7fdc7",
            "d46b453a2d6949fa8cb543b9799b2990",
            "f509429b44864743bd5f5a1bc84eb24d",
            "06e0d5fc8a364f5d9f182d03274cd526",
            "58ec94924b334b148c177dfc75925a1f",
            "b6e1b65196b44f8f96107a4f1aecacd3",
            "da36c5fc7acf4c168ffb3f8eaf29ada0",
            "c9aed57742e64e70b4b8df38ed3e014e",
            "5bc76de17fde4721ac93d32d5830be8a",
            "6feb23a2b4384a45a5bbb9c886db68fa"
          ]
        },
        "id": "BqUcmyt8sKgN",
        "outputId": "3f2817fc-b9a9-405f-fe9b-1507ddf7e606"
      },
      "outputs": [
        {
          "output_type": "stream",
          "name": "stderr",
          "text": [
            "/usr/local/lib/python3.10/dist-packages/huggingface_hub/utils/_auth.py:94: UserWarning: \n",
            "The secret `HF_TOKEN` does not exist in your Colab secrets.\n",
            "To authenticate with the Hugging Face Hub, create a token in your settings tab (https://huggingface.co/settings/tokens), set it as secret in your Google Colab and restart your session.\n",
            "You will be able to reuse this secret in all of your notebooks.\n",
            "Please note that authentication is recommended but still optional to access public models or datasets.\n",
            "  warnings.warn(\n"
          ]
        },
        {
          "output_type": "display_data",
          "data": {
            "text/plain": [
              "README.md:   0%|          | 0.00/30.3k [00:00<?, ?B/s]"
            ],
            "application/vnd.jupyter.widget-view+json": {
              "version_major": 2,
              "version_minor": 0,
              "model_id": "e7a2b9e594e642e6a8288bd46b6d3c78"
            }
          },
          "metadata": {}
        },
        {
          "output_type": "display_data",
          "data": {
            "text/plain": [
              "Amazon-Reviews-2023.py:   0%|          | 0.00/39.6k [00:00<?, ?B/s]"
            ],
            "application/vnd.jupyter.widget-view+json": {
              "version_major": 2,
              "version_minor": 0,
              "model_id": "02e12be8cde846c6835a18dddb732009"
            }
          },
          "metadata": {}
        },
        {
          "output_type": "display_data",
          "data": {
            "text/plain": [
              "Cell_Phones_and_Accessories.jsonl:   0%|          | 0.00/9.34G [00:00<?, ?B/s]"
            ],
            "application/vnd.jupyter.widget-view+json": {
              "version_major": 2,
              "version_minor": 0,
              "model_id": "d6669478b7b34e58a5a0cd57b39da91a"
            }
          },
          "metadata": {}
        },
        {
          "output_type": "display_data",
          "data": {
            "text/plain": [
              "Generating full split: 0 examples [00:00, ? examples/s]"
            ],
            "application/vnd.jupyter.widget-view+json": {
              "version_major": 2,
              "version_minor": 0,
              "model_id": "06e7ac15e8d844248ed756f7d7f92091"
            }
          },
          "metadata": {}
        },
        {
          "output_type": "stream",
          "name": "stdout",
          "text": [
            "{'rating': 4.0, 'title': 'No white background! It’s clear!', 'text': 'I bought this bc I thought it had the nice white background. Turns out it’s clear & since my phone is blue it doesn’t look anything like this.  If I had known that I would have purchased something else. It works ok.', 'images': [{'attachment_type': 'IMAGE', 'large_image_url': 'https://images-na.ssl-images-amazon.com/images/I/B1PrCo7ZjXS._SL1600_.jpg', 'medium_image_url': 'https://images-na.ssl-images-amazon.com/images/I/B1PrCo7ZjXS._SL800_.jpg', 'small_image_url': 'https://images-na.ssl-images-amazon.com/images/I/B1PrCo7ZjXS._SL256_.jpg'}], 'asin': 'B08L6L3X1S', 'parent_asin': 'B08L6L3X1S', 'user_id': 'AFKZENTNBQ7A7V7UXW5JJI6UGRYQ', 'timestamp': 1612044451196, 'helpful_vote': 0, 'verified_purchase': True}\n"
          ]
        }
      ],
      "source": [
        "from datasets import load_dataset\n",
        "# load user reviews\n",
        "dataset = load_dataset(\"McAuley-Lab/Amazon-Reviews-2023\", \"raw_review_Cell_Phones_and_Accessories\", trust_remote_code=True)\n",
        "print(dataset[\"full\"][0])\n"
      ]
    },
    {
      "cell_type": "code",
      "source": [
        "# load item metadata\n",
        "metadataset = load_dataset(\"McAuley-Lab/Amazon-Reviews-2023\", \"raw_meta_Cell_Phones_and_Accessories\", trust_remote_code=True)\n",
        "print(metadataset[\"full\"][0])"
      ],
      "metadata": {
        "colab": {
          "base_uri": "https://localhost:8080/",
          "height": 119,
          "referenced_widgets": [
            "c362b2ab12004d2d9d90d9724e47cd5a",
            "e13ffa94b63d41edafa98674c04b24d5",
            "4c4d0feae0ce4c29abb3265b18220e2a",
            "c0c31b5bb2c247dab701bdd31d7570e7",
            "bf7af6ac97784e6aa78a397f7f4d1a70",
            "ecd6d03f09404895b563fa9be02b4454",
            "c8bfdda5f4904811ac60c3ec75328944",
            "2fbd0180c5e64340819c86141a8d97ce",
            "2e0ae76df3ea402085dbb3e44450c9a0",
            "6accf08a5de94c13bb6ff4cc1dab4afe",
            "411d4333c10f4de38f74ac2481c05969",
            "6ed4c10ad0614dd2a2fc9c71dbad6272",
            "46b641cf37484bb7bb47d86003ae8657",
            "d6da06d956e844908f5ecd56f91b25f5",
            "cb6afb8d4e5f46e88ba16034c8b48c24",
            "4ffde5bdf26b42e08fff430a793376ba",
            "04c27bc92e6d42b3ae1180b15a696c6e",
            "9449790821084bd78870edf57bb06a11",
            "5cc16c04fbab46998bf439425f2ddd0a",
            "c8c7fea63224479da8ad46cb7d534de6",
            "7acee1fcd98e4ee38e25d0a344870772",
            "528d4ee88d1b4c40bd551de07230b7bb"
          ]
        },
        "id": "pkNODZZusMRh",
        "outputId": "0144c166-7115-4bc3-9e08-71be2ce51546"
      },
      "execution_count": null,
      "outputs": [
        {
          "output_type": "display_data",
          "data": {
            "text/plain": [
              "meta_Cell_Phones_and_Accessories.jsonl:   3%|2         | 105M/4.02G [00:00<?, ?B/s]"
            ],
            "application/vnd.jupyter.widget-view+json": {
              "version_major": 2,
              "version_minor": 0,
              "model_id": "c362b2ab12004d2d9d90d9724e47cd5a"
            }
          },
          "metadata": {}
        },
        {
          "output_type": "display_data",
          "data": {
            "text/plain": [
              "Generating full split:   0%|          | 0/1288490 [00:00<?, ? examples/s]"
            ],
            "application/vnd.jupyter.widget-view+json": {
              "version_major": 2,
              "version_minor": 0,
              "model_id": "6ed4c10ad0614dd2a2fc9c71dbad6272"
            }
          },
          "metadata": {}
        },
        {
          "output_type": "stream",
          "name": "stdout",
          "text": [
            "{'main_category': 'Cell Phones & Accessories', 'title': 'ARAREE Slim Diary Cell Phone Case for Samsung Galaxy Note 5 - Retail Packaging - Coral Pink', 'average_rating': 3.8, 'rating_number': 5, 'features': ['Genuine Cow leather with 6 different colors', '3 Pockets for ID, Cards and receipts', 'The inside skin is made of microsuede, polycarbonate', \"It doesn't have magnets The inner PC case color is gold\", 'Made in Korea'], 'description': [\"JUST LOOK, You can tell the difference. Make everyday more convenient, it is slim but has big rooms. If you are looking for a rich and luxurious appearance, look no further. These double shoulders are the perfect leather for creating attractive finished belts, straps and wallets. It doesn't only show the perfect weight for accessories where rugged durability is needed but also has a natural finish and coarse grain.\"], 'price': 'None', 'images': {'hi_res': [None, None, None, None, None, None, None], 'large': ['https://m.media-amazon.com/images/I/51Q9w96zIQL._AC_.jpg', 'https://m.media-amazon.com/images/I/313l+o9yq4L._AC_.jpg', 'https://m.media-amazon.com/images/I/31dB-5tjhbL._AC_.jpg', 'https://m.media-amazon.com/images/I/51EQ5aGITZL._AC_.jpg', 'https://m.media-amazon.com/images/I/51f+krWe67L._AC_.jpg', 'https://m.media-amazon.com/images/I/51XUQoEKNDL._AC_.jpg', 'https://m.media-amazon.com/images/I/51VNEfu9LSL._AC_.jpg'], 'thumb': ['https://m.media-amazon.com/images/I/51Q9w96zIQL._AC_SR38,50_.jpg', 'https://m.media-amazon.com/images/I/313l+o9yq4L._AC_SR38,50_.jpg', 'https://m.media-amazon.com/images/I/31dB-5tjhbL._AC_SR38,50_.jpg', 'https://m.media-amazon.com/images/I/51EQ5aGITZL._AC_SR38,50_.jpg', 'https://m.media-amazon.com/images/I/51f+krWe67L._AC_SR38,50_.jpg', 'https://m.media-amazon.com/images/I/51XUQoEKNDL._AC_SR38,50_.jpg', 'https://m.media-amazon.com/images/I/51VNEfu9LSL._AC_SR38,50_.jpg'], 'variant': ['MAIN', 'PT01', 'PT02', 'PT03', 'PT04', 'PT05', 'PT06']}, 'videos': {'title': [], 'url': [], 'user_id': []}, 'store': 'araree', 'categories': ['Cell Phones & Accessories', 'Cases, Holsters & Sleeves', 'Basic Cases'], 'details': '{\"Product Dimensions\": \"3.35 x 0.59 x 6.18 inches\", \"Item Weight\": \"2.68 ounces\", \"Item model number\": \"AR10-00069E\", \"Is Discontinued By Manufacturer\": \"No\", \"Other display features\": \"Wireless\", \"Color\": \"CORAL PINK\", \"Manufacturer\": \"Latte Communications\", \"Date First Available\": \"August 13, 2015\", \"Brand\": \"araree\", \"Compatible Phone Models\": \"Samsung Galaxy Note, Samsung Galaxy Note 5\", \"Material\": \"Leather, Polycarbonate\", \"Screen Size\": \"5.7 Inches\"}', 'parent_asin': 'B013SK1JTY', 'bought_together': None, 'subtitle': None, 'author': None}\n"
          ]
        }
      ]
    },
    {
      "cell_type": "code",
      "source": [
        "len(dataset[\"full\"])"
      ],
      "metadata": {
        "colab": {
          "base_uri": "https://localhost:8080/"
        },
        "id": "vZoJTI6V81cx",
        "outputId": "837d0138-ee90-42ef-e805-f31370174c09"
      },
      "execution_count": null,
      "outputs": [
        {
          "output_type": "execute_result",
          "data": {
            "text/plain": [
              "20812945"
            ]
          },
          "metadata": {},
          "execution_count": 22
        }
      ]
    },
    {
      "cell_type": "code",
      "source": [
        "dataset[\"full\"][3033]"
      ],
      "metadata": {
        "colab": {
          "base_uri": "https://localhost:8080/"
        },
        "id": "kDqgShrv9z9g",
        "outputId": "69c03ab7-e6ea-49ea-9d02-2eba6aebf55a"
      },
      "execution_count": null,
      "outputs": [
        {
          "output_type": "execute_result",
          "data": {
            "text/plain": [
              "{'rating': 2.0,\n",
              " 'title': 'Pinches hair',\n",
              " 'text': 'This was to hard to remove and it pinched the hair on my arm',\n",
              " 'images': [],\n",
              " 'asin': 'B0739R26M7',\n",
              " 'parent_asin': 'B08D3HGCTX',\n",
              " 'user_id': 'AHZLHIUGLP67LYFOQP55SDLKDHAQ',\n",
              " 'timestamp': 1562315458165,\n",
              " 'helpful_vote': 0,\n",
              " 'verified_purchase': True}"
            ]
          },
          "metadata": {},
          "execution_count": 23
        }
      ]
    },
    {
      "cell_type": "code",
      "source": [
        "print(metadataset[\"full\"][7556]['price'])"
      ],
      "metadata": {
        "colab": {
          "base_uri": "https://localhost:8080/"
        },
        "id": "Ckvc3TkgwqD8",
        "outputId": "702cde9b-1ada-4552-eaaa-169389724f03"
      },
      "execution_count": null,
      "outputs": [
        {
          "output_type": "stream",
          "name": "stdout",
          "text": [
            "None\n"
          ]
        }
      ]
    },
    {
      "cell_type": "code",
      "source": [
        "filtered_titles = [\n",
        "    item[\"title\"]\n",
        "    for item in metadataset[\"full\"]\n",
        "    if \"case\" not in item[\"title\"].lower()\n",
        "]"
      ],
      "metadata": {
        "id": "ZZcbT0YSzFKC"
      },
      "execution_count": null,
      "outputs": []
    },
    {
      "cell_type": "code",
      "source": [
        "filtered_titles[610]"
      ],
      "metadata": {
        "colab": {
          "base_uri": "https://localhost:8080/",
          "height": 35
        },
        "id": "2dtvZCEt0bdU",
        "outputId": "33337e85-e8eb-404a-c4f0-7b7159106a36"
      },
      "execution_count": null,
      "outputs": [
        {
          "output_type": "execute_result",
          "data": {
            "text/plain": [
              "'Faith Hope Love Bible Scripture Verse Christian'"
            ],
            "application/vnd.google.colaboratory.intrinsic+json": {
              "type": "string"
            }
          },
          "metadata": {},
          "execution_count": 34
        }
      ]
    },
    {
      "cell_type": "code",
      "source": [
        "def convert_price(price_str):\n",
        "    \"\"\"\n",
        "    Converts a price string to a float.\n",
        "\n",
        "    Parameters:\n",
        "        price_str (str): The price as a string.\n",
        "\n",
        "    Returns:\n",
        "        float or None: The numeric price if conversion is successful; otherwise, None.\n",
        "    \"\"\"\n",
        "    if not isinstance(price_str, str):\n",
        "        return None\n",
        "\n",
        "    try:\n",
        "        # Optional: Clean the price string by removing common non-numeric characters\n",
        "        # Uncomment and modify the lines below based on your data format\n",
        "        # For example, to remove '$' and ',':\n",
        "        # price_str = price_str.replace('$', '').replace(',', '').strip()\n",
        "\n",
        "        # Remove any character that is not a digit or a decimal point\n",
        "        import re\n",
        "        cleaned_price = re.sub(r'[^\\d\\.]', '', price_str)\n",
        "\n",
        "        # Convert the cleaned string to float\n",
        "        return float(cleaned_price)\n",
        "    except (ValueError, TypeError):\n",
        "        # Return None if conversion fails\n",
        "        return None"
      ],
      "metadata": {
        "id": "0qStXDMh4iWe"
      },
      "execution_count": null,
      "outputs": []
    },
    {
      "cell_type": "code",
      "source": [
        "filtered_price = [\n",
        "    item\n",
        "    for item in metadataset[\"full\"]\n",
        "    if (price := convert_price(item.get(\"price\"))) is not None and price > 100\n",
        "]"
      ],
      "metadata": {
        "id": "7-m8PwAu1yM3"
      },
      "execution_count": null,
      "outputs": []
    },
    {
      "cell_type": "code",
      "source": [
        "len(filtered_price)"
      ],
      "metadata": {
        "colab": {
          "base_uri": "https://localhost:8080/"
        },
        "id": "Dto57L__7F7U",
        "outputId": "b4d443a8-9fb4-4e53-c581-cc0c7f5479ef"
      },
      "execution_count": null,
      "outputs": [
        {
          "output_type": "execute_result",
          "data": {
            "text/plain": [
              "3348"
            ]
          },
          "metadata": {},
          "execution_count": 49
        }
      ]
    },
    {
      "cell_type": "code",
      "source": [
        "filtered_price[467]['price']"
      ],
      "metadata": {
        "colab": {
          "base_uri": "https://localhost:8080/",
          "height": 35
        },
        "id": "QxcsHC2R4Pwe",
        "outputId": "2cc36c25-c0a0-4cc4-e73f-6244f02f36e3"
      },
      "execution_count": null,
      "outputs": [
        {
          "output_type": "execute_result",
          "data": {
            "text/plain": [
              "'200.0'"
            ],
            "application/vnd.google.colaboratory.intrinsic+json": {
              "type": "string"
            }
          },
          "metadata": {},
          "execution_count": 60
        }
      ]
    },
    {
      "cell_type": "code",
      "source": [
        "filtered_price_50 = [\n",
        "    item\n",
        "    for item in metadataset[\"full\"]\n",
        "    if (price := convert_price(item.get(\"price\"))) is not None and price > 50\n",
        "]"
      ],
      "metadata": {
        "id": "Frd1M9Y966go"
      },
      "execution_count": null,
      "outputs": []
    },
    {
      "cell_type": "code",
      "source": [
        "len(filtered_price_50)"
      ],
      "metadata": {
        "colab": {
          "base_uri": "https://localhost:8080/"
        },
        "id": "lEmiysx69D-I",
        "outputId": "f04b500b-2965-422a-dc79-4df7e0aa8c6d"
      },
      "execution_count": null,
      "outputs": [
        {
          "output_type": "execute_result",
          "data": {
            "text/plain": [
              "7271"
            ]
          },
          "metadata": {},
          "execution_count": 80
        }
      ]
    },
    {
      "cell_type": "code",
      "source": [
        "filtered_price_50[2909]['title']"
      ],
      "metadata": {
        "colab": {
          "base_uri": "https://localhost:8080/",
          "height": 35
        },
        "id": "Vdo2NRV_-ssO",
        "outputId": "834dd439-2458-4298-ae41-0c4d25fd5fd5"
      },
      "execution_count": null,
      "outputs": [
        {
          "output_type": "execute_result",
          "data": {
            "text/plain": [
              "'Convenience Concepts Omega Flip Top End Table with Charging Station, Black/Black'"
            ],
            "application/vnd.google.colaboratory.intrinsic+json": {
              "type": "string"
            }
          },
          "metadata": {},
          "execution_count": 79
        }
      ]
    },
    {
      "cell_type": "code",
      "source": [
        "import numpy as np\n",
        "# np.save('filtered_price_50.npy', filtered_price_50)"
      ],
      "metadata": {
        "id": "K2OoPodr-xDu"
      },
      "execution_count": null,
      "outputs": []
    },
    {
      "cell_type": "code",
      "source": [
        "labeled_data = np.load('bert_labeled_data.npy', allow_pickle=True)"
      ],
      "metadata": {
        "id": "KO1fy3HrR_Ys"
      },
      "execution_count": null,
      "outputs": []
    },
    {
      "cell_type": "code",
      "source": [
        "len(labeled_data)"
      ],
      "metadata": {
        "colab": {
          "base_uri": "https://localhost:8080/"
        },
        "id": "GLJfU3ZC3md9",
        "outputId": "d9db6611-ddb9-40fe-e5ea-b77d1c53a393"
      },
      "execution_count": null,
      "outputs": [
        {
          "output_type": "execute_result",
          "data": {
            "text/plain": [
              "7121"
            ]
          },
          "metadata": {},
          "execution_count": 5
        }
      ]
    },
    {
      "cell_type": "code",
      "source": [
        "labeled_data[3243]['label']"
      ],
      "metadata": {
        "colab": {
          "base_uri": "https://localhost:8080/"
        },
        "id": "HB7eJG4R3vSd",
        "outputId": "16c0cf95-d0ac-4885-df71-453364b15b04"
      },
      "execution_count": null,
      "outputs": [
        {
          "output_type": "execute_result",
          "data": {
            "text/plain": [
              "1"
            ]
          },
          "metadata": {},
          "execution_count": 8
        }
      ]
    },
    {
      "cell_type": "code",
      "source": [
        "filtered_phone = [\n",
        "    item\n",
        "    for item in labeled_data\n",
        "    if (label := item.get(\"label\")) is not None and label == 0\n",
        "]"
      ],
      "metadata": {
        "id": "TyeIDQzI3w2j"
      },
      "execution_count": null,
      "outputs": []
    },
    {
      "cell_type": "code",
      "source": [
        "len(filtered_phone)"
      ],
      "metadata": {
        "colab": {
          "base_uri": "https://localhost:8080/"
        },
        "id": "rTwEg8vJ4T0H",
        "outputId": "e46f76da-6e4b-4a1b-adcc-9449b86c151b"
      },
      "execution_count": null,
      "outputs": [
        {
          "output_type": "execute_result",
          "data": {
            "text/plain": [
              "2796"
            ]
          },
          "metadata": {},
          "execution_count": 15
        }
      ]
    },
    {
      "cell_type": "code",
      "source": [
        "filtered_phone[2443]"
      ],
      "metadata": {
        "colab": {
          "base_uri": "https://localhost:8080/"
        },
        "id": "T2ltJDYm4Ya9",
        "outputId": "c73a048a-65f1-4129-bd04-e482e713e043"
      },
      "execution_count": null,
      "outputs": [
        {
          "output_type": "execute_result",
          "data": {
            "text/plain": [
              "{'main_category': 'Cell Phones & Accessories',\n",
              " 'title': 'AGM Glory Pro Rugged Smartphone, 5G Unlocked Rugged Phone Snapdragon 480, Thermal Imaging Camera, 256x192 Resolution, 6.53\" FHD+, 6200mAh Battery IP68/IP69K, 8G+256G Dual-LED Torch/NFC/GPS/Black',\n",
              " 'average_rating': 3.7,\n",
              " 'rating_number': 48,\n",
              " 'features': ['[Powerful Thermal Imaging Camera, 20MP Infrared Night] The AGM Glory Pro rugged smartphone has multi-functional Imaging System with thermal camera, and it equipped with Rear Quad camera system with 48MP Camera + 20MP Infrared Night +16MP Front + 2MP Macro Camera. The thermal imaging camera can measure all objects within 5 meters. Nothing can hide from this excellent thermal imaging camera. The rugged smartphone allows you to explore in any circumstances.',\n",
              "  '[6200mAh Battery, 33mm 3.5W 110dB Speaker] AGM Glory Pro rugged phone allows you to stay connected for a day without worrying about shutdown. Thanks to a 6200mAh cold resistant battery. It can last up to 22 hours usage under -27°C extreme environments. It has a biggest and speaker on back, louder than 100 dB average house alarm, you will have no chance to ignore any phone calls.',\n",
              "  '[Toughest Reinforced Frame with IP68/IP69k/MIL-STD-810H ] AGM Glory Pro is rugged, drop proof, dust proof, and water proof. It has passed the IP68/IP69k/MIL-STD-810H certified, withstands drop from up to 1.5m on concrete and survives under 1.5m of water for 30 minutes. AGM Glory Pro gives you full support for outdoor exploring.',\n",
              "  '[6.53-inch LCD FHD+ Screen, Android 11 OS 8G+256G] The rugged smartphone has a 6.53-inch LCD screen, FHD+, 2340*1080 resolution with floating framing, gorgeous and tough. The 10-point multitouch panel eliminates any conflicts for you. It runs the latest Android 11 OS for a smoothest performance. 8GB of RAM, Up to 256GB of internal memory, expandable up to 512GB via microSD (not included).',\n",
              "  '[T-Mobile Only, NO AT&T] ONLY for GSM T-Mobile(Recommend), please activate your sim card on another phone before put it into your Glory Pro. AGM Glory Pro rugged smartphone equipped with Qualcomm Snapdragon 480 Octa-Core Processor which brings you a more fluent cell phone experience. Note: Pls check compatibility with your local bands before purchase! If you have any question, feel free to contact with us.',\n",
              "  '[5G Connectivity] The AGM Glory Pro only gets 5G signal for N41 band only, please contact your local carrier about your band BEFORE purchase.',\n",
              "  '[Please Read Before Purchase] You may see the device name is \"Glory 1\", it DOES NOT mean you have purchased a wrong model, all our Glory series\\' device names are \"Glory 1\", the only thing you can confirm your phone is PRO version is the Pro has a thermal image camera where the G1 and SE do not have.'],\n",
              " 'description': [],\n",
              " 'price': '699.99',\n",
              " 'images': {'hi_res': ['https://m.media-amazon.com/images/I/71R+Pxl0RNL._AC_SL1500_.jpg',\n",
              "   'https://m.media-amazon.com/images/I/71kMEMOoZDL._AC_SL1500_.jpg',\n",
              "   'https://m.media-amazon.com/images/I/710EW7VFLvL._AC_SL1500_.jpg',\n",
              "   'https://m.media-amazon.com/images/I/71UbnkFM71L._AC_SL1500_.jpg',\n",
              "   'https://m.media-amazon.com/images/I/81PtTMQleWL._AC_SL1500_.jpg',\n",
              "   'https://m.media-amazon.com/images/I/71cOT3CEDaL._AC_SL1500_.jpg',\n",
              "   'https://m.media-amazon.com/images/I/61bZOHxOieL._AC_SL1500_.jpg',\n",
              "   'https://m.media-amazon.com/images/I/71VJQX6BnrL._AC_SL1500_.jpg'],\n",
              "  'large': ['https://m.media-amazon.com/images/I/41H0JLn2d5L._AC_.jpg',\n",
              "   'https://m.media-amazon.com/images/I/51-ZtiT4YTL._AC_.jpg',\n",
              "   'https://m.media-amazon.com/images/I/51SPwUdaVuL._AC_.jpg',\n",
              "   'https://m.media-amazon.com/images/I/51CHZ3nVCEL._AC_.jpg',\n",
              "   'https://m.media-amazon.com/images/I/51sE+PZ9rTL._AC_.jpg',\n",
              "   'https://m.media-amazon.com/images/I/41+mKebNGyL._AC_.jpg',\n",
              "   'https://m.media-amazon.com/images/I/4196Y23orTL._AC_.jpg',\n",
              "   'https://m.media-amazon.com/images/I/51AKeulfVDL._AC_.jpg'],\n",
              "  'thumb': ['https://m.media-amazon.com/images/I/41H0JLn2d5L._AC_SR38,50_.jpg',\n",
              "   'https://m.media-amazon.com/images/I/51-ZtiT4YTL._AC_SR38,50_.jpg',\n",
              "   'https://m.media-amazon.com/images/I/51SPwUdaVuL._AC_SR38,50_.jpg',\n",
              "   'https://m.media-amazon.com/images/I/51CHZ3nVCEL._AC_SR38,50_.jpg',\n",
              "   'https://m.media-amazon.com/images/I/51sE+PZ9rTL._AC_SR38,50_.jpg',\n",
              "   'https://m.media-amazon.com/images/I/41+mKebNGyL._AC_SR38,50_.jpg',\n",
              "   'https://m.media-amazon.com/images/I/4196Y23orTL._AC_SR38,50_.jpg',\n",
              "   'https://m.media-amazon.com/images/I/51AKeulfVDL._AC_SR38,50_.jpg'],\n",
              "  'variant': ['MAIN', 'PT01', 'PT02', 'PT03', 'PT04', 'PT05', 'PT06', 'PT07']},\n",
              " 'videos': {'title': [], 'url': [], 'user_id': []},\n",
              " 'store': 'AGM',\n",
              " 'categories': ['Cell Phones & Accessories', 'Cell Phones'],\n",
              " 'details': '{\"Product Dimensions\": \"5 x 4 x 2 inches\", \"Item Weight\": \"13.1 ounces\", \"Item model number\": \"G1 PRO\", \"Batteries\": \"1 Lithium Ion batteries required.\", \"OS\": \"Android 11.0\", \"RAM\": \"8 GB\", \"Wireless communication technologies\": \"Cellular, NFC\", \"Connectivity technologies\": \"Bluetooth\", \"GPS\": \"True\", \"Special features\": \"Touchscreen, Fast Charging Support, Octa Core Processor, Camera, Fingerprint Sensor\", \"Display technology\": \"LCD\", \"Other display features\": \"Wireless\", \"Scanner Resolution\": \"2340 x 1080\", \"Other camera features\": \"Front\", \"Form Factor\": \"Smartphone\", \"Color\": \"Black\", \"Battery Power Rating\": \"6200\", \"Whats in the box\": \"AGM Customized Stickers, Waterproof Plugs, Adapter, Screen Protector, USB Cable\", \"Manufacturer\": \"AGM\", \"Country of Origin\": \"China\", \"Date First Available\": \"November 15, 2021\", \"Memory Storage Capacity\": \"256 GB\", \"Standing screen display size\": \"6.53 Inches\", \"Ram Memory Installed Size\": \"8 GB\", \"Weight\": \"370 Grams\", \"Charging Time\": \"22 Hours\", \"Brand\": \"AGM\", \"Model Name\": \"Glory PRO\", \"Wireless Carrier\": \"T-Mobile\", \"Operating System\": \"Android 11.0\", \"Cellular Technology\": \"5G\", \"Connectivity Technology\": \"Bluetooth\", \"Screen Size\": \"6.53 Inches\", \"Wireless network technology\": \"GSM\"}',\n",
              " 'parent_asin': 'B09LV9HH28',\n",
              " 'bought_together': None,\n",
              " 'subtitle': None,\n",
              " 'author': None,\n",
              " 'label': 0}"
            ]
          },
          "metadata": {},
          "execution_count": 18
        }
      ]
    },
    {
      "cell_type": "code",
      "source": [
        "# do not run, taking too long\n",
        "parent_asin_to_product = {product['parent_asin']: product for product in filtered_phone}\n",
        "for product in filtered_phone:\n",
        "    product['reviews'] = []\n",
        "for review in dataset['full']:\n",
        "    parent_asin = review.get('parent_asin')\n",
        "    if parent_asin in parent_asin_to_product:\n",
        "        parent_asin_to_product[parent_asin]['reviews'].append(review)"
      ],
      "metadata": {
        "colab": {
          "base_uri": "https://localhost:8080/",
          "height": 382
        },
        "id": "tT7pkXqn4fnL",
        "outputId": "1897e5e0-d034-4434-ae43-655b85be48e5"
      },
      "execution_count": null,
      "outputs": [
        {
          "output_type": "error",
          "ename": "KeyboardInterrupt",
          "evalue": "",
          "traceback": [
            "\u001b[0;31m---------------------------------------------------------------------------\u001b[0m",
            "\u001b[0;31mKeyboardInterrupt\u001b[0m                         Traceback (most recent call last)",
            "\u001b[0;32m<ipython-input-25-7b570381e6a7>\u001b[0m in \u001b[0;36m<cell line: 4>\u001b[0;34m()\u001b[0m\n\u001b[1;32m      2\u001b[0m \u001b[0;32mfor\u001b[0m \u001b[0mproduct\u001b[0m \u001b[0;32min\u001b[0m \u001b[0mfiltered_phone\u001b[0m\u001b[0;34m:\u001b[0m\u001b[0;34m\u001b[0m\u001b[0;34m\u001b[0m\u001b[0m\n\u001b[1;32m      3\u001b[0m     \u001b[0mproduct\u001b[0m\u001b[0;34m[\u001b[0m\u001b[0;34m'reviews'\u001b[0m\u001b[0;34m]\u001b[0m \u001b[0;34m=\u001b[0m \u001b[0;34m[\u001b[0m\u001b[0;34m]\u001b[0m\u001b[0;34m\u001b[0m\u001b[0;34m\u001b[0m\u001b[0m\n\u001b[0;32m----> 4\u001b[0;31m \u001b[0;32mfor\u001b[0m \u001b[0mreview\u001b[0m \u001b[0;32min\u001b[0m \u001b[0mdataset\u001b[0m\u001b[0;34m[\u001b[0m\u001b[0;34m'full'\u001b[0m\u001b[0;34m]\u001b[0m\u001b[0;34m:\u001b[0m\u001b[0;34m\u001b[0m\u001b[0;34m\u001b[0m\u001b[0m\n\u001b[0m\u001b[1;32m      5\u001b[0m     \u001b[0mparent_asin\u001b[0m \u001b[0;34m=\u001b[0m \u001b[0mreview\u001b[0m\u001b[0;34m.\u001b[0m\u001b[0mget\u001b[0m\u001b[0;34m(\u001b[0m\u001b[0;34m'parent_asin'\u001b[0m\u001b[0;34m)\u001b[0m\u001b[0;34m\u001b[0m\u001b[0;34m\u001b[0m\u001b[0m\n\u001b[1;32m      6\u001b[0m     \u001b[0;32mif\u001b[0m \u001b[0mparent_asin\u001b[0m \u001b[0;32min\u001b[0m \u001b[0mparent_asin_to_product\u001b[0m\u001b[0;34m:\u001b[0m\u001b[0;34m\u001b[0m\u001b[0;34m\u001b[0m\u001b[0m\n",
            "\u001b[0;32m/usr/local/lib/python3.10/dist-packages/datasets/arrow_dataset.py\u001b[0m in \u001b[0;36m__iter__\u001b[0;34m(self)\u001b[0m\n\u001b[1;32m   2388\u001b[0m                 \u001b[0;32mfor\u001b[0m \u001b[0mi\u001b[0m \u001b[0;32min\u001b[0m \u001b[0mrange\u001b[0m\u001b[0;34m(\u001b[0m\u001b[0mpa_subtable\u001b[0m\u001b[0;34m.\u001b[0m\u001b[0mnum_rows\u001b[0m\u001b[0;34m)\u001b[0m\u001b[0;34m:\u001b[0m\u001b[0;34m\u001b[0m\u001b[0;34m\u001b[0m\u001b[0m\n\u001b[1;32m   2389\u001b[0m                     \u001b[0mpa_subtable_ex\u001b[0m \u001b[0;34m=\u001b[0m \u001b[0mpa_subtable\u001b[0m\u001b[0;34m.\u001b[0m\u001b[0mslice\u001b[0m\u001b[0;34m(\u001b[0m\u001b[0mi\u001b[0m\u001b[0;34m,\u001b[0m \u001b[0;36m1\u001b[0m\u001b[0;34m)\u001b[0m\u001b[0;34m\u001b[0m\u001b[0;34m\u001b[0m\u001b[0m\n\u001b[0;32m-> 2390\u001b[0;31m                     formatted_output = format_table(\n\u001b[0m\u001b[1;32m   2391\u001b[0m                         \u001b[0mpa_subtable_ex\u001b[0m\u001b[0;34m,\u001b[0m\u001b[0;34m\u001b[0m\u001b[0;34m\u001b[0m\u001b[0m\n\u001b[1;32m   2392\u001b[0m                         \u001b[0;36m0\u001b[0m\u001b[0;34m,\u001b[0m\u001b[0;34m\u001b[0m\u001b[0;34m\u001b[0m\u001b[0m\n",
            "\u001b[0;32m/usr/local/lib/python3.10/dist-packages/datasets/formatting/formatting.py\u001b[0m in \u001b[0;36mformat_table\u001b[0;34m(table, key, formatter, format_columns, output_all_columns)\u001b[0m\n\u001b[1;32m    637\u001b[0m     \u001b[0mpython_formatter\u001b[0m \u001b[0;34m=\u001b[0m \u001b[0mPythonFormatter\u001b[0m\u001b[0;34m(\u001b[0m\u001b[0mfeatures\u001b[0m\u001b[0;34m=\u001b[0m\u001b[0mformatter\u001b[0m\u001b[0;34m.\u001b[0m\u001b[0mfeatures\u001b[0m\u001b[0;34m)\u001b[0m\u001b[0;34m\u001b[0m\u001b[0;34m\u001b[0m\u001b[0m\n\u001b[1;32m    638\u001b[0m     \u001b[0;32mif\u001b[0m \u001b[0mformat_columns\u001b[0m \u001b[0;32mis\u001b[0m \u001b[0;32mNone\u001b[0m\u001b[0;34m:\u001b[0m\u001b[0;34m\u001b[0m\u001b[0;34m\u001b[0m\u001b[0m\n\u001b[0;32m--> 639\u001b[0;31m         \u001b[0;32mreturn\u001b[0m \u001b[0mformatter\u001b[0m\u001b[0;34m(\u001b[0m\u001b[0mpa_table\u001b[0m\u001b[0;34m,\u001b[0m \u001b[0mquery_type\u001b[0m\u001b[0;34m=\u001b[0m\u001b[0mquery_type\u001b[0m\u001b[0;34m)\u001b[0m\u001b[0;34m\u001b[0m\u001b[0;34m\u001b[0m\u001b[0m\n\u001b[0m\u001b[1;32m    640\u001b[0m     \u001b[0;32melif\u001b[0m \u001b[0mquery_type\u001b[0m \u001b[0;34m==\u001b[0m \u001b[0;34m\"column\"\u001b[0m\u001b[0;34m:\u001b[0m\u001b[0;34m\u001b[0m\u001b[0;34m\u001b[0m\u001b[0m\n\u001b[1;32m    641\u001b[0m         \u001b[0;32mif\u001b[0m \u001b[0mkey\u001b[0m \u001b[0;32min\u001b[0m \u001b[0mformat_columns\u001b[0m\u001b[0;34m:\u001b[0m\u001b[0;34m\u001b[0m\u001b[0;34m\u001b[0m\u001b[0m\n",
            "\u001b[0;32m/usr/local/lib/python3.10/dist-packages/datasets/formatting/formatting.py\u001b[0m in \u001b[0;36m__call__\u001b[0;34m(self, pa_table, query_type)\u001b[0m\n\u001b[1;32m    401\u001b[0m     \u001b[0;32mdef\u001b[0m \u001b[0m__call__\u001b[0m\u001b[0;34m(\u001b[0m\u001b[0mself\u001b[0m\u001b[0;34m,\u001b[0m \u001b[0mpa_table\u001b[0m\u001b[0;34m:\u001b[0m \u001b[0mpa\u001b[0m\u001b[0;34m.\u001b[0m\u001b[0mTable\u001b[0m\u001b[0;34m,\u001b[0m \u001b[0mquery_type\u001b[0m\u001b[0;34m:\u001b[0m \u001b[0mstr\u001b[0m\u001b[0;34m)\u001b[0m \u001b[0;34m->\u001b[0m \u001b[0mUnion\u001b[0m\u001b[0;34m[\u001b[0m\u001b[0mRowFormat\u001b[0m\u001b[0;34m,\u001b[0m \u001b[0mColumnFormat\u001b[0m\u001b[0;34m,\u001b[0m \u001b[0mBatchFormat\u001b[0m\u001b[0;34m]\u001b[0m\u001b[0;34m:\u001b[0m\u001b[0;34m\u001b[0m\u001b[0;34m\u001b[0m\u001b[0m\n\u001b[1;32m    402\u001b[0m         \u001b[0;32mif\u001b[0m \u001b[0mquery_type\u001b[0m \u001b[0;34m==\u001b[0m \u001b[0;34m\"row\"\u001b[0m\u001b[0;34m:\u001b[0m\u001b[0;34m\u001b[0m\u001b[0;34m\u001b[0m\u001b[0m\n\u001b[0;32m--> 403\u001b[0;31m             \u001b[0;32mreturn\u001b[0m \u001b[0mself\u001b[0m\u001b[0;34m.\u001b[0m\u001b[0mformat_row\u001b[0m\u001b[0;34m(\u001b[0m\u001b[0mpa_table\u001b[0m\u001b[0;34m)\u001b[0m\u001b[0;34m\u001b[0m\u001b[0;34m\u001b[0m\u001b[0m\n\u001b[0m\u001b[1;32m    404\u001b[0m         \u001b[0;32melif\u001b[0m \u001b[0mquery_type\u001b[0m \u001b[0;34m==\u001b[0m \u001b[0;34m\"column\"\u001b[0m\u001b[0;34m:\u001b[0m\u001b[0;34m\u001b[0m\u001b[0;34m\u001b[0m\u001b[0m\n\u001b[1;32m    405\u001b[0m             \u001b[0;32mreturn\u001b[0m \u001b[0mself\u001b[0m\u001b[0;34m.\u001b[0m\u001b[0mformat_column\u001b[0m\u001b[0;34m(\u001b[0m\u001b[0mpa_table\u001b[0m\u001b[0;34m)\u001b[0m\u001b[0;34m\u001b[0m\u001b[0;34m\u001b[0m\u001b[0m\n",
            "\u001b[0;32m/usr/local/lib/python3.10/dist-packages/datasets/formatting/formatting.py\u001b[0m in \u001b[0;36mformat_row\u001b[0;34m(self, pa_table)\u001b[0m\n\u001b[1;32m    441\u001b[0m         \u001b[0;32mif\u001b[0m \u001b[0mself\u001b[0m\u001b[0;34m.\u001b[0m\u001b[0mlazy\u001b[0m\u001b[0;34m:\u001b[0m\u001b[0;34m\u001b[0m\u001b[0;34m\u001b[0m\u001b[0m\n\u001b[1;32m    442\u001b[0m             \u001b[0;32mreturn\u001b[0m \u001b[0mLazyRow\u001b[0m\u001b[0;34m(\u001b[0m\u001b[0mpa_table\u001b[0m\u001b[0;34m,\u001b[0m \u001b[0mself\u001b[0m\u001b[0;34m)\u001b[0m\u001b[0;34m\u001b[0m\u001b[0;34m\u001b[0m\u001b[0m\n\u001b[0;32m--> 443\u001b[0;31m         \u001b[0mrow\u001b[0m \u001b[0;34m=\u001b[0m \u001b[0mself\u001b[0m\u001b[0;34m.\u001b[0m\u001b[0mpython_arrow_extractor\u001b[0m\u001b[0;34m(\u001b[0m\u001b[0;34m)\u001b[0m\u001b[0;34m.\u001b[0m\u001b[0mextract_row\u001b[0m\u001b[0;34m(\u001b[0m\u001b[0mpa_table\u001b[0m\u001b[0;34m)\u001b[0m\u001b[0;34m\u001b[0m\u001b[0;34m\u001b[0m\u001b[0m\n\u001b[0m\u001b[1;32m    444\u001b[0m         \u001b[0mrow\u001b[0m \u001b[0;34m=\u001b[0m \u001b[0mself\u001b[0m\u001b[0;34m.\u001b[0m\u001b[0mpython_features_decoder\u001b[0m\u001b[0;34m.\u001b[0m\u001b[0mdecode_row\u001b[0m\u001b[0;34m(\u001b[0m\u001b[0mrow\u001b[0m\u001b[0;34m)\u001b[0m\u001b[0;34m\u001b[0m\u001b[0;34m\u001b[0m\u001b[0m\n\u001b[1;32m    445\u001b[0m         \u001b[0;32mreturn\u001b[0m \u001b[0mrow\u001b[0m\u001b[0;34m\u001b[0m\u001b[0;34m\u001b[0m\u001b[0m\n",
            "\u001b[0;32m/usr/local/lib/python3.10/dist-packages/datasets/formatting/formatting.py\u001b[0m in \u001b[0;36mextract_row\u001b[0;34m(self, pa_table)\u001b[0m\n\u001b[1;32m    143\u001b[0m \u001b[0;32mclass\u001b[0m \u001b[0mPythonArrowExtractor\u001b[0m\u001b[0;34m(\u001b[0m\u001b[0mBaseArrowExtractor\u001b[0m\u001b[0;34m[\u001b[0m\u001b[0mdict\u001b[0m\u001b[0;34m,\u001b[0m \u001b[0mlist\u001b[0m\u001b[0;34m,\u001b[0m \u001b[0mdict\u001b[0m\u001b[0;34m]\u001b[0m\u001b[0;34m)\u001b[0m\u001b[0;34m:\u001b[0m\u001b[0;34m\u001b[0m\u001b[0;34m\u001b[0m\u001b[0m\n\u001b[1;32m    144\u001b[0m     \u001b[0;32mdef\u001b[0m \u001b[0mextract_row\u001b[0m\u001b[0;34m(\u001b[0m\u001b[0mself\u001b[0m\u001b[0;34m,\u001b[0m \u001b[0mpa_table\u001b[0m\u001b[0;34m:\u001b[0m \u001b[0mpa\u001b[0m\u001b[0;34m.\u001b[0m\u001b[0mTable\u001b[0m\u001b[0;34m)\u001b[0m \u001b[0;34m->\u001b[0m \u001b[0mdict\u001b[0m\u001b[0;34m:\u001b[0m\u001b[0;34m\u001b[0m\u001b[0;34m\u001b[0m\u001b[0m\n\u001b[0;32m--> 145\u001b[0;31m         \u001b[0;32mreturn\u001b[0m \u001b[0m_unnest\u001b[0m\u001b[0;34m(\u001b[0m\u001b[0mpa_table\u001b[0m\u001b[0;34m.\u001b[0m\u001b[0mto_pydict\u001b[0m\u001b[0;34m(\u001b[0m\u001b[0;34m)\u001b[0m\u001b[0;34m)\u001b[0m\u001b[0;34m\u001b[0m\u001b[0;34m\u001b[0m\u001b[0m\n\u001b[0m\u001b[1;32m    146\u001b[0m \u001b[0;34m\u001b[0m\u001b[0m\n\u001b[1;32m    147\u001b[0m     \u001b[0;32mdef\u001b[0m \u001b[0mextract_column\u001b[0m\u001b[0;34m(\u001b[0m\u001b[0mself\u001b[0m\u001b[0;34m,\u001b[0m \u001b[0mpa_table\u001b[0m\u001b[0;34m:\u001b[0m \u001b[0mpa\u001b[0m\u001b[0;34m.\u001b[0m\u001b[0mTable\u001b[0m\u001b[0;34m)\u001b[0m \u001b[0;34m->\u001b[0m \u001b[0mlist\u001b[0m\u001b[0;34m:\u001b[0m\u001b[0;34m\u001b[0m\u001b[0;34m\u001b[0m\u001b[0m\n",
            "\u001b[0;31mKeyboardInterrupt\u001b[0m: "
          ]
        }
      ]
    },
    {
      "cell_type": "code",
      "source": [
        "dataset"
      ],
      "metadata": {
        "colab": {
          "base_uri": "https://localhost:8080/"
        },
        "id": "FkMOfXK7-ldO",
        "outputId": "7c014973-09f3-4ad3-8215-fa57fc3a5381"
      },
      "execution_count": null,
      "outputs": [
        {
          "output_type": "execute_result",
          "data": {
            "text/plain": [
              "DatasetDict({\n",
              "    full: Dataset({\n",
              "        features: ['rating', 'title', 'text', 'images', 'asin', 'parent_asin', 'user_id', 'timestamp', 'helpful_vote', 'verified_purchase'],\n",
              "        num_rows: 20812945\n",
              "    })\n",
              "})"
            ]
          },
          "metadata": {},
          "execution_count": 26
        }
      ]
    },
    {
      "cell_type": "code",
      "source": [
        "filtered_phone[0]['parent_asin']"
      ],
      "metadata": {
        "colab": {
          "base_uri": "https://localhost:8080/",
          "height": 35
        },
        "id": "WglgYYRdGfYi",
        "outputId": "cf45d87e-9c4a-4a6c-ef4b-78548f0035f5"
      },
      "execution_count": null,
      "outputs": [
        {
          "output_type": "execute_result",
          "data": {
            "text/plain": [
              "'B0BPP8QTTR'"
            ],
            "application/vnd.google.colaboratory.intrinsic+json": {
              "type": "string"
            }
          },
          "metadata": {},
          "execution_count": 29
        }
      ]
    },
    {
      "cell_type": "code",
      "source": [
        "filtered_parent_asins = set(product['parent_asin'] for product in filtered_phone)"
      ],
      "metadata": {
        "id": "Gezp5pOWFk17"
      },
      "execution_count": null,
      "outputs": []
    },
    {
      "cell_type": "code",
      "source": [
        "dataset[\"full\"][0]['parent_asin']"
      ],
      "metadata": {
        "colab": {
          "base_uri": "https://localhost:8080/",
          "height": 35
        },
        "id": "I_Fsn55AGm4C",
        "outputId": "213427b5-fc76-4f55-fcf2-8013cc3f37ba"
      },
      "execution_count": null,
      "outputs": [
        {
          "output_type": "execute_result",
          "data": {
            "text/plain": [
              "'B08L6L3X1S'"
            ],
            "application/vnd.google.colaboratory.intrinsic+json": {
              "type": "string"
            }
          },
          "metadata": {},
          "execution_count": 32
        }
      ]
    },
    {
      "cell_type": "code",
      "source": [
        "def is_parent_asin_in_filtered(batch):\n",
        "    return [pa in filtered_parent_asins for pa in batch['parent_asin']]\n",
        "\n",
        "filtered_reviews = dataset[\"full\"].filter(\n",
        "    is_parent_asin_in_filtered,\n",
        "    batched=True,\n",
        "    batch_size=10000,\n",
        "    keep_in_memory=False,\n",
        "    load_from_cache_file=True\n",
        ")\n",
        "\n",
        "print(f\"Total filtered reviews: {len(filtered_reviews)}\")"
      ],
      "metadata": {
        "colab": {
          "base_uri": "https://localhost:8080/",
          "height": 67,
          "referenced_widgets": [
            "e87ca12eccaa49bcade0e11b80c3cc78",
            "d8673dd13cd24a99b141e97675f558a0",
            "390da050451d45788e7c5f2e52639396",
            "b8b98c865cf9456face92a0ebc9bc993",
            "6abd906bef694e7aab7d666ce24bf740",
            "e8345c3829e546cdb308e230d12b8d3e",
            "b4066d3c19174062889dddfcd2b2c30f",
            "9d4a22aed22a439e8556fb27bda1b7b3",
            "0645a39d7b74494eba874f442531bc81",
            "0fd4c6bb51d44ddb930bc4d29ca3b684",
            "8fc8ec3ee28d4edabed11672aeb6ab6b"
          ]
        },
        "id": "7rYgtJMAGDIb",
        "outputId": "5f5083b7-1c97-4f3f-80af-78134d9e8679"
      },
      "execution_count": null,
      "outputs": [
        {
          "output_type": "display_data",
          "data": {
            "text/plain": [
              "Filter:   0%|          | 0/20812945 [00:00<?, ? examples/s]"
            ],
            "application/vnd.jupyter.widget-view+json": {
              "version_major": 2,
              "version_minor": 0,
              "model_id": "e87ca12eccaa49bcade0e11b80c3cc78"
            }
          },
          "metadata": {}
        },
        {
          "output_type": "stream",
          "name": "stdout",
          "text": [
            "Total filtered reviews: 176618\n"
          ]
        }
      ]
    },
    {
      "cell_type": "code",
      "source": [
        "import pandas as pd\n",
        "\n",
        "reviews_df = filtered_reviews.to_pandas()\n",
        "\n",
        "print(reviews_df.head())"
      ],
      "metadata": {
        "colab": {
          "base_uri": "https://localhost:8080/"
        },
        "id": "Tz97Qn-EGO73",
        "outputId": "263eb46d-644e-4e87-f540-87cbc5c90fc0"
      },
      "execution_count": null,
      "outputs": [
        {
          "output_type": "stream",
          "name": "stdout",
          "text": [
            "   rating                                              title  \\\n",
            "0     1.0                        Returning as soon as I can.   \n",
            "1     5.0                                          Very nice   \n",
            "2     3.0                 Two words: \"good\" but \"overpriced\"   \n",
            "3     5.0                                      What a phone!   \n",
            "4     4.0  Bad at most things, but a great phone for the ...   \n",
            "\n",
            "                                                text images        asin  \\\n",
            "0  I absolutely do not like this phone. Screen is...     []  B07WLLLTNZ   \n",
            "1  Nice phone with decent sized screen. Charges f...     []  B08J4JYD47   \n",
            "2  This is an update AFTER I have purchased the h...     []  B01IVV7W6O   \n",
            "3  This is a really nice phone. Great feel in you...     []  B00XKHJREK   \n",
            "4  This phone is cheap. It runs an ancient versio...     []  B0082DP778   \n",
            "\n",
            "  parent_asin                       user_id      timestamp  helpful_vote  \\\n",
            "0  B07WLLLTNZ  AFJTRBXMURLHS5EGNXLUHDHIZRFQ  1649706650086             0   \n",
            "1  B08J4JYD47  AFJTRBXMURLHS5EGNXLUHDHIZRFQ  1647645304652             2   \n",
            "2  B01MXMASHF  AEIOIVFNO6QX7OYOJNPRKQEWMPGA  1473094741000             5   \n",
            "3  B074GYBXZK  AEDNNPW6JQ4H6NPMF2FYMIUZOTGQ  1438721703000            21   \n",
            "4  B0082DP778  AEDWRRZADBQDUTW7HBIWH4QSMUPQ  1457743338000             0   \n",
            "\n",
            "   verified_purchase  \n",
            "0               True  \n",
            "1               True  \n",
            "2              False  \n",
            "3               True  \n",
            "4              False  \n"
          ]
        }
      ]
    },
    {
      "cell_type": "code",
      "source": [
        "# group reviews by parent_asin\n",
        "grouped_reviews = reviews_df.groupby('parent_asin').apply(lambda x: x.to_dict(orient='records')).to_dict()\n",
        "\n",
        "for product in filtered_phone:\n",
        "    pa = product['parent_asin']\n",
        "    product['reviews'] = grouped_reviews.get(pa, [])\n",
        "\n",
        "print(\"Grouping complete. Example product with reviews:\")\n",
        "print(filtered_phone[0]['reviews'])"
      ],
      "metadata": {
        "colab": {
          "base_uri": "https://localhost:8080/"
        },
        "id": "foYLalocHr1v",
        "outputId": "c2c77507-813a-40c0-d234-76f4e30dedf2"
      },
      "execution_count": null,
      "outputs": [
        {
          "output_type": "stream",
          "name": "stdout",
          "text": [
            "Grouping complete. Example product with reviews:\n",
            "[{'rating': 4.0, 'title': 'Great phone', 'text': 'Tough, great features and full of worth. I have not rated the fingerprint feature because I never tried it. Overall the phone is easy to use and feels good in the hands. large screen, clear sounds and very good signal reach.', 'images': array([], dtype=object), 'asin': 'B09QHQ3STP', 'parent_asin': 'B0BPP8QTTR', 'user_id': 'AEYXXJE6MCM7KVERPK6Z5ELNG54Q', 'timestamp': 1661358514006, 'helpful_vote': 0, 'verified_purchase': True}, {'rating': 5.0, 'title': 'Ulefone is the best', 'text': 'pick the one with the features you need<br /><br />and you will be happy with it.', 'images': array([], dtype=object), 'asin': 'B09QHPSVZC', 'parent_asin': 'B0BPP8QTTR', 'user_id': 'AEYW4XOBJ56IKNPG6INFPNCZCVOA', 'timestamp': 1671697626916, 'helpful_vote': 0, 'verified_purchase': True}, {'rating': 2.0, 'title': 'Verizon Sim card disconnects every couple of minutes.', 'text': 'Verizon Sim card disconnects every couple of minutes. Not able to send texts or calls. Sim still works fine in old phone.', 'images': array([], dtype=object), 'asin': 'B09QHPSVZC', 'parent_asin': 'B0BPP8QTTR', 'user_id': 'AH2RIKEOL6EKI3B3UAQKJ4TTYDCQ', 'timestamp': 1650694174029, 'helpful_vote': 0, 'verified_purchase': True}, {'rating': 1.0, 'title': 'I tried', 'text': 'I purchase this phone for my husband.  Yes,it would be a great phone. I missed information on providers  had looked at many phones and got confused.  Ulephone emailed me thanking me for the purchase. Also they asked if I had any issues. I told her I could not activate phone on our Verizon account. She proceeded with helpful hints. Each new failed. Nowvi am stuck with phone. I need to return it. I think I am pass the return deadline. I am going to check. I do wish it would work. It seems to be a great phone.', 'images': array([], dtype=object), 'asin': 'B09QHQ3STP', 'parent_asin': 'B0BPP8QTTR', 'user_id': 'AFYZY4MO3Q4YPAIVY2RFEDDFU3LA', 'timestamp': 1664610708011, 'helpful_vote': 0, 'verified_purchase': True}, {'rating': 5.0, 'title': 'Great phone for the price and dont have to buy expensive cover!!', 'text': 'This is my 3rd Ulefone Armor first 2 were 7, personally I like the size of the 7 and seems a little more durable but so far the X10 has not let me down. First 7 was ran over by tractor and did not break but could not charge, the second had a boot log error which I have had with may android phones will still work but I dont trust it. This phone was able to transfer info and had no issue it is just slightly longer than the 7. I am very rough on phones but these stand the demand and dont have to buy expensive cover.<br /><br />Update<br />This phone is not as rugged as X7 only 3 weeks and the screen is cracked!!!!<br />Update<br />To be fair with they company I had great customer support with the exchange of the phone!! It took a little time due to time difference but they made sure I was satisfied!!  Thanks to their customer support!!', 'images': array([], dtype=object), 'asin': 'B09QHQ3STP', 'parent_asin': 'B0BPP8QTTR', 'user_id': 'AHEAUUIPYN47OIYY3PWESBCGMZQA', 'timestamp': 1655525071199, 'helpful_vote': 1, 'verified_purchase': True}, {'rating': 5.0, 'title': \"It's worth the money\", 'text': \"My wife is very clumsy with phones, so I decided to get her this phone, it's a little heavy and the camera isn't the best, the phone speakers are loud and clear, she loves her phone, it's like it was made for her.\", 'images': array([], dtype=object), 'asin': 'B09QHPSVZC', 'parent_asin': 'B0BPP8QTTR', 'user_id': 'AHJWFVDCUYZRIRK3LZMQC2VHABNQ', 'timestamp': 1664758742386, 'helpful_vote': 1, 'verified_purchase': True}, {'rating': 1.0, 'title': 'Does not work with anything, this phone sucks', 'text': \"Bad phone doesn't work with anyone\", 'images': array([], dtype=object), 'asin': 'B09QHPSVZC', 'parent_asin': 'B0BPP8QTTR', 'user_id': 'AEF7AIHLDVNY7Q7RYORXSSCHDVIA', 'timestamp': 1662833699182, 'helpful_vote': 0, 'verified_purchase': True}, {'rating': 5.0, 'title': 'touchscreen went out very disapointing .  now i cant retrive anything , but help was on the way', 'text': 'i  bought this in september of 22. i read a couple reviews saying the touchscreen went out.  i was reserved and should a bought warranty plan . now im out the money as well as i cant retieve anything from the phone. very appointed<br /><br />Amendment ....i have been contacted by the service team at Ulefone.  they are going to send me another phone I will add more when i get it.  looking forward to having a great phone like that again. It is the toughest phone ive ever had by far. I like it better than my Iphone. I WILL amend again after i getting the new phone<br />UPDATE.. My new phone arrived as promised. Lynn from the support team was wonderful in these efforts . the service and product turned out to be amazing..  ty Miss Lynn', 'images': array([], dtype=object), 'asin': 'B09QHQ3STP', 'parent_asin': 'B0BPP8QTTR', 'user_id': 'AF32EXQY346GITETDC636QXP36IQ', 'timestamp': 1676256049968, 'helpful_vote': 0, 'verified_purchase': True}, {'rating': 5.0, 'title': 'Good so far.', 'text': 'Prompt delivery. Very easy to install sim card. Works fine with my Verizon service.', 'images': array([], dtype=object), 'asin': 'B09QHQ3STP', 'parent_asin': 'B0BPP8QTTR', 'user_id': 'AE5BLPS3GNGBKFJRNCTXEICATICQ', 'timestamp': 1650883515654, 'helpful_vote': 0, 'verified_purchase': True}, {'rating': 4.0, 'title': 'Will endure anything reasonable.', 'text': \"I've been using this phone for the past 6 months. Through rough conditions. (extreme heat ( + 115°F/45°C) and rather cold (freezing temperatures and slightly below) bushcrafting mostly. As well as working landscaping and construction site. It is very sturdy and reliable. The battery is still very good. Will last two days if I don't really use it. And almost a whole day if I use it intensely (movies, videos, games etc) however I do not use social media.<br />DO NOT CHOOSE THIS PHONE FOR THE PICTURES. Pictures are decent at best. The phone will struggle to focus sometimes.<br />No major bugs. And I use an alternative launcher and the phone is great about it.\", 'images': array([], dtype=object), 'asin': 'B09QHPSVZC', 'parent_asin': 'B0BPP8QTTR', 'user_id': 'AGZAWOFCFOEVUHJ7DEBLVXZTVJ2Q', 'timestamp': 1662913949488, 'helpful_vote': 0, 'verified_purchase': True}, {'rating': 3.0, 'title': 'Slow', 'text': 'Phone is slow.  The speaker stopped working after a few weeks', 'images': array([], dtype=object), 'asin': 'B09QHPSVZC', 'parent_asin': 'B0BPP8QTTR', 'user_id': 'AGKBYH5BO76RN3ATUBDDKBVDBU2A', 'timestamp': 1666709136045, 'helpful_vote': 0, 'verified_purchase': True}, {'rating': 2.0, 'title': 'Love it but it died in 3 months', 'text': \"I've had many real phones in love this company in general I promote them to all my friends and always carry them for international travel that was the one who breaks my cell phone all the time and except for an occasional defect the only real phone I've ever broken it was a 3wt after two and a half years of use the charging port stopped. Unfortunately for me this is going to be phone number too love the phone perfect size enough RAM and processing power to not be slow and really can't beat it for 150 bucks except for the fact that it just shut off on me and flashes a gray screen after about 80 Days.\", 'images': array([], dtype=object), 'asin': 'B09QHQ3STP', 'parent_asin': 'B0BPP8QTTR', 'user_id': 'AH56JR5PZ4CCZ7NOTVYC3AQQFWMQ', 'timestamp': 1655388186618, 'helpful_vote': 0, 'verified_purchase': True}, {'rating': 5.0, 'title': 'Not compatible with Verizon', 'text': \"Some of the reviews said would work with Verizon it didn't with Verizon for me appears to be a good product just didn't get to test it\", 'images': array([], dtype=object), 'asin': 'B09QHQ3STP', 'parent_asin': 'B0BPP8QTTR', 'user_id': 'AF7HJFX23GVPXDW2DYVZRMWKKPKA', 'timestamp': 1651692774523, 'helpful_vote': 0, 'verified_purchase': True}, {'rating': 1.0, 'title': 'incomplete', 'text': 'very disappointed.  didnot have sim cards a little had to set up phone without them...sending back and buying elsewhere...', 'images': array([], dtype=object), 'asin': 'B09QHPSVZC', 'parent_asin': 'B0BPP8QTTR', 'user_id': 'AFXMXSRGPN5FUR4APJH4W4YUW52Q', 'timestamp': 1650820503944, 'helpful_vote': 0, 'verified_purchase': True}, {'rating': 4.0, 'title': \"It's an inexpensive device and works but is slow\", 'text': \"I needed a phone that wasn't expensive and works.  It does that.  It's slow to load anything however.\", 'images': array([], dtype=object), 'asin': 'B09QHPSVZC', 'parent_asin': 'B0BPP8QTTR', 'user_id': 'AGJ5SS5EYEQAEHZDL4KYSD77WTPQ', 'timestamp': 1668346544038, 'helpful_vote': 0, 'verified_purchase': True}]\n"
          ]
        },
        {
          "output_type": "stream",
          "name": "stderr",
          "text": [
            "<ipython-input-36-e50c8ca0dd67>:2: DeprecationWarning: DataFrameGroupBy.apply operated on the grouping columns. This behavior is deprecated, and in a future version of pandas the grouping columns will be excluded from the operation. Either pass `include_groups=False` to exclude the groupings or explicitly select the grouping columns after groupby to silence this warning.\n",
            "  grouped_reviews = reviews_df.groupby('parent_asin').apply(lambda x: x.to_dict(orient='records')).to_dict()\n"
          ]
        }
      ]
    },
    {
      "cell_type": "code",
      "source": [
        "print(filtered_phone[323]['title'])"
      ],
      "metadata": {
        "colab": {
          "base_uri": "https://localhost:8080/"
        },
        "id": "J9kUrxCVIsl4",
        "outputId": "2e0d128e-8ba0-48bb-a944-64e450801f69"
      },
      "execution_count": null,
      "outputs": [
        {
          "output_type": "stream",
          "name": "stdout",
          "text": [
            "BlackBerry KEY2 Black Unlocked GSM Android Smartphone 4G LTE, 64GB\n"
          ]
        }
      ]
    },
    {
      "cell_type": "code",
      "source": [
        "np.save('filtered_phone_w_reviews.npy', filtered_phone)"
      ],
      "metadata": {
        "id": "DZ-rOrbRJPbq"
      },
      "execution_count": null,
      "outputs": []
    },
    {
      "cell_type": "code",
      "source": [],
      "metadata": {
        "id": "yc9f6aNjJhqr"
      },
      "execution_count": null,
      "outputs": []
    },
    {
      "cell_type": "code",
      "source": [],
      "metadata": {
        "id": "RbVPZX2_L-wN"
      },
      "execution_count": null,
      "outputs": []
    },
    {
      "cell_type": "code",
      "source": [],
      "metadata": {
        "id": "HHg9YxulL_DP"
      },
      "execution_count": null,
      "outputs": []
    },
    {
      "cell_type": "markdown",
      "source": [
        "Try to match with phone data: use rapidfuzz to account for potential difference in naming"
      ],
      "metadata": {
        "id": "Kpt2hLV2L_dj"
      }
    },
    {
      "cell_type": "code",
      "source": [
        "!pip install rapidfuzz"
      ],
      "metadata": {
        "colab": {
          "base_uri": "https://localhost:8080/"
        },
        "id": "wwx7R5mXMFSi",
        "outputId": "712f36ef-5cac-470c-9c97-742e48c1665e"
      },
      "execution_count": null,
      "outputs": [
        {
          "output_type": "stream",
          "name": "stdout",
          "text": [
            "Collecting rapidfuzz\n",
            "  Downloading rapidfuzz-3.11.0-cp310-cp310-manylinux_2_17_x86_64.manylinux2014_x86_64.whl.metadata (11 kB)\n",
            "Downloading rapidfuzz-3.11.0-cp310-cp310-manylinux_2_17_x86_64.manylinux2014_x86_64.whl (3.1 MB)\n",
            "\u001b[2K   \u001b[90m━━━━━━━━━━━━━━━━━━━━━━━━━━━━━━━━━━━━━━━━\u001b[0m \u001b[32m3.1/3.1 MB\u001b[0m \u001b[31m25.6 MB/s\u001b[0m eta \u001b[36m0:00:00\u001b[0m\n",
            "\u001b[?25hInstalling collected packages: rapidfuzz\n",
            "Successfully installed rapidfuzz-3.11.0\n"
          ]
        }
      ]
    },
    {
      "cell_type": "code",
      "source": [
        "filtered_df = pd.DataFrame(filtered_phone)"
      ],
      "metadata": {
        "id": "O-iE5YwzMuan"
      },
      "execution_count": null,
      "outputs": []
    },
    {
      "cell_type": "code",
      "source": [
        "import json\n",
        "\n",
        "with open('data.json', 'r', encoding='utf-8') as f:\n",
        "    phone_specs = json.load(f)\n",
        "\n",
        "phone_df = pd.DataFrame(phone_specs)"
      ],
      "metadata": {
        "id": "RNu0es_sM1tX"
      },
      "execution_count": null,
      "outputs": []
    },
    {
      "cell_type": "code",
      "source": [
        "processed_df = pd.read_csv('processed_data2.csv')"
      ],
      "metadata": {
        "id": "ZkZEx8mWNCDI"
      },
      "execution_count": null,
      "outputs": []
    },
    {
      "cell_type": "code",
      "source": [
        "filtered_df = pd.DataFrame(filtered_phone)"
      ],
      "metadata": {
        "id": "McvXdLoAsbVy"
      },
      "execution_count": null,
      "outputs": []
    },
    {
      "cell_type": "code",
      "source": [
        "processed_df = pd.read_csv('processed_data2.csv')"
      ],
      "metadata": {
        "id": "k-lx83J-sccS"
      },
      "execution_count": null,
      "outputs": []
    },
    {
      "cell_type": "code",
      "source": [
        "def normalize_text(text):\n",
        "    \"\"\"\n",
        "    Normalize text by converting to lowercase, removing non-alphanumeric characters, and trimming whitespace.\n",
        "    \"\"\"\n",
        "    if isinstance(text, str):\n",
        "        # remove non-alphanumeric characters except spaces\n",
        "        text = re.sub(r'[^a-zA-Z0-9\\s]', '', text)\n",
        "        # convert to lowercase\n",
        "        text = text.lower().strip()\n",
        "    else:\n",
        "        text = ''\n",
        "    return text"
      ],
      "metadata": {
        "id": "zEzoh5Alse54"
      },
      "execution_count": null,
      "outputs": []
    },
    {
      "cell_type": "code",
      "source": [
        "processed_df['storage_str'] = processed_df['storage'].astype(str) + ' GB'\n",
        "processed_df[['storage', 'storage_str']].head()"
      ],
      "metadata": {
        "colab": {
          "base_uri": "https://localhost:8080/"
        },
        "id": "3-Hbo46avwvm",
        "outputId": "7f66fd21-ca45-42e1-9593-fc848a0f4e13"
      },
      "execution_count": null,
      "outputs": [
        {
          "output_type": "stream",
          "name": "stdout",
          "text": [
            "   storage storage_str\n",
            "0      256      256 GB\n",
            "1      512      512 GB\n",
            "2     1000     1000 GB\n",
            "3      512      512 GB\n",
            "4      128      128 GB\n"
          ]
        }
      ]
    },
    {
      "cell_type": "code",
      "source": [
        "processed_df['phone_brand_norm'] = processed_df['phone_brand'].apply(normalize_text)\n",
        "processed_df['phone_model_norm'] = processed_df['phone_model'].apply(normalize_text)\n",
        "processed_df['storage_str_norm'] = processed_df['storage_str'].apply(normalize_text)\n",
        "\n",
        "processed_df[['phone_brand_norm', 'phone_model_norm', 'storage_str_norm']].head()"
      ],
      "metadata": {
        "colab": {
          "base_uri": "https://localhost:8080/"
        },
        "id": "yWukTFNlsivT",
        "outputId": "23c8e738-489e-4464-80f4-d847f62b29ef"
      },
      "execution_count": null,
      "outputs": [
        {
          "output_type": "stream",
          "name": "stdout",
          "text": [
            "  phone_brand_norm         phone_model_norm storage_str_norm\n",
            "0            apple      apple iphone 16 pro           256 gb\n",
            "1            apple      apple iphone 16 pro           512 gb\n",
            "2            apple      apple iphone 16 pro          1000 gb\n",
            "3            apple  apple iphone 16 pro max           512 gb\n",
            "4            apple     apple iphone 12 mini           128 gb\n"
          ]
        }
      ]
    },
    {
      "cell_type": "code",
      "source": [
        "def standardize_storage(storage):\n",
        "    \"\"\"\n",
        "    Convert storage to standardized 'X GB' format.\n",
        "    Handles variations like '128GB', '128 GB', '128-GB', etc.\n",
        "    \"\"\"\n",
        "    if pd.isnull(storage):\n",
        "        return None\n",
        "    storage_str = str(storage)\n",
        "    # remove any non-digit characters and extract the number\n",
        "    match = re.search(r'(\\d+)', storage_str)\n",
        "    if match:\n",
        "        return f\"{match.group(1)} GB\"\n",
        "    return None\n",
        "\n",
        "processed_df['storage_str_standard'] = processed_df['storage_str'].apply(standardize_storage)\n",
        "\n",
        "processed_df[['storage_str', 'storage_str_standard']].head()"
      ],
      "metadata": {
        "colab": {
          "base_uri": "https://localhost:8080/"
        },
        "id": "x8sOEbvm7FJz",
        "outputId": "8e905b96-8878-4cda-b19a-09d0e39f6fe0"
      },
      "execution_count": null,
      "outputs": [
        {
          "output_type": "stream",
          "name": "stdout",
          "text": [
            "  storage_str storage_str_standard\n",
            "0      256 GB               256 GB\n",
            "1      512 GB               512 GB\n",
            "2     1000 GB              1000 GB\n",
            "3      512 GB               512 GB\n",
            "4      128 GB               128 GB\n"
          ]
        }
      ]
    },
    {
      "cell_type": "code",
      "source": [
        "processed_df['storage_str_norm'] = processed_df['storage_str_standard'].apply(normalize_text)\n"
      ],
      "metadata": {
        "id": "CdgMcywJ7PXu"
      },
      "execution_count": null,
      "outputs": []
    },
    {
      "cell_type": "code",
      "source": [
        "filtered_df['title_norm'] = filtered_df['title'].apply(normalize_text)"
      ],
      "metadata": {
        "id": "gPzxH9BY18ZK"
      },
      "execution_count": null,
      "outputs": []
    },
    {
      "cell_type": "code",
      "source": [
        "# create combined key\n",
        "processed_df['combined_key'] = processed_df['phone_model_norm'] + '_' + processed_df['storage_str_norm']\n",
        "\n",
        "processed_df[['phone_model_norm', 'storage_str_norm', 'combined_key']].head()"
      ],
      "metadata": {
        "colab": {
          "base_uri": "https://localhost:8080/"
        },
        "id": "Gpo3Q2iR2tVm",
        "outputId": "da52ac06-2882-41c7-fb27-02938d5c12f7"
      },
      "execution_count": null,
      "outputs": [
        {
          "output_type": "stream",
          "name": "stdout",
          "text": [
            "          phone_model_norm storage_str_norm                    combined_key\n",
            "0      apple iphone 16 pro           256 gb      apple iphone 16 pro_256 gb\n",
            "1      apple iphone 16 pro           512 gb      apple iphone 16 pro_512 gb\n",
            "2      apple iphone 16 pro          1000 gb     apple iphone 16 pro_1000 gb\n",
            "3  apple iphone 16 pro max           512 gb  apple iphone 16 pro max_512 gb\n",
            "4     apple iphone 12 mini           128 gb     apple iphone 12 mini_128 gb\n"
          ]
        }
      ]
    },
    {
      "cell_type": "code",
      "source": [
        "# check for duplicates\n",
        "duplicate_keys = processed_df['combined_key'].duplicated(keep=False)\n",
        "num_duplicates = duplicate_keys.sum()\n",
        "print(f\"# duplicate combined keys: {num_duplicates}\")\n",
        "\n",
        "if num_duplicates > 0:\n",
        "    duplicates_df = processed_df[processed_df['combined_key'].duplicated(keep=False)]\n",
        "    print(duplicates_df[['phone_model_norm', 'storage_str_norm', 'combined_key']].head(10))"
      ],
      "metadata": {
        "colab": {
          "base_uri": "https://localhost:8080/"
        },
        "id": "2nW5zXDB2xew",
        "outputId": "07f447f5-ca38-47ef-d640-7312fbf6144b"
      },
      "execution_count": null,
      "outputs": [
        {
          "output_type": "stream",
          "name": "stdout",
          "text": [
            "Number of duplicate combined keys: 1591\n",
            "          phone_model_norm storage_str_norm                    combined_key\n",
            "0      apple iphone 16 pro           256 gb      apple iphone 16 pro_256 gb\n",
            "1      apple iphone 16 pro           512 gb      apple iphone 16 pro_512 gb\n",
            "2      apple iphone 16 pro          1000 gb     apple iphone 16 pro_1000 gb\n",
            "3  apple iphone 16 pro max           512 gb  apple iphone 16 pro max_512 gb\n",
            "4     apple iphone 12 mini           128 gb     apple iphone 12 mini_128 gb\n",
            "5     apple iphone 12 mini           256 gb     apple iphone 12 mini_256 gb\n",
            "6     apple iphone 13 mini           256 gb     apple iphone 13 mini_256 gb\n",
            "7     apple iphone 13 mini           512 gb     apple iphone 13 mini_512 gb\n",
            "8          apple iphone xr           128 gb          apple iphone xr_128 gb\n",
            "9          apple iphone xr           256 gb          apple iphone xr_256 gb\n"
          ]
        }
      ]
    },
    {
      "cell_type": "code",
      "source": [
        "# Remove duplicates, keeping the first occurrence\n",
        "processed_df_unique = processed_df.drop_duplicates(subset=['combined_key'], keep='first')\n",
        "print(f\"# entries after removing duplicates: {processed_df_unique.shape[0]}\")"
      ],
      "metadata": {
        "colab": {
          "base_uri": "https://localhost:8080/"
        },
        "id": "adoHqGOp20-L",
        "outputId": "b68e2c73-a422-404b-fd16-1e5f5351f6e2"
      },
      "execution_count": null,
      "outputs": [
        {
          "output_type": "stream",
          "name": "stdout",
          "text": [
            "Number of entries after removing duplicates: 600\n"
          ]
        }
      ]
    },
    {
      "cell_type": "code",
      "source": [
        "processed_df_unique.to_csv('kaggle_no_duplicate.csv')"
      ],
      "metadata": {
        "id": "4W_XB5-h9O3K"
      },
      "execution_count": null,
      "outputs": []
    },
    {
      "cell_type": "code",
      "source": [
        "# create dict\n",
        "phone_specs_dict = processed_df_unique.set_index('combined_key').to_dict('index')\n",
        "\n",
        "sample_key = 'samsung galaxy s20 5g_128 gb'\n",
        "print(phone_specs_dict.get(sample_key, 'not found'))"
      ],
      "metadata": {
        "colab": {
          "base_uri": "https://localhost:8080/"
        },
        "id": "PyyGhNg84LKA",
        "outputId": "b0a70c28-d880-4681-9c1c-1c520e6012a5"
      },
      "execution_count": null,
      "outputs": [
        {
          "output_type": "stream",
          "name": "stdout",
          "text": [
            "{'phone_brand': 'samsung', 'phone_model': 'Samsung Galaxy S20 5G', 'store': 'Amazon DE', 'price_usd': 376.92, 'storage': 128, 'ram': 12, 'launch_date': '2020-03-06', 'dimensions': '151.7 x 69.1 x 7.9 mm (5.97 x 2.72 x 0.31 in)', 'weight': 163.0, 'display_type': 'Dynamic AMOLED 2X, 120Hz, HDR10+, 1200 nits (peak)', 'display_size': 6.2, 'display_resolution': '1440 x 3200', 'os': 'Android 10, upgradable to Android 13, One UI 5.1', 'nfc': 1, 'usb': 'USB Type-C 3.2, OTG', 'battery': 4000, 'features_sensors': 'Fingerprint (under display, ultrasonic), accelerometer, gyro, proximity, compass, barometer', 'colors': 'Cosmic Grey, Cloud Blue, Cloud Pink, Cloud White, Aura Red', 'video': '8K@24fps, 4K@30/60fps, 1080p@30/60/240fps, 720p@960fps, HDR10+, stereo sound rec., gyro-EIS & OIS', 'chipset': 'Exynos 990 (7 nm+) - Global', 'cpu': 'Octa-core (2x2.73 GHz Mongoose M5 & 2x2.50 GHz Cortex-A76 & 4x2.0 GHz Cortex-A55) - Global', 'gpu': 'Mali-G77 MP11 - Global', 'year': '2020-01-01', 'foldable': 0, 'ppi_density': 563, 'quantile_10': 100.8, 'quantile_50': 196.81, 'quantile_90': 491.512, 'price_range': 'medium price', 'os_type': 'Android', 'os_version': '10', 'battery_size': 'Medium', 'colors_available': 5, 'chip_company': 'Exynos', 'cpu_core': 'Octa-core', 'gpu_company': 'Mali', 'fingerprint': 'under', 'video_resolution': '8K', 'storage_str': '128 GB', 'phone_brand_norm': 'samsung', 'phone_model_norm': 'samsung galaxy s20 5g', 'storage_str_norm': '128 gb', 'storage_str_standard': '128 GB'}\n"
          ]
        }
      ]
    },
    {
      "cell_type": "code",
      "source": [
        "# the following is to address containing (eg iPhone 14 Pro and iPhone 14)"
      ],
      "metadata": {
        "id": "bKNXL20R4QQu"
      },
      "execution_count": null,
      "outputs": []
    },
    {
      "cell_type": "code",
      "source": [
        "processed_df_unique['model_length'] = processed_df_unique['phone_model_norm'].apply(len)\n",
        "\n",
        "# sort by length in descending order\n",
        "processed_df_unique_sorted = processed_df_unique.sort_values(by='model_length', ascending=False)\n",
        "\n",
        "processed_df_unique_sorted['combined_key'] = processed_df_unique_sorted['phone_model_norm'] + '_' + processed_df_unique_sorted['storage_str_norm']\n",
        "\n",
        "phone_specs_dict_sorted = processed_df_unique_sorted.set_index('combined_key').to_dict('index')"
      ],
      "metadata": {
        "colab": {
          "base_uri": "https://localhost:8080/"
        },
        "id": "mL_j59Pg4xxJ",
        "outputId": "c779c5d6-a92d-4306-b165-a350aac3db63"
      },
      "execution_count": null,
      "outputs": [
        {
          "output_type": "stream",
          "name": "stderr",
          "text": [
            "<ipython-input-120-47a1265415cb>:2: SettingWithCopyWarning: \n",
            "A value is trying to be set on a copy of a slice from a DataFrame.\n",
            "Try using .loc[row_indexer,col_indexer] = value instead\n",
            "\n",
            "See the caveats in the documentation: https://pandas.pydata.org/pandas-docs/stable/user_guide/indexing.html#returning-a-view-versus-a-copy\n",
            "  processed_df_unique['model_length'] = processed_df_unique['phone_model_norm'].apply(len)\n"
          ]
        }
      ]
    },
    {
      "cell_type": "code",
      "source": [
        "def match_title_to_specs_flexible(title, phone_specs_dict_sorted):\n",
        "    \"\"\"\n",
        "    Match a title to the corresponding specifications based on phone_model and storage_str.\n",
        "    Allows flexibility in the order and formatting of phone_model and storage_str in the title.\n",
        "\n",
        "    Parameters:\n",
        "    - title (str): The product title from filtered_phone.\n",
        "    - phone_specs_dict_sorted (dict): The lookup dictionary sorted by model length.\n",
        "\n",
        "    Returns:\n",
        "    - dict or None: The matched specifications or None if no match is found.\n",
        "    \"\"\"\n",
        "    normalized_title = normalize_text(title)\n",
        "\n",
        "    for combined_key, specs in phone_specs_dict_sorted.items():\n",
        "        model_norm, storage_norm = combined_key.rsplit('_', 1)\n",
        "\n",
        "        # regex patterns with word boundaries\n",
        "        model_pattern = r'\\b' + re.escape(model_norm) + r'\\b'\n",
        "        storage_patterns = [\n",
        "            r'\\b' + re.escape(storage_norm) + r'\\b',       # e.g., '128 gb'\n",
        "            r'\\b' + re.escape(storage_norm.replace(' ', '')) + r'\\b',  # e.g., '128gb'\n",
        "            r'\\b' + re.escape(storage_norm.replace(' ', '-')) + r'\\b'   # e.g., '128-GB'\n",
        "        ]\n",
        "\n",
        "        if not re.search(model_pattern, normalized_title):\n",
        "            continue\n",
        "\n",
        "        storage_match = any(re.search(pattern, normalized_title) for pattern in storage_patterns)\n",
        "        if storage_match:\n",
        "            return specs  # return first match\n",
        "\n",
        "    return None"
      ],
      "metadata": {
        "id": "MPhkluV44zgc"
      },
      "execution_count": null,
      "outputs": []
    },
    {
      "cell_type": "code",
      "source": [
        "matched_specs_list = []\n",
        "\n",
        "for index, row in filtered_df.iterrows():\n",
        "    title = row['title']\n",
        "    matched_specs = match_title_to_specs_flexible(title, phone_specs_dict_sorted)\n",
        "    matched_specs_list.append(matched_specs)\n",
        "\n",
        "filtered_df['matched_specs'] = matched_specs_list\n",
        "\n",
        "for idx, specs in enumerate(filtered_df['matched_specs']):\n",
        "    filtered_phone[idx]['matched_specs'] = specs"
      ],
      "metadata": {
        "id": "fYrlxKi443qc"
      },
      "execution_count": null,
      "outputs": []
    },
    {
      "cell_type": "code",
      "source": [
        "len(matched_specs_list)"
      ],
      "metadata": {
        "colab": {
          "base_uri": "https://localhost:8080/"
        },
        "id": "5hTDsXuGACjP",
        "outputId": "771495ef-1cd1-4224-8b58-668b4d11bd13"
      },
      "execution_count": null,
      "outputs": [
        {
          "output_type": "execute_result",
          "data": {
            "text/plain": [
              "2796"
            ]
          },
          "metadata": {},
          "execution_count": 149
        }
      ]
    },
    {
      "cell_type": "code",
      "source": [
        "matched_specs_list = filtered_df['matched_specs'].tolist()\n",
        "\n",
        "matched_phone = [\n",
        "    {'phone': phone, 'specs': specs}\n",
        "    for phone, specs in zip(filtered_phone, matched_specs_list)\n",
        "    if specs is not None\n",
        "]"
      ],
      "metadata": {
        "id": "RiwRIJ-Z-GFg"
      },
      "execution_count": null,
      "outputs": []
    },
    {
      "cell_type": "code",
      "source": [
        "matched_phone[0]['phone']"
      ],
      "metadata": {
        "colab": {
          "base_uri": "https://localhost:8080/"
        },
        "id": "UFEBfIIyAbp1",
        "outputId": "cc76fa3e-dff1-4b09-a11d-aa816cc1ea44"
      },
      "execution_count": null,
      "outputs": [
        {
          "output_type": "execute_result",
          "data": {
            "text/plain": [
              "{'main_category': 'Cell Phones & Accessories',\n",
              " 'title': 'Samsung Galaxy S20 5G Factory Unlocked Android Smartphone SM-G981U US Version | Fingerprint ID & Facial Recognition | Long-Lasting Battery (Cosmic Gray, 128GB)',\n",
              " 'average_rating': 4.1,\n",
              " 'rating_number': 53,\n",
              " 'features': ['2G GSM 850, 900, 1800, 1900, CDMA 800, 1900, 3G UMTS B1(2100), B2(1900), B4(AWS), B5(850), B8(900), 3G CDMA BC0(800),BC1(1900),BC10(800), 4G LTE: B1, 2 3, 4, 5, 7, 8, 12, 13, 14, 18, 19, 20, 25, 26, 28, 29, 30, 38, 39, 40, 41, 46, 48, 66, 71, 5G: 2, 5, 41, 66, 71 SA/NSA/Sub6 - Single SIM (ensure to check compatibility with your carrier before purchase)',\n",
              "  '6.2\" Dynamic AMOLED 2X, 120Hz, HDR10+, 1200 nits, 1440 x 3200 pixels, 4000mAh Battery',\n",
              "  '128GB 12GB RAM, Qualcomm SM8250 Snapdragon 865 (7nm+), Octa-core, Adreno 650',\n",
              "  'Rear Camera: 64 MP, f/2.0 + 12 MP, f/1.8 + 12 MP, f/2.2, Front Camera: 10 MP, f/2.2',\n",
              "  'US model with Warranty and US 5G / Global 4G LTE. Compatible with Most GSM and CDMA Carriers like T-Mobile, AT&T, MetroPCS, etc. Will Also work with CDMA Carriers Such as Verizon, Sprint.'],\n",
              " 'description': ['More camera, more power, more fun – in a slim, balanced form. Create anywhere on the sleek, powerful Galaxy S20 5G with an expansive 6. 2” Infinity-O display and radical new 30x Space Zoom. Galaxy S20 5G’s modern design gives you an immersive, cinema-quality experience with next-level functionality. Take pro-quality, hi-res images and video with a groundbreaking 64MP camera and full system of studio lenses with super stabilization. Features like the Single Take AI make it quick and easy to capture multiple photos and video with a single tap. Zoom in close, even from 100 feet away, and capture crisp images at night, even without flash, with Bright Night mode. Share your content in real time with double-tap sharing and get hours of power from minutes of charge with Super Fast Charging. Galaxy S20 5G’s intelligent battery lasts all day to power every scroll, click, call, tap, playlist and season finale. Do more of what you love with the device that gives you more. 2G GSM 850, 900, 1800, 1900, CDMA 800, 1900, 3G UMTS B1(2100), B2(1900), B4(AWS), B5(850), B8(900), 3G CDMA BC0(800),BC1(1900),BC10(800), 4G LTE: B1(2100), B2(1900), B3(1800), B4(AWS), B5(850), B7(2600), B8(900), B12(700), B13(700), B14(700), B18(800), B19(800), B20(800), B25(1900), B26(850), B28(700), B29(700), B30(2300), B38(2600), B39(1900), B40(2300), B41(2500), B46(5200), B48(3600), B66(AWS-3), B71(600), 5G: 2, 5, 41, 66, 71 SA/NSA/Sub6 - Single SIM (ensure to check compatibility with your carrier before purchase)'],\n",
              " 'price': '432.91',\n",
              " 'images': {'hi_res': ['https://m.media-amazon.com/images/I/61XsDK3-1hL._AC_SL1000_.jpg',\n",
              "   'https://m.media-amazon.com/images/I/61UvOsa00TL._AC_SL1000_.jpg',\n",
              "   'https://m.media-amazon.com/images/I/61yXXlkU9nL._AC_SL1000_.jpg',\n",
              "   'https://m.media-amazon.com/images/I/41cSFuDAVAL._AC_SL1000_.jpg',\n",
              "   'https://m.media-amazon.com/images/I/61DWhogl5AL._AC_SL1000_.jpg',\n",
              "   'https://m.media-amazon.com/images/I/51W9YB6SAcL._AC_SL1000_.jpg'],\n",
              "  'large': ['https://m.media-amazon.com/images/I/41REdLm-mJL._AC_.jpg',\n",
              "   'https://m.media-amazon.com/images/I/51H0sBUO68L._AC_.jpg',\n",
              "   'https://m.media-amazon.com/images/I/41-6agUHIZL._AC_.jpg',\n",
              "   'https://m.media-amazon.com/images/I/21vVYjCkZXL._AC_.jpg',\n",
              "   'https://m.media-amazon.com/images/I/41mBdqMTh-L._AC_.jpg',\n",
              "   'https://m.media-amazon.com/images/I/41MpC2ytN+L._AC_.jpg'],\n",
              "  'thumb': ['https://m.media-amazon.com/images/I/41REdLm-mJL._AC_SR38,50_.jpg',\n",
              "   'https://m.media-amazon.com/images/I/51H0sBUO68L._AC_SR38,50_.jpg',\n",
              "   'https://m.media-amazon.com/images/I/41-6agUHIZL._AC_SR38,50_.jpg',\n",
              "   'https://m.media-amazon.com/images/I/21vVYjCkZXL._AC_SR38,50_.jpg',\n",
              "   'https://m.media-amazon.com/images/I/41mBdqMTh-L._AC_SR38,50_.jpg',\n",
              "   'https://m.media-amazon.com/images/I/41MpC2ytN+L._AC_SR38,50_.jpg'],\n",
              "  'variant': ['MAIN', 'PT01', 'PT02', 'PT03', 'PT04', 'PT05']},\n",
              " 'videos': {'title': ['Top 10 Unknown Galaxy S20 Ultra Camera Features!',\n",
              "   'Samsung Galaxy S20 FE review',\n",
              "   'Samsung Galaxy S20 FE Real-World Test',\n",
              "   'Samsung Galaxy S20 Ultra 5G review',\n",
              "   'Samsung Galaxy S20 Plus',\n",
              "   'Is the Samsung Galaxy S20 Ultra ULTRA enough?? (Review!)',\n",
              "   'GALAXY S20 unboxing and comparison!',\n",
              "   'Samsung Galaxy a53 5g Pros & Cons!',\n",
              "   'Galaxy S20 on Amazon renewed',\n",
              "   'S20 Fe device '],\n",
              "  'url': ['https://www.amazon.com/vdp/cdba4cefd9ca445aaf18d164c8453af0?ref=dp_vse_rvc_0',\n",
              "   'https://www.amazon.com/vdp/0a9e1d3dc09b4a87858bad6e9e0b8fb9?ref=dp_vse_rvc_1',\n",
              "   'https://www.amazon.com/vdp/29e0da43a7fc47798fe0adb3c2a7979f?ref=dp_vse_rvc_2',\n",
              "   'https://www.amazon.com/vdp/89862a445bfb4f7da1041ecb228fb4af?ref=dp_vse_rvc_3',\n",
              "   'https://www.amazon.com/vdp/ffe3b6b926a14fe4bd1eea4ef9263c37?ref=dp_vse_rvc_4',\n",
              "   'https://www.amazon.com/vdp/5f7b7642f8bb43588f9b961f2fe7107f?ref=dp_vse_rvc_5',\n",
              "   'https://www.amazon.com/vdp/f6674bb322484f3e98bf3a197cbb22fb?ref=dp_vse_rvc_6',\n",
              "   'https://www.amazon.com/vdp/0182cff7495d40db8bda371eb6a246e9?ref=dp_vse_rvc_7',\n",
              "   'https://www.amazon.com/vdp/527172573e524acf801cf707dadf743c?ref=dp_vse_rvc_8',\n",
              "   'https://www.amazon.com/vdp/04bd2083c87c4ba3903b774e32133a80?ref=dp_vse_rvc_9'],\n",
              "  'user_id': ['/shop/influencer-b7e37734',\n",
              "   '',\n",
              "   '/shop/theunlockr',\n",
              "   '',\n",
              "   '',\n",
              "   'AHI2ZCHZUCSPI6MU4UIYBSZWC43A',\n",
              "   'AFLK54SKKKH3WGTYF3VJ6EIR3Q2A',\n",
              "   '/shop/influencer-153a9062',\n",
              "   '/shop/travismcp',\n",
              "   '/shop/marcos']},\n",
              " 'store': 'SAMSUNG',\n",
              " 'categories': ['Cell Phones & Accessories', 'Cell Phones'],\n",
              " 'details': '{\"Product Dimensions\": \"2.7 x 0.3 x 6 inches\", \"Item Weight\": \"1.2 pounds\", \"Batteries\": \"1 Lithium Ion batteries required.\", \"OS\": \"android\", \"Wireless communication technologies\": \"Cellular\", \"Connectivity technologies\": \"Wi-Fi\", \"Display technology\": \"AMOLED\", \"Other display features\": \"Wireless\", \"Human Interface Input\": \"Buttons\", \"Other camera features\": \"Front\", \"Form Factor\": \"Smartphone\", \"Color\": \"Cosmic Gray\", \"Battery Power Rating\": \"4000 Milliamp Hours\", \"Whats in the box\": \"Data Cable, Cling, STD Battery\", \"Manufacturer\": \"Samsung\", \"Date First Available\": \"June 16, 2020\", \"Brand\": \"SAMSUNG\", \"Model Name\": \"Samsung Galaxy S20\", \"Wireless Carrier\": \"T-Mobile\", \"Cellular Technology\": \"5G\", \"Memory Storage Capacity\": \"128 GB\", \"Screen Size\": \"2 Inches\", \"Wireless network technology\": \"GSM, UMTS, CDMA, LTE\"}',\n",
              " 'parent_asin': 'B0BWTWDVM4',\n",
              " 'bought_together': None,\n",
              " 'subtitle': None,\n",
              " 'author': None,\n",
              " 'label': 0,\n",
              " 'reviews': [{'rating': 3.0,\n",
              "   'title': 'Nice smartphone but not good',\n",
              "   'text': \"The biometric recognitions work 50/50. The face recognition works little bit better than the finger print. Lucky I use the four features code that save me in most of the time.<br />The phone does not support IP68 and the front screen glass is not tempered glass as Samsung writing! this is a fact that many can testify the same.<br />I like to emphasize that Samsung no longer providing human support and running from them own commitments, they don't respect them own statements especially the tempered glass and water resistance (IP68).\",\n",
              "   'images': array([], dtype=object),\n",
              "   'asin': 'B08XYDQQGX',\n",
              "   'parent_asin': 'B0BWTWDVM4',\n",
              "   'user_id': 'AF2GJFMTYCLM3Z5ZQ6ZPC7BXEXDQ',\n",
              "   'timestamp': 1638662844031,\n",
              "   'helpful_vote': 4,\n",
              "   'verified_purchase': True},\n",
              "  {'rating': 4.0,\n",
              "   'title': 'Pretty Good',\n",
              "   'text': 'I like the looks of this phone but the texting is not as good as my old Samsung S4.  I bought a new phone because a virus got in my phone, just about destroyed it.  My husband still has his old S4 and works great after 7 years.  This S20 works good though',\n",
              "   'images': array([], dtype=object),\n",
              "   'asin': 'B08XYDQQGX',\n",
              "   'parent_asin': 'B0BWTWDVM4',\n",
              "   'user_id': 'AGHJCUSDVVASQ6XMROLLE36N7QHQ',\n",
              "   'timestamp': 1642703574326,\n",
              "   'helpful_vote': 0,\n",
              "   'verified_purchase': True},\n",
              "  {'rating': 5.0,\n",
              "   'title': 'Great Phone!',\n",
              "   'text': 'Bought from Cellmingo. Came brand new with everything! Would definitely recommend!',\n",
              "   'images': array([], dtype=object),\n",
              "   'asin': 'B08XYDQQGX',\n",
              "   'parent_asin': 'B0BWTWDVM4',\n",
              "   'user_id': 'AEYKU5XPHMZ6JACSZBG2WVHA2S5Q',\n",
              "   'timestamp': 1617151295916,\n",
              "   'helpful_vote': 4,\n",
              "   'verified_purchase': True},\n",
              "  {'rating': 1.0,\n",
              "   'title': 'Used scratched phone when stated it was brand new.',\n",
              "   'text': 'Very disappointed. I would give ut a zero. When I purchased it stated it was brand new. Once receiving it, opened the package the phone had no protective film and scratches all over it and dirty. Definitely a used phone. It took forever to get a return label. Returned it and still waiting on refund.',\n",
              "   'images': array([], dtype=object),\n",
              "   'asin': 'B08B8WWB56',\n",
              "   'parent_asin': 'B0BWTWDVM4',\n",
              "   'user_id': 'AGQQGINQ4M6EA3CZQXMP5QPOQHPA',\n",
              "   'timestamp': 1664399823583,\n",
              "   'helpful_vote': 14,\n",
              "   'verified_purchase': True},\n",
              "  {'rating': 5.0,\n",
              "   'title': 'Samsung Galaxy S20 5G',\n",
              "   'text': 'Pleased with new Samsung phone.',\n",
              "   'images': array([], dtype=object),\n",
              "   'asin': 'B08XYDQQGX',\n",
              "   'parent_asin': 'B0BWTWDVM4',\n",
              "   'user_id': 'AEDLOSPPMCPAOPCUH24V2JR6UBGA',\n",
              "   'timestamp': 1636149617186,\n",
              "   'helpful_vote': 0,\n",
              "   'verified_purchase': True},\n",
              "  {'rating': 1.0,\n",
              "   'title': 'Had the phone 5 weeks and camera is failing.  Missed the return date by one week.  Very unhappy.',\n",
              "   'text': 'Love the new phone but it is useless without a working camera.',\n",
              "   'images': array([], dtype=object),\n",
              "   'asin': 'B08XYDQQGX',\n",
              "   'parent_asin': 'B0BWTWDVM4',\n",
              "   'user_id': 'AEJJVE7PFTBPP42CYM2BSAVLQQLQ',\n",
              "   'timestamp': 1635629803325,\n",
              "   'helpful_vote': 3,\n",
              "   'verified_purchase': True},\n",
              "  {'rating': 5.0,\n",
              "   'title': 'Love it!',\n",
              "   'text': 'Had this phone for a while now and absolutely love it. The battery life is great as well as the other features in the phone. I upgraded from my Samsung Galaxy S7 so this is a perfect upgrade for me.',\n",
              "   'images': array([], dtype=object),\n",
              "   'asin': 'B08XYDQQGX',\n",
              "   'parent_asin': 'B0BWTWDVM4',\n",
              "   'user_id': 'AHMFFUZG5NT32FPZPMY2PV3ESNBA',\n",
              "   'timestamp': 1626235497253,\n",
              "   'helpful_vote': 4,\n",
              "   'verified_purchase': True},\n",
              "  {'rating': 1.0,\n",
              "   'title': \"Item was defective. Couldn't see my SIM card.\",\n",
              "   'text': 'See title',\n",
              "   'images': array([], dtype=object),\n",
              "   'asin': 'B08XYDQQGX',\n",
              "   'parent_asin': 'B0BWTWDVM4',\n",
              "   'user_id': 'AFV6BTDNKQFFDGY3N6BQOXJ6QUXA',\n",
              "   'timestamp': 1633167041407,\n",
              "   'helpful_vote': 7,\n",
              "   'verified_purchase': True},\n",
              "  {'rating': 5.0,\n",
              "   'title': 'Love my phone',\n",
              "   'text': 'Love my phone.  Holds charge and does everything I need.  Great camera.  I like the thinner profile as well.',\n",
              "   'images': array([], dtype=object),\n",
              "   'asin': 'B08XYDQQGX',\n",
              "   'parent_asin': 'B0BWTWDVM4',\n",
              "   'user_id': 'AH7CCRZT6SOOZTW72GXWV4TPVPPA',\n",
              "   'timestamp': 1643403848230,\n",
              "   'helpful_vote': 0,\n",
              "   'verified_purchase': True}],\n",
              " 'matched_specs': {'phone_brand': 'samsung',\n",
              "  'phone_model': 'Samsung Galaxy S20 5G',\n",
              "  'store': 'Amazon DE',\n",
              "  'price_usd': 376.92,\n",
              "  'storage': 128,\n",
              "  'ram': 12,\n",
              "  'launch_date': '2020-03-06',\n",
              "  'dimensions': '151.7 x 69.1 x 7.9 mm (5.97 x 2.72 x 0.31 in)',\n",
              "  'weight': 163.0,\n",
              "  'display_type': 'Dynamic AMOLED 2X, 120Hz, HDR10+, 1200 nits (peak)',\n",
              "  'display_size': 6.2,\n",
              "  'display_resolution': '1440 x 3200',\n",
              "  'os': 'Android 10, upgradable to Android 13, One UI 5.1',\n",
              "  'nfc': 1,\n",
              "  'usb': 'USB Type-C 3.2, OTG',\n",
              "  'battery': 4000,\n",
              "  'features_sensors': 'Fingerprint (under display, ultrasonic), accelerometer, gyro, proximity, compass, barometer',\n",
              "  'colors': 'Cosmic Grey, Cloud Blue, Cloud Pink, Cloud White, Aura Red',\n",
              "  'video': '8K@24fps, 4K@30/60fps, 1080p@30/60/240fps, 720p@960fps, HDR10+, stereo sound rec., gyro-EIS & OIS',\n",
              "  'chipset': 'Exynos 990 (7 nm+) - Global',\n",
              "  'cpu': 'Octa-core (2x2.73 GHz Mongoose M5 & 2x2.50 GHz Cortex-A76 & 4x2.0 GHz Cortex-A55) - Global',\n",
              "  'gpu': 'Mali-G77 MP11 - Global',\n",
              "  'year': '2020-01-01',\n",
              "  'foldable': 0,\n",
              "  'ppi_density': 563,\n",
              "  'quantile_10': 100.8,\n",
              "  'quantile_50': 196.81,\n",
              "  'quantile_90': 491.512,\n",
              "  'price_range': 'medium price',\n",
              "  'os_type': 'Android',\n",
              "  'os_version': '10',\n",
              "  'battery_size': 'Medium',\n",
              "  'colors_available': 5,\n",
              "  'chip_company': 'Exynos',\n",
              "  'cpu_core': 'Octa-core',\n",
              "  'gpu_company': 'Mali',\n",
              "  'fingerprint': 'under',\n",
              "  'video_resolution': '8K',\n",
              "  'storage_str': '128 GB',\n",
              "  'phone_brand_norm': 'samsung',\n",
              "  'phone_model_norm': 'samsung galaxy s20 5g',\n",
              "  'storage_str_norm': '128 gb',\n",
              "  'storage_str_standard': '128 GB',\n",
              "  'model_length': 21}}"
            ]
          },
          "metadata": {},
          "execution_count": 163
        }
      ]
    },
    {
      "cell_type": "code",
      "source": [
        "a = filtered_df['matched_specs'].notnull()\n",
        "matched = filtered_df['matched_specs'][a]"
      ],
      "metadata": {
        "id": "aME16KOA5S8f"
      },
      "execution_count": null,
      "outputs": []
    },
    {
      "cell_type": "code",
      "source": [
        "len(matched)"
      ],
      "metadata": {
        "colab": {
          "base_uri": "https://localhost:8080/"
        },
        "id": "qcXdCAoB5Yby",
        "outputId": "42ddb7c4-76de-4bb7-f1b0-02a04eb493d6"
      },
      "execution_count": null,
      "outputs": [
        {
          "output_type": "execute_result",
          "data": {
            "text/plain": [
              "438"
            ]
          },
          "metadata": {},
          "execution_count": 128
        }
      ]
    },
    {
      "cell_type": "code",
      "source": [
        "matched.to_csv('matched.csv')"
      ],
      "metadata": {
        "id": "rNOztLN98W4t"
      },
      "execution_count": null,
      "outputs": []
    },
    {
      "cell_type": "code",
      "source": [
        "matched[3]"
      ],
      "metadata": {
        "colab": {
          "base_uri": "https://localhost:8080/"
        },
        "id": "EnZvh9TJ84uM",
        "outputId": "0fc03ffa-db93-451a-bd30-daba2ff8af14"
      },
      "execution_count": null,
      "outputs": [
        {
          "output_type": "execute_result",
          "data": {
            "text/plain": [
              "{'phone_brand': 'samsung',\n",
              " 'phone_model': 'Samsung Galaxy S20 5G',\n",
              " 'store': 'Amazon DE',\n",
              " 'price_usd': 376.92,\n",
              " 'storage': 128,\n",
              " 'ram': 12,\n",
              " 'launch_date': '2020-03-06',\n",
              " 'dimensions': '151.7 x 69.1 x 7.9 mm (5.97 x 2.72 x 0.31 in)',\n",
              " 'weight': 163.0,\n",
              " 'display_type': 'Dynamic AMOLED 2X, 120Hz, HDR10+, 1200 nits (peak)',\n",
              " 'display_size': 6.2,\n",
              " 'display_resolution': '1440 x 3200',\n",
              " 'os': 'Android 10, upgradable to Android 13, One UI 5.1',\n",
              " 'nfc': 1,\n",
              " 'usb': 'USB Type-C 3.2, OTG',\n",
              " 'battery': 4000,\n",
              " 'features_sensors': 'Fingerprint (under display, ultrasonic), accelerometer, gyro, proximity, compass, barometer',\n",
              " 'colors': 'Cosmic Grey, Cloud Blue, Cloud Pink, Cloud White, Aura Red',\n",
              " 'video': '8K@24fps, 4K@30/60fps, 1080p@30/60/240fps, 720p@960fps, HDR10+, stereo sound rec., gyro-EIS & OIS',\n",
              " 'chipset': 'Exynos 990 (7 nm+) - Global',\n",
              " 'cpu': 'Octa-core (2x2.73 GHz Mongoose M5 & 2x2.50 GHz Cortex-A76 & 4x2.0 GHz Cortex-A55) - Global',\n",
              " 'gpu': 'Mali-G77 MP11 - Global',\n",
              " 'year': '2020-01-01',\n",
              " 'foldable': 0,\n",
              " 'ppi_density': 563,\n",
              " 'quantile_10': 100.8,\n",
              " 'quantile_50': 196.81,\n",
              " 'quantile_90': 491.512,\n",
              " 'price_range': 'medium price',\n",
              " 'os_type': 'Android',\n",
              " 'os_version': '10',\n",
              " 'battery_size': 'Medium',\n",
              " 'colors_available': 5,\n",
              " 'chip_company': 'Exynos',\n",
              " 'cpu_core': 'Octa-core',\n",
              " 'gpu_company': 'Mali',\n",
              " 'fingerprint': 'under',\n",
              " 'video_resolution': '8K',\n",
              " 'storage_str': '128 GB',\n",
              " 'phone_brand_norm': 'samsung',\n",
              " 'phone_model_norm': 'samsung galaxy s20 5g',\n",
              " 'storage_str_norm': '128 gb',\n",
              " 'storage_str_standard': '128 GB',\n",
              " 'model_length': 21}"
            ]
          },
          "metadata": {},
          "execution_count": 136
        }
      ]
    },
    {
      "cell_type": "code",
      "source": [
        "np.save('matched_phone_complete_corr.npy', matched_phone)"
      ],
      "metadata": {
        "id": "cNrGGLAL9nYY"
      },
      "execution_count": null,
      "outputs": []
    },
    {
      "cell_type": "code",
      "source": [
        "len(matched_phone)"
      ],
      "metadata": {
        "colab": {
          "base_uri": "https://localhost:8080/"
        },
        "id": "Flu7XrdV-TD-",
        "outputId": "1f392e3f-e10b-4be9-a207-9648fe5dbb31"
      },
      "execution_count": null,
      "outputs": [
        {
          "output_type": "execute_result",
          "data": {
            "text/plain": [
              "438"
            ]
          },
          "metadata": {},
          "execution_count": 166
        }
      ]
    },
    {
      "cell_type": "code",
      "source": [],
      "metadata": {
        "id": "72p3y2CiJw4j"
      },
      "execution_count": null,
      "outputs": []
    }
  ]
}